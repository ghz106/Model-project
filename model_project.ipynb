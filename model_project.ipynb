{
 "cells": [
  {
   "cell_type": "code",
   "execution_count": 52,
   "id": "23d0f818-068f-427d-9ba3-bd55a1885f8f",
   "metadata": {},
   "outputs": [
    {
     "name": "stdout",
     "output_type": "stream",
     "text": [
      "The autoreload extension is already loaded. To reload it, use:\n",
      "  %reload_ext autoreload\n"
     ]
    }
   ],
   "source": [
    "#Importing the modules and packages to be used in this project\n",
    "import numpy as np\n",
    "import sympy as sm\n",
    "import matplotlib.pyplot as plt\n",
    "import ipywidgets as widgets\n",
    "from ipywidgets import interactive\n",
    "plt.style.use('seaborn-whitegrid')\n",
    "from scipy import optimize\n",
    "\n",
    "import model_project as mp\n",
    "%load_ext autoreload\n",
    "%autoreload 2"
   ]
  },
  {
   "cell_type": "markdown",
   "id": "321f5d8e-b3b6-4112-9800-d03f0db30abe",
   "metadata": {},
   "source": [
    "In this model project we want to solve the Solow model with human capital. We take the model from 'Introducing Advanced Macroeconomics - Growth and Business Cycles'. 3 edition 2022, Sørensen, Peter Birch and Whitta-Jacobsen, Hans Jørgen."
   ]
  },
  {
   "cell_type": "markdown",
   "id": "9969c67b-a2d2-44b0-94b1-230df9d48093",
   "metadata": {},
   "source": [
    "The Solow model with human capital from Mankiw, Weil and Romer is an extenstion of the general Solow model, that helps explain why international investments does not flow to poorer countries as predicted by the general Solow model. The modification finds itself in the addition of human capital, which is mostly measured as years of education and experience in general, and sheds greater light on why some countries are rich and some are poor. "
   ]
  },
  {
   "cell_type": "markdown",
   "id": "c5d02719-7ebe-4159-828c-0c3494438544",
   "metadata": {},
   "source": [
    "# The baseline model"
   ]
  },
  {
   "cell_type": "code",
   "execution_count": 2,
   "id": "2623643e-c4e2-4a4d-b8ae-e3a3028b13ed",
   "metadata": {},
   "outputs": [],
   "source": [
    "#First we define all the parameters and variables using sympy\n",
    "Y, K, alpha, H, phi, A, L, y, r, w, n, g, K1, sk, sh, H1, delta, L1, A1, tau, h_tilde, h_tilde1, k_tilde, k_tilde1,\\\n",
    "k_tilde_star, h_tilde_star, y_star, Y_ex, K_ex, alpha_ex, H_ex, phi_ex, A_ex, L_ex, y_ex, n_ex, g_ex, K1_ex, sk_ex,\\\n",
    "sh_ex, H1_ex, delta_ex, L1_ex, A1_ex, tau_ex, h_tilde_ex, h_tilde1_ex, k_tilde_ex, k_tilde1_ex, k_tilde_star_ex,\\\n",
    "h_tilde_star_ex, y_star_ex = sm.symbols('Y_t, K_t, alpha, H_t, phi, A_t, L_t, y_t, r_t, w_t, n, g, K_{t+1}, s_K, s_H,\\\n",
    "H_{t+1}, delta, L_{t+1}, A_{t+1}, tau, htilde_t, htilde_t+1, ktilde_t, ktilde_t+1, ktilde^*, htilde^*, y^*, Y_t, K_t,\\\n",
    "alpha, H_t, phi, A_t, L_t, y_t, n, g, K_{t+1}, s_K, s_H, H_{t+1}, delta, L_{t+1}, A_{t+1}, tau, htilde_t,\\\n",
    "htilde_t+1, ktilde_t, ktilde_t+1, ktilde^*, htilde^*, y^*') "
   ]
  },
  {
   "cell_type": "code",
   "execution_count": 3,
   "id": "aeb930bf-e034-49bd-ba17-44208908f327",
   "metadata": {},
   "outputs": [
    {
     "data": {
      "text/latex": [
       "$\\displaystyle Y_{t} = H_{t}^{\\phi} K_{t}^{\\alpha} \\left(A_{t} L_{t}\\right)^{- \\alpha - \\phi + 1}$"
      ],
      "text/plain": [
       "Eq(Y_t, H_t**phi*K_t**alpha*(A_t*L_t)**(-alpha - phi + 1))"
      ]
     },
     "metadata": {},
     "output_type": "display_data"
    },
    {
     "data": {
      "text/latex": [
       "$\\displaystyle r_{t} = \\alpha \\left(\\frac{H_{t}}{A_{t} L_{t}}\\right)^{\\phi} \\left(\\frac{K_{t}}{A_{t} L_{t}}\\right)^{\\alpha - 1}$"
      ],
      "text/plain": [
       "Eq(r_t, alpha*(H_t/(A_t*L_t))**phi*(K_t/(A_t*L_t))**(alpha - 1))"
      ]
     },
     "metadata": {},
     "output_type": "display_data"
    },
    {
     "data": {
      "text/latex": [
       "$\\displaystyle w_{t} = A_{t} \\left(\\frac{H_{t}}{A_{t} L_{t}}\\right)^{\\phi} \\left(\\frac{K_{t}}{A_{t} L_{t}}\\right)^{\\alpha} \\left(1 - \\alpha\\right)$"
      ],
      "text/plain": [
       "Eq(w_t, A_t*(H_t/(A_t*L_t))**phi*(K_t/(A_t*L_t))**alpha*(1 - alpha))"
      ]
     },
     "metadata": {},
     "output_type": "display_data"
    },
    {
     "data": {
      "text/latex": [
       "$\\displaystyle K_{t+1} = K_{t} \\left(1 - \\delta\\right) + Y_{t} s_{K}$"
      ],
      "text/plain": [
       "Eq(K_{t+1}, K_t*(1 - delta) + Y_t*s_K)"
      ]
     },
     "metadata": {},
     "output_type": "display_data"
    },
    {
     "data": {
      "text/latex": [
       "$\\displaystyle H_{t+1} = H_{t} \\left(1 - \\delta\\right) + Y_{t} s_{H}$"
      ],
      "text/plain": [
       "Eq(H_{t+1}, H_t*(1 - delta) + Y_t*s_H)"
      ]
     },
     "metadata": {},
     "output_type": "display_data"
    },
    {
     "data": {
      "text/latex": [
       "$\\displaystyle L_{t+1} = L_{t} \\left(n + 1\\right)$"
      ],
      "text/plain": [
       "Eq(L_{t+1}, L_t*(n + 1))"
      ]
     },
     "metadata": {},
     "output_type": "display_data"
    },
    {
     "data": {
      "text/latex": [
       "$\\displaystyle A_{t+1} = A_{t} \\left(g + 1\\right)$"
      ],
      "text/plain": [
       "Eq(A_{t+1}, A_t*(g + 1))"
      ]
     },
     "metadata": {},
     "output_type": "display_data"
    }
   ],
   "source": [
    "#Here we create all the equations of the model and displays them again using sympy\n",
    "Y_t = sm.Eq(Y, (K**alpha*H**phi)*(A*L)**(1-alpha-phi))\n",
    "r_t = sm.Eq(r, alpha*(K/(A*L))**(alpha-1)*(H/(A*L))**phi)\n",
    "w_t = sm.Eq(w, (1-alpha)*(K/(A*L))**alpha*(H/(A*L))**phi*A)\n",
    "K_t1 = sm.Eq(K1, sk*Y+(1-delta)*K)\n",
    "H_t1 = sm.Eq(H1, sh*Y+(1-delta)*H)\n",
    "L_t1 = sm.Eq(L1, (1+n)*L)\n",
    "A_t1 = sm.Eq(A1, (1+g)*A)\n",
    "display(Y_t, r_t, w_t, K_t1, H_t1, L_t1, A_t1)"
   ]
  },
  {
   "cell_type": "markdown",
   "id": "1fe3ef51-6660-4d07-9734-01314cfdb182",
   "metadata": {},
   "source": [
    "The Solow model with human capital is given with these equations. 1) stating that output is given as a Cobb-Douglas production function. 2 and 3) stating that the real rental rate on capital and real wage is given from the marginalproduct of capital and labour, respectively. 4 and 5) stating the accumulation equation of capital and human capital. 6) stating that labour grows with the exogeneously rate of n. 7) stating that technology grows with the exogeneously rate of g."
   ]
  },
  {
   "cell_type": "markdown",
   "id": "8704d9ce-87ba-4ec1-b9cd-23a20e79fe63",
   "metadata": {},
   "source": [
    "# Solving the model analytically "
   ]
  },
  {
   "cell_type": "markdown",
   "id": "130faee8-2147-412e-a1fb-74080c1b9a92",
   "metadata": {},
   "source": [
    "First we would like to solve the model symbolically with sympy meaning that we define the transition- and Solow equations to thereafter define the steady state values. We begin by deriving the transition equation and thereafter we define the Solow eqautions."
   ]
  },
  {
   "cell_type": "markdown",
   "id": "24d12248-2a31-4d52-bb85-a846366fbec3",
   "metadata": {},
   "source": [
    "The law of motion in the Solow model with human capital can be descibed by the transition- and Solow equations. The transition equation and Solow equations states how all of the parameters in the model move over time and is stated below."
   ]
  },
  {
   "cell_type": "code",
   "execution_count": 4,
   "id": "75fdf672-005c-4607-bb81-1c3ef14fa694",
   "metadata": {},
   "outputs": [
    {
     "data": {
      "text/latex": [
       "$\\displaystyle \\tilde{k}_{t+1} = \\frac{\\left(g + 1\\right) \\left(\\tilde{h}_{t}^{\\phi} \\tilde{k}_{t}^{\\alpha} s_{K} + \\tilde{k}_{t} \\left(1 - \\delta\\right)\\right)}{n + 1}$"
      ],
      "text/plain": [
       "Eq(ktilde_t+1, (g + 1)*(htilde_t**phi*ktilde_t**alpha*s_K + ktilde_t*(1 - delta))/(n + 1))"
      ]
     },
     "metadata": {},
     "output_type": "display_data"
    },
    {
     "data": {
      "text/latex": [
       "$\\displaystyle \\tilde{h}_{t+1} = \\frac{\\left(g + 1\\right) \\left(\\tilde{h}_{t} \\left(1 - \\delta\\right) + \\tilde{h}_{t}^{\\phi} \\tilde{k}_{t}^{\\alpha} s_{H}\\right)}{n + 1}$"
      ],
      "text/plain": [
       "Eq(htilde_t+1, (g + 1)*(htilde_t*(1 - delta) + htilde_t**phi*ktilde_t**alpha*s_H)/(n + 1))"
      ]
     },
     "metadata": {},
     "output_type": "display_data"
    }
   ],
   "source": [
    "k_trans = sm.Eq(k_tilde1, ((1/(1+n)*(1+g))*(sk*(k_tilde**alpha)*(h_tilde**phi)+(1-delta)*k_tilde)))\n",
    "h_trans = sm.Eq(h_tilde1, ((1/(1+n)*(1+g))*(sh*(k_tilde**alpha)*(h_tilde**phi)+(1-delta)*h_tilde)))\n",
    "display(k_trans, h_trans)"
   ]
  },
  {
   "cell_type": "markdown",
   "id": "bcd5601f-01e8-4196-8cb7-5f230e72422a",
   "metadata": {},
   "source": [
    "The Solow eqautions can be found by subtracting both sides of the equation by $\\tilde{k}_t$ and $\\tilde{h}_t$, respectively. The Solow eqautions therefore become."
   ]
  },
  {
   "cell_type": "code",
   "execution_count": 5,
   "id": "3dae3b28-da28-4e86-b18e-6e01fac51332",
   "metadata": {},
   "outputs": [
    {
     "data": {
      "text/latex": [
       "$\\displaystyle - \\tilde{k}_{t} + \\tilde{k}_{t+1} = \\frac{\\left(g + 1\\right) \\left(\\tilde{h}_{t}^{\\phi} \\tilde{k}_{t}^{\\alpha} s_{K} - \\tilde{k}_{t} \\left(\\delta + g n + g + n\\right)\\right)}{n + 1}$"
      ],
      "text/plain": [
       "Eq(-ktilde_t + ktilde_t+1, (g + 1)*(htilde_t**phi*ktilde_t**alpha*s_K - ktilde_t*(delta + g*n + g + n))/(n + 1))"
      ]
     },
     "metadata": {},
     "output_type": "display_data"
    },
    {
     "data": {
      "text/latex": [
       "$\\displaystyle - \\tilde{h}_{t} + \\tilde{h}_{t+1} = \\frac{\\left(g + 1\\right) \\left(\\tilde{h}_{t}^{\\phi} \\tilde{k}_{t}^{\\alpha} s_{H} - \\tilde{k}_{t} \\left(\\delta + g n + g + n\\right)\\right)}{n + 1}$"
      ],
      "text/plain": [
       "Eq(-htilde_t + htilde_t+1, (g + 1)*(htilde_t**phi*ktilde_t**alpha*s_H - ktilde_t*(delta + g*n + g + n))/(n + 1))"
      ]
     },
     "metadata": {},
     "output_type": "display_data"
    }
   ],
   "source": [
    "k_solow = sm.Eq(k_tilde1-k_tilde, ((1/(1+n)*(1+g))*(sk*(k_tilde**alpha)*(h_tilde**phi)-(n+g+delta+n*g)*k_tilde)))\n",
    "h_solow = sm.Eq(h_tilde1-h_tilde, ((1/(1+n)*(1+g))*(sh*(k_tilde**alpha)*(h_tilde**phi)-(n+g+delta+n*g)*k_tilde)))\n",
    "display(k_solow, h_solow)"
   ]
  },
  {
   "cell_type": "markdown",
   "id": "637e2bd7-b779-49c5-b99d-670945d8acc8",
   "metadata": {},
   "source": [
    "As we know analytically these equations can be solved to find steady state by setting $\\tilde{k}_{t+1}$ and $\\tilde{k}_{t}$ equal to eachother and solving for $\\tilde{k}_{t}$ and the same for $\\tilde{h}_{t+1}$ and $\\tilde{h}_{t}$. That is the same as solving the right hand side and the left hand side in the big parenthesis to be equal to eachother. If this is done we end up with the following steady state values:"
   ]
  },
  {
   "cell_type": "code",
   "execution_count": 6,
   "id": "162c8faf-6704-432a-b113-fdf1d8e68066",
   "metadata": {},
   "outputs": [
    {
     "name": "stdout",
     "output_type": "stream",
     "text": [
      "So physical capital and human capital is in steady state equal to:\n"
     ]
    },
    {
     "data": {
      "text/latex": [
       "$\\displaystyle \\tilde{k}^{*} = \\left(\\frac{s_{H}^{\\phi} s_{K}^{1 - \\phi}}{\\delta + g n + g + n}\\right)^{\\frac{1}{- \\alpha - \\phi + 1}}$"
      ],
      "text/plain": [
       "Eq(ktilde^*, (s_H**phi*s_K**(1 - phi)/(delta + g*n + g + n))**(1/(-alpha - phi + 1)))"
      ]
     },
     "metadata": {},
     "output_type": "display_data"
    },
    {
     "data": {
      "text/latex": [
       "$\\displaystyle \\tilde{h}^{*} = \\left(\\frac{s_{H}^{1 - \\alpha} s_{K}^{\\alpha}}{\\delta + g n + g + n}\\right)^{\\frac{1}{- \\alpha - \\phi + 1}}$"
      ],
      "text/plain": [
       "Eq(htilde^*, (s_H**(1 - alpha)*s_K**alpha/(delta + g*n + g + n))**(1/(-alpha - phi + 1)))"
      ]
     },
     "metadata": {},
     "output_type": "display_data"
    }
   ],
   "source": [
    "k_steady_state = sm.Eq(k_tilde_star, ((sk**(1-phi)*(sh**phi))/(n+g+delta+n*g))**(1/(1-alpha-phi)))\n",
    "h_steady_state = sm.Eq(h_tilde_star, ((sk**(alpha)*(sh**(1-alpha)))/(n+g+delta+n*g))**(1/(1-alpha-phi)))\n",
    "print('So physical capital and human capital is in steady state equal to:')\n",
    "display(k_steady_state, h_steady_state)"
   ]
  },
  {
   "cell_type": "markdown",
   "id": "bfa7718f-5950-42ce-89c8-b721bcc67e52",
   "metadata": {},
   "source": [
    "We can now find ${y^*}$ out of our definition on $\\tilde{y^{*}}$ = $\\frac{y^{*}}{A_{{t}}}$  <=> ${y^*}$ = ${A}_{t}*\\tilde{k^\\alpha}_{t}*\\tilde{h^\\phi}_{t}$"
   ]
  },
  {
   "cell_type": "code",
   "execution_count": 7,
   "id": "12a17d1b-0df3-49de-af94-8b3060041144",
   "metadata": {},
   "outputs": [
    {
     "name": "stdout",
     "output_type": "stream",
     "text": [
      "GDP per worker is in steady state equal to\n"
     ]
    },
    {
     "data": {
      "text/latex": [
       "$\\displaystyle y^{*} = A_{t} \\left(\\frac{s_{H}}{\\delta + g n + g + n}\\right)^{\\frac{\\phi}{- \\alpha - \\phi + 1}} \\left(\\frac{s_{K}}{\\delta + g n + g + n}\\right)^{\\frac{\\alpha}{- \\alpha - \\phi + 1}}$"
      ],
      "text/plain": [
       "Eq(y^*, A_t*(s_H/(delta + g*n + g + n))**(phi/(-alpha - phi + 1))*(s_K/(delta + g*n + g + n))**(alpha/(-alpha - phi + 1)))"
      ]
     },
     "metadata": {},
     "output_type": "display_data"
    }
   ],
   "source": [
    "sk_div = ((sk/(n+g+delta+n*g))**(alpha/(1-alpha-phi))) #For more cleaner code\n",
    "\n",
    "y_steady_state = sm.Eq(y_star, (sk_div*(sh/(n+g+delta+n*g))**(phi/(1-alpha-phi)))*A)\n",
    "print('GDP per worker is in steady state equal to')\n",
    "display(y_steady_state)"
   ]
  },
  {
   "cell_type": "markdown",
   "id": "570c38d6-0db8-4f2e-a3e7-bd177b123572",
   "metadata": {},
   "source": [
    "Now that we have all of our steady state values we can begin to calculate them by sympy for given parameter values.\n",
    "From Weil, Mankiw and Romer (taking from the book) we get the following 'realistic' parameter values for all of our exogenous variables."
   ]
  },
  {
   "cell_type": "code",
   "execution_count": 8,
   "id": "f651c8c2-7961-49b7-92e1-c9283fdb75da",
   "metadata": {},
   "outputs": [],
   "source": [
    "delta = 0.06\n",
    "n = 0\n",
    "g = 0.015\n",
    "alpha = (1/3)\n",
    "phi = (1/3)\n",
    "sk = 0.2\n",
    "sh = 0.15\n",
    "tau = 0.15\n",
    "A = 1 #Most estimates set A to be around 1, so therefore the value that it has"
   ]
  },
  {
   "cell_type": "markdown",
   "id": "45dc8f0b-ebb4-4343-a70c-934c92de9430",
   "metadata": {},
   "source": [
    "Now all there is left to do is to restate the equations, but now with the parameter values as given from above."
   ]
  },
  {
   "cell_type": "code",
   "execution_count": 9,
   "id": "64d9b992-bbc2-479b-969c-2a0a133dd18c",
   "metadata": {},
   "outputs": [
    {
     "name": "stdout",
     "output_type": "stream",
     "text": [
      "With the given parameter values. Physical capital per effective worker is in steady state:\n"
     ]
    },
    {
     "data": {
      "text/latex": [
       "$\\displaystyle \\tilde{k}^{*} = 14.2222222222222$"
      ],
      "text/plain": [
       "Eq(ktilde^*, 14.2222222222222)"
      ]
     },
     "metadata": {},
     "output_type": "display_data"
    },
    {
     "name": "stdout",
     "output_type": "stream",
     "text": [
      "With the given parameter values. Human capital per effective worker is in steady state:\n"
     ]
    },
    {
     "data": {
      "text/latex": [
       "$\\displaystyle \\tilde{h}^{*} = 10.6666666666667$"
      ],
      "text/plain": [
       "Eq(htilde^*, 10.6666666666667)"
      ]
     },
     "metadata": {},
     "output_type": "display_data"
    },
    {
     "name": "stdout",
     "output_type": "stream",
     "text": [
      "With the given parameter values. GDP per worker is in steady state:\n"
     ]
    },
    {
     "data": {
      "text/latex": [
       "$\\displaystyle y^{*} = 5.33333333333333$"
      ],
      "text/plain": [
       "Eq(y^*, 5.33333333333333)"
      ]
     },
     "metadata": {},
     "output_type": "display_data"
    }
   ],
   "source": [
    "sk_div2 = ((sk/(n+g+delta+n*g))**(alpha/(1-alpha-phi))) #For more cleaner code\n",
    "\n",
    "k_steady_state_value = sm.Eq(k_tilde_star, (((sk**(1-phi))*(sh**phi))/(n+g+delta+n*g))**(1/(1-alpha-phi)))\n",
    "h_steady_state_value = sm.Eq(h_tilde_star, (((sk**alpha)*(sh**(1-alpha)))/(n+g+delta+n*g))**(1/(1-alpha-phi)))\n",
    "y_steady_state_value = sm.Eq(y_star, (((sk_div2*((sh/(n+g+delta+n*g))**(phi/(1-alpha-phi))))*A)))\n",
    "print('With the given parameter values. Physical capital per effective worker is in steady state:')\n",
    "display(k_steady_state_value)\n",
    "print('With the given parameter values. Human capital per effective worker is in steady state:')\n",
    "display(h_steady_state_value)\n",
    "print('With the given parameter values. GDP per worker is in steady state:')\n",
    "display(y_steady_state_value)"
   ]
  },
  {
   "cell_type": "markdown",
   "id": "21fb3088-0724-4aeb-9e37-bf8ea9b13e41",
   "metadata": {},
   "source": [
    "Not so weirdly we get a high value of $\\tilde{k^*}$ because of the savings rate on physical capital is higher than on human capital. we do however in the expressions see something odd that is both human capital and physical capital depends on both the savings rate of human capital and the savings rate of physical capital. We find the explaination to that in something called self-reinforcing- and cross effects. The effects can be seen in that a higher savings rate on human capital will infest itself in a higher GDP per (effective) worker which will in itself bring on more savings to both human- and physical capital (cross effect) which will further root itself in higher levels of physical- and human capital and so on(self-reinforcing effects). This will continue for infinty, though the effect will at last become almost equal to 0. That is why we see such a high level of GDP per worker in steady state.  "
   ]
  },
  {
   "cell_type": "markdown",
   "id": "938dab0d-dc03-436e-82f1-59db0b6b13b6",
   "metadata": {},
   "source": [
    "# Interactive phase diagram"
   ]
  },
  {
   "cell_type": "markdown",
   "id": "697edb41-efea-499b-8b33-e5792c7e3cb2",
   "metadata": {},
   "source": [
    "In this section we visualize the transition to steady state via an interactive phase diagram.\n",
    "\n",
    "To be able to draw the phase diagram we must first have the so called nullclines.\n",
    "The nullclines can be isolated from the Solow eqautions as follows"
   ]
  },
  {
   "cell_type": "code",
   "execution_count": 10,
   "id": "d136db96-4eaa-49e1-9bcd-923e769d8ea4",
   "metadata": {},
   "outputs": [
    {
     "data": {
      "text/latex": [
       "$\\displaystyle 0 = \\tilde{h}_{t}^{\\phi} \\tilde{k}_{t}^{\\alpha} s_{K} - \\tilde{k}_{t} \\left(\\delta + g n + g + n\\right)$"
      ],
      "text/plain": [
       "Eq(0, htilde_t**phi*ktilde_t**alpha*s_K - ktilde_t*(delta + g*n + g + n))"
      ]
     },
     "metadata": {},
     "output_type": "display_data"
    },
    {
     "data": {
      "text/latex": [
       "$\\displaystyle 0 = - \\tilde{h}_{t} \\left(\\delta + g n + g + n\\right) + \\tilde{h}_{t}^{\\phi} \\tilde{k}_{t}^{\\alpha} s_{H}$"
      ],
      "text/plain": [
       "Eq(0, -htilde_t*(delta + g*n + g + n) + htilde_t**phi*ktilde_t**alpha*s_H)"
      ]
     },
     "metadata": {},
     "output_type": "display_data"
    }
   ],
   "source": [
    "#First we set the Solow equations equal to 0\n",
    "null_k = sm.Eq(0, ((sk_ex*(k_tilde**alpha_ex)*(h_tilde**phi_ex)-(n_ex+g_ex+delta_ex+n_ex*g_ex)*k_tilde)))\n",
    "null_h = sm.Eq(0, ((sh_ex*(k_tilde**alpha_ex)*(h_tilde**phi_ex)-(n_ex+g_ex+delta_ex+n_ex*g_ex)*h_tilde)))\n",
    "display(null_k, null_h)"
   ]
  },
  {
   "cell_type": "markdown",
   "id": "d6784360-4200-44ae-bd2d-5008787aabca",
   "metadata": {},
   "source": [
    "Now that we have these we can solve for $\\tilde{h}_t$ in both of these equations and we will then get the nullclines"
   ]
  },
  {
   "cell_type": "code",
   "execution_count": 11,
   "id": "9a6eb5ec-5b43-49a2-b1a9-218dec12b037",
   "metadata": {},
   "outputs": [
    {
     "data": {
      "text/latex": [
       "$\\displaystyle \\left(\\frac{\\tilde{k}_{t}^{1 - \\alpha} \\left(\\delta + g n + g + n\\right)}{s_{K}}\\right)^{\\frac{1}{\\phi}}$"
      ],
      "text/plain": [
       "(ktilde_t**(1 - alpha)*(delta + g*n + g + n)/s_K)**(1/phi)"
      ]
     },
     "metadata": {},
     "output_type": "display_data"
    },
    {
     "data": {
      "text/latex": [
       "$\\displaystyle \\left(\\frac{\\tilde{k}_{t}^{\\alpha} s_{H}}{\\delta + g n + g + n}\\right)^{- \\frac{1}{\\phi - 1}}$"
      ],
      "text/plain": [
       "(ktilde_t**alpha*s_H/(delta + g*n + g + n))**(-1/(phi - 1))"
      ]
     },
     "metadata": {},
     "output_type": "display_data"
    }
   ],
   "source": [
    "nullcline_k = sm.solve(null_k, h_tilde)[0]\n",
    "nullcline_h = sm.solve(null_h, h_tilde)[0]\n",
    "display(nullcline_k, nullcline_h)"
   ]
  },
  {
   "cell_type": "markdown",
   "id": "32c941c7-96a5-43f4-ad02-87aee93caab7",
   "metadata": {},
   "source": [
    "These are our so-called nullclines for $\\tilde{k}_t$ and $\\tilde{h}_t$, respectively.\n",
    "It is not so hard to see with realistic parameter values of $\\phi$=$\\alpha$=1/3 that $\\tilde{k}_t$ is a $\\tilde{k}^2$ function and that $\\tilde{h}$ is a $\\tilde{h}^{1/2}$ function, nevertheles we show down below the transition to steady state."
   ]
  },
  {
   "cell_type": "code",
   "execution_count": 72,
   "id": "664bdaff-354c-49e3-bc27-e7d4dda5c61c",
   "metadata": {},
   "outputs": [
    {
     "data": {
      "application/vnd.jupyter.widget-view+json": {
       "model_id": "292f3082cd034168836a03595154302c",
       "version_major": 2,
       "version_minor": 0
      },
      "text/plain": [
       "interactive(children=(FloatSlider(value=0.0, description='$n$', max=0.99, min=-0.99, step=0.05), FloatSlider(v…"
      ]
     },
     "metadata": {},
     "output_type": "display_data"
    }
   ],
   "source": [
    "#a. First we define the two nullclines as functions\n",
    "def nullcline2_k(k, alpha, sk, phi, n, g, delta):\n",
    "    return ((((k**(1-alpha))*(delta+n+g+n*g))/sk)**(1/phi))\n",
    "\n",
    "def nullcline2_h(k, alpha, sh, phi, n, g, delta):\n",
    "    return ((((k**alpha)*sh)/(delta+n+g+n*g))**(-1/(phi-1)))\n",
    "\n",
    "#b. Now we can define the interactive figure\n",
    "def interac_phase(n, g, delta, alpha, phi, sk, sh):\n",
    "\n",
    "    #Restrictions on the model\n",
    "    if alpha+phi >= 1 and sh+sk >= 1:\n",
    "        result = print('$\\alpha+\\varphi$ and $s_H+s_K$ have to be stricly smaller than 1')\n",
    "    elif sh+sk >= 1:\n",
    "        result = print('$s_H+s_K$ has to be stricly smaller than 1')\n",
    "    elif alpha+phi >= 1:\n",
    "        result = print('$\\alpha+\\varphi$ has to be stricly smaller than 1')\n",
    "    elif n+g+delta+n*g <= 0:\n",
    "        result = print('$n+g+\\delta+ng$ has to be strictly greater than $0$')\n",
    "    \n",
    "    #Range for k\n",
    "    k = np.arange(0, 100, 0.1)\n",
    "    \n",
    "    #Figure size in inches\n",
    "    plt.figure(dpi=120)\n",
    "    \n",
    "    plt.xlabel(r'$\\tilde{k}_t$',fontsize=10, color = 'black' )\n",
    "    plt.ylabel(r'$\\tilde{h}_t$', fontsize=10, color = 'black')\n",
    "    plt.title('Figure 1: The Solow diagram with human capital', fontsize=10)\n",
    "    \n",
    "    #Plotting the nullclines\n",
    "    plt.plot(k, nullcline2_k(k, sk, phi, alpha, delta, n, g))\n",
    "    plt.plot(k, nullcline2_h(k, sh, alpha, phi, delta, n, g))\n",
    "\n",
    "    #Plotting the legend\n",
    "    plt.legend((r'$\\left[\\Delta\\tilde{k}_{t}=0\\right]$',\n",
    "                    r'$\\left[\\Delta\\tilde{h}_{t}=0\\right]$'),\n",
    "                   shadow=True, handlelength=1.4, fontsize=10)\n",
    "    \n",
    "    plt.axis([0,20,0,20])\n",
    "    plt.show()\n",
    "\n",
    "#Plotting the figure and interactive slider for the parameter values\n",
    "interactive_plot = interactive(interac_phase, \n",
    "                               sk=widgets.FloatSlider(description='$s_K$', \n",
    "                                                       min=0.1,\n",
    "                                                       max=0.99,\n",
    "                                                       step=0.05,\n",
    "                                                       value=0.20,\n",
    "                                                       continuous_update=True),\n",
    "                               sh=widgets.FloatSlider(description='$s_H$', \n",
    "                                                       min=0.1,\n",
    "                                                       max=0.99,\n",
    "                                                       step=0.05,\n",
    "                                                       value=0.15,\n",
    "                                                       continuous_update=True),\n",
    "                               alpha=widgets.FloatSlider(description='$\\alpha$',\n",
    "                                                         min=0.01,\n",
    "                                                         max=0.99,\n",
    "                                                         step=0.05,\n",
    "                                                         value=(1/3),\n",
    "                                                         continuous_update=True),\n",
    "                               phi=widgets.FloatSlider(description='$\\phi$',\n",
    "                                                         min=0.01,\n",
    "                                                         max=0.99,\n",
    "                                                         step=0.05,\n",
    "                                                         value=(1/3),\n",
    "                                                         continuous_update=True),\n",
    "                               n=widgets.FloatSlider(description='$n$',\n",
    "                                                         min=-0.99,\n",
    "                                                         max=0.99,\n",
    "                                                         step=0.05,\n",
    "                                                         value=0,\n",
    "                                                         continuous_update=True),\n",
    "                               g=widgets.FloatSlider(description='$g$',\n",
    "                                                         min=-0.99,\n",
    "                                                         max=0.99,\n",
    "                                                         step=0.05,\n",
    "                                                         value=0.15,\n",
    "                                                         continuous_update=True),\n",
    "                               delta=widgets.FloatSlider(description='$\\delta$',\n",
    "                                                         min=0.01,\n",
    "                                                         max=0.99,\n",
    "                                                         step=0.05,\n",
    "                                                         value=0.06,\n",
    "                                                         continuous_update=True)\n",
    "                              )\n",
    "                              \n",
    "interactive_plot"
   ]
  },
  {
   "cell_type": "markdown",
   "id": "333b199e-8f0f-4b14-bafd-0bba2a80e6cd",
   "metadata": {},
   "source": [
    "From figure 1 we see the transition towards steady state for both $\\tilde{k}_t$ and $\\tilde{h}_t$.\n",
    "We see that for higher values of $s_K$, $s_H$, $g$, $\\alpha$, and $\\phi$ that $\\tilde{k}_t$ and $\\tilde{h}_t$ takes longer to transition to steady state, if they even transition. That is because for higher values of $\\alpha$ and $\\phi$ the lower the declining marginal product on human- and physical capital is. For higher values of $s_K$ and $s_H$ the more human- and physical capital in the economy there is, and therefore the marginal product of $\\tilde{k}_t$ and $\\tilde{h}_t$ rises and gains higher values, which means that more human- and phsycial capital has to be destroyed in order to achieve a steady state value, which takes longer time. For higher levels of $g$, the more efficient human' and physical capital becomes and therefore the marginal product of human- and physical capital must rise. Lower values of $n$ and $\\delta$ makes the transition take longer aswell, this happens because of less breakage and crowding out of human- and physical capital."
   ]
  },
  {
   "cell_type": "markdown",
   "id": "5649d271-2a03-4b8b-bb32-135a4ab4851c",
   "metadata": {},
   "source": [
    "# Solving the model numerically"
   ]
  },
  {
   "cell_type": "markdown",
   "id": "31b201d4-8ecb-40d7-a382-dbfde77dbe9c",
   "metadata": {},
   "source": [
    "Now that we have solved the model symbolically there is one thing left to do. That is, solve it numerically and compare the two results. We will solve the model numerically by using scipy and we will optimize with an algorithm, were in we will use the bisection algorithm."
   ]
  },
  {
   "cell_type": "markdown",
   "id": "a173a6ec-b471-4ef6-bc04-292885bcb0b0",
   "metadata": {},
   "source": [
    "So as we said we are going to solve the model numerically by using an algorithm. But first, what is an algorithm?\n",
    "An algorithm can be thought off as a recipe to solve a problem, just like when you cook, you use a recipe. An algorithm therefore contains different steps and the one we are going to use is no different.\n",
    "Down below we describe the steps of the alogrithm that we are going to use:"
   ]
  },
  {
   "cell_type": "markdown",
   "id": "986bb95b-1e6a-4776-9c29-f6c84c07e1ec",
   "metadata": {},
   "source": [
    "Before we even start we have to know what we are going to solve.\n",
    "So the problem that we are going to calculate is: Find the roots of the two Solow equations with the given parameter values."
   ]
  },
  {
   "cell_type": "markdown",
   "id": "691a3379-ad4d-49f5-9728-99f5efd45b35",
   "metadata": {},
   "source": [
    "In mathematical terms it is going to look like this:"
   ]
  },
  {
   "cell_type": "code",
   "execution_count": 64,
   "id": "11384c78-1a11-4ce0-88bf-f19ab9f9b2f6",
   "metadata": {},
   "outputs": [
    {
     "name": "stderr",
     "output_type": "stream",
     "text": [
      "/Users/lucasbillot/opt/anaconda3/lib/python3.9/site-packages/sympy/core/relational.py:495: SymPyDeprecationWarning: \n",
      "\n",
      "Eq(expr) with rhs default to 0 has been deprecated since SymPy 1.5.\n",
      "Use Eq(expr, 0) instead. See\n",
      "https://github.com/sympy/sympy/issues/16587 for more info.\n",
      "\n",
      "  SymPyDeprecationWarning(\n"
     ]
    },
    {
     "data": {
      "text/latex": [
       "$\\displaystyle \\tilde{k}_{t} - \\frac{\\left(g + 1\\right) \\left(\\tilde{h}_{t}^{\\phi} \\tilde{k}_{t}^{\\alpha} s_{K} + \\tilde{k}_{t} \\left(1 - \\delta\\right)\\right)}{n + 1} = 0$"
      ],
      "text/plain": [
       "Eq(ktilde_t - (g + 1)*(htilde_t**phi*ktilde_t**alpha*s_K + ktilde_t*(1 - delta))/(n + 1), 0)"
      ]
     },
     "metadata": {},
     "output_type": "display_data"
    },
    {
     "data": {
      "text/latex": [
       "$\\displaystyle \\tilde{h}_{t} - \\frac{\\left(g + 1\\right) \\left(\\tilde{h}_{t} \\left(1 - \\delta\\right) + \\tilde{h}_{t}^{\\phi} \\tilde{k}_{t}^{\\alpha} s_{K}\\right)}{n + 1} = 0$"
      ],
      "text/plain": [
       "Eq(htilde_t - (g + 1)*(htilde_t*(1 - delta) + htilde_t**phi*ktilde_t**alpha*s_K)/(n + 1), 0)"
      ]
     },
     "metadata": {},
     "output_type": "display_data"
    }
   ],
   "source": [
    "sk_sh = ((sk_ex**(1-phi_ex))*(sh_ex**phi_ex)) #For more cleaner code\n",
    "\n",
    "k_ss_num = sm.Eq((k_tilde-((1/(1+n_ex)*(1+g_ex))*(sk_ex*(k_tilde**alpha_ex)*(h_tilde**phi_ex)+(1-delta_ex)*k_tilde))),)\n",
    "h_ss_num = sm.Eq((h_tilde-((1/(1+n_ex)*(1+g_ex))*(sk_ex*(k_tilde**alpha_ex)*(h_tilde**phi_ex)+(1-delta_ex)*h_tilde))),)\n",
    "display(k_ss_num, h_ss_num)"
   ]
  },
  {
   "cell_type": "markdown",
   "id": "4851fdf3-8fa1-4c0b-98d5-ca62d4629433",
   "metadata": {},
   "source": [
    "So the first step in the algorithm is to set ${a}_{0}$ and ${b}_{0}$ equal to a and b respectively. Were $f(a)$ and $f(b)$ has opposite sign, $f(a_0)f(b_0)<0$. In other words, we take two points with function values lower and higher than a threshold value, with one of the values being negative and the other being positive.  \n",
    "\n",
    "The next step is to Compute $f(m_0)$ where $m_0 = (a_0 + b_0)/2$ is the midpoint. Again in other words this means that we calculate the midpoint between the two function values \n",
    "\n",
    "The third step is thereafter to  Determine the next sub-interval $[a_1,b_1]$:\n",
    "  * If $f(a_0)f(m_0) < 0$ (different signs) then $a_1 = a_0$ and $b_1 = m_0$ (i.e. focus on the range $[a_0,m_0]$).\n",
    "  * If $f(m_0)f(b_0) < 0$ (different signs) then $a_1 = m_0$ and $b_1 = b_0$ (i.e. focus on the range $[m_0,b_0]$). \n",
    "This means that when we have calculated the midpoint between the two function values, we move there. The first * says that if the midpoint is below the threshold value look in a further up interval. The second * says exactly the opposite, so if the midpoint is above the threshold value look in an interval below.\n",
    "\n",
    "To really understand this try to follow along this analogy. If you imagine back in the days that you wanted to call your aunt, called Mette, but didnt know her number, so you had to look it up in a phonebook. So you start by turning to almost the last page and right after almost the first page in the phonebook, one with the names starting with a c and one with the names starting with a, v. You realize that you are far from the page with the names starting with and m, so you go to the page right in the middle of the letter v and s. This brings you to the page with the names starting with a l. You realize that this is below m in the alphabet so you turn to the page in the middle of the interval of the two letters l and z. This keeps going until you finally end up at the page with the names starting with a m. \n",
    "\n",
    "The last step is to Repeat step 2 and step 3 until $f(m_n) < \\epsilon$. \n",
    "\n",
    "See also this https://docs.scipy.org/doc/scipy/reference/generated/scipy.optimize.bisect.html"
   ]
  },
  {
   "cell_type": "markdown",
   "id": "26628c55-a49e-4719-9459-67be815f8d8a",
   "metadata": {},
   "source": [
    "## Bisect method:"
   ]
  },
  {
   "cell_type": "code",
   "execution_count": 68,
   "id": "92c68766-1da6-471c-b0b0-74d76ffe68ff",
   "metadata": {},
   "outputs": [
    {
     "name": "stdout",
     "output_type": "stream",
     "text": [
      "So physical- and human capital per effective worker is in steady state, respectively. Found numerically:\n",
      "[14.2222222  10.66666643]\n"
     ]
    },
    {
     "name": "stderr",
     "output_type": "stream",
     "text": [
      "/var/folders/5x/nmt_pwm97b5123_td6099w_r0000gn/T/ipykernel_5444/1138306225.py:22: RuntimeWarning: invalid value encountered in double_scalars\n",
      "  return 1/((1+n)*(1+g))*(sk*k**(alpha)*h**(phi)+(1-delta)*k)-k\n",
      "/var/folders/5x/nmt_pwm97b5123_td6099w_r0000gn/T/ipykernel_5444/1138306225.py:45: RuntimeWarning: invalid value encountered in double_scalars\n",
      "  return 1/((1+n)*(1+g))*(sh*k**(alpha)*h**(phi)+(1-delta)*h)-h\n"
     ]
    }
   ],
   "source": [
    "# Defining steady state function for physical capital, k\n",
    "def k_trans_num(k, h, alpha, phi, g, sk, sh, n, delta):\n",
    "    \"\"\" bisection\n",
    "    \n",
    "    Args:\n",
    "    \n",
    "        alpha  (float)          : income share of capital and labour\n",
    "        phi    (float)          : income share of human capital and labour\n",
    "        g      (float)          : growth rate of technology\n",
    "        sk     (float)          : savings rate of physical capital\n",
    "        sh     (float)          : savings rate of human capital\n",
    "        n      (float)          : growth rate of labour\n",
    "        delta  (float)          : depreciation rate on human- and physcial capital\n",
    "        h      (float)          : human capital per effective worker\n",
    "        k      (float)          : physical capital per effective worker\n",
    "    \n",
    "    Returns:\n",
    "    \n",
    "        steady state value for k(tilde)^*\n",
    "        \n",
    "    \"\"\"  \n",
    "    return 1/((1+n)*(1+g))*(sk*k**(alpha)*h**(phi)+(1-delta)*k)-k\n",
    "\n",
    "# Defining steady state function for human capital, h\n",
    "def h_trans_num(k, h, alpha, phi, g, sk, sh, n, delta):\n",
    "    \"\"\" bisection\n",
    "    \n",
    "    Args:\n",
    "    \n",
    "        alpha  (float)          : income share of capital and labour\n",
    "        phi    (float)          : income share of human capital and labour\n",
    "        g      (float)          : growth rate of technology\n",
    "        sk     (float)          : savings rate of physical capital\n",
    "        sh     (float)          : savings rate of human capital\n",
    "        n      (float)          : growth rate of labour\n",
    "        delta  (float)          : depreciation rate on human- and physcial capital\n",
    "        h      (float)          : human capital per effective worker\n",
    "        k      (float)          : physical capital per effective worker\n",
    "    \n",
    "    Returns:\n",
    "    \n",
    "        steady state value for h(tilde)^*\n",
    "        \n",
    "    \"\"\"  \n",
    "    return 1/((1+n)*(1+g))*(sh*k**(alpha)*h**(phi)+(1-delta)*h)-h\n",
    "\n",
    "# Next we specify our objective function for h and k\n",
    "obj1 = lambda x: [k_trans_num(x[0],x[1],alpha, phi, g, sk, sh, n, delta),h_trans_num(x[0],x[1],alpha, phi, g, sk, sh, n, delta)]\n",
    "\n",
    "#We solve the vector functions\n",
    "sol = optimize.root(obj1,[1,1],method = 'broyden1')\n",
    "\n",
    "print('So physical- and human capital per effective worker is in steady state, respectively. Found numerically:')\n",
    "print(sol.x)"
   ]
  },
  {
   "cell_type": "markdown",
   "id": "2e75d70b-70ab-42d3-bee7-45d31cd242d0",
   "metadata": {},
   "source": [
    "As we can see we get the exact same answers whether or not we solve the model symbolically via sympy or numerically via the bisection algorithm. We have stated the symbolical answers again down below, just for the readers sake."
   ]
  },
  {
   "cell_type": "code",
   "execution_count": 16,
   "id": "dabe790a-3c60-40ba-9a9d-285f619c28c4",
   "metadata": {},
   "outputs": [
    {
     "data": {
      "text/latex": [
       "$\\displaystyle \\tilde{k}^{*} = 14.2222222222222$"
      ],
      "text/plain": [
       "Eq(ktilde^*, 14.2222222222222)"
      ]
     },
     "metadata": {},
     "output_type": "display_data"
    },
    {
     "data": {
      "text/latex": [
       "$\\displaystyle \\tilde{h}^{*} = 10.6666666666667$"
      ],
      "text/plain": [
       "Eq(htilde^*, 10.6666666666667)"
      ]
     },
     "metadata": {},
     "output_type": "display_data"
    },
    {
     "data": {
      "text/latex": [
       "$\\displaystyle y^{*} = 5.33333333333333$"
      ],
      "text/plain": [
       "Eq(y^*, 5.33333333333333)"
      ]
     },
     "metadata": {},
     "output_type": "display_data"
    }
   ],
   "source": [
    "display(k_steady_state_value)\n",
    "display(h_steady_state_value)\n",
    "display(y_steady_state_value)"
   ]
  },
  {
   "cell_type": "markdown",
   "id": "14ab8b46-694c-4b77-a467-5d2e4a30a156",
   "metadata": {},
   "source": [
    "## Newton method: "
   ]
  },
  {
   "cell_type": "markdown",
   "id": "3eb1b4da-c9c4-451d-967b-3cce006b55da",
   "metadata": {},
   "source": [
    "In this section, we try to solve the above problem using the Newton method to compare two methods and eventually determine the most efficient/fastest one. "
   ]
  },
  {
   "cell_type": "code",
   "execution_count": 17,
   "id": "cce86daf-1102-4c6d-8139-bcdeee2751e0",
   "metadata": {},
   "outputs": [],
   "source": [
    "def f(x):\n",
    "    kss_func_x = 1/((1+n)*(1+g))*(sk*x[0]**(alpha)*x[1]**(phi)+(1-delta)*x[0])-x[0]\n",
    "    hss_func_x = 1/((1+n)*(1+g))*(sh*x[0]**(alpha)*x[1]**(phi)+(1-delta)*x[1])-x[1] \n",
    "    return [kss_func_x, hss_func_x]"
   ]
  },
  {
   "cell_type": "code",
   "execution_count": 18,
   "id": "161d9bff-425f-42ee-ac3f-b7eed9988e51",
   "metadata": {},
   "outputs": [
    {
     "name": "stdout",
     "output_type": "stream",
     "text": [
      "[14.22222871 10.66667153]\n"
     ]
    }
   ],
   "source": [
    "solution = optimize.newton_krylov(f, [14, 10], maxiter=100)\n",
    "print(solution)"
   ]
  },
  {
   "cell_type": "markdown",
   "id": "8f033ae5-671c-4dc9-bbf6-00bc94dd787f",
   "metadata": {},
   "source": [
    "Again we see that both the symbolical and numerical solutions are the same."
   ]
  },
  {
   "cell_type": "code",
   "execution_count": null,
   "id": "0e0ef6bc-9c04-4dbb-a0ea-4c990e2b0515",
   "metadata": {},
   "outputs": [],
   "source": []
  },
  {
   "cell_type": "code",
   "execution_count": null,
   "id": "5f780bf9-ab39-48ba-8e8a-34f4f518eb58",
   "metadata": {},
   "outputs": [],
   "source": []
  },
  {
   "cell_type": "code",
   "execution_count": null,
   "id": "4ed1cad8-ed6d-4933-8002-148344be51a8",
   "metadata": {},
   "outputs": [],
   "source": []
  },
  {
   "cell_type": "code",
   "execution_count": 19,
   "id": "27f3e995-0d03-468e-8e37-52f1a4a4c0a8",
   "metadata": {},
   "outputs": [],
   "source": [
    "def find_root(x0,f,df,d2f=None,method='newton',max_iter=500,tol=1e-8,full_info=True):\n",
    "    \"\"\" find root\n",
    "        \n",
    "    Args:\n",
    "    \n",
    "        x0 (float): initial value\n",
    "        f (callable): function\n",
    "        df (callable): derivative\n",
    "        d2f (callable): second derivative\n",
    "        method (str): newton or halley\n",
    "        max_iter (int): maximum number of iterations\n",
    "        tol (float): tolerance\n",
    "        full_info (bool): controls information returned\n",
    "        \n",
    "    Returns:\n",
    "    \n",
    "        x (float/ndarray): root (if full_info, all x tried)\n",
    "        i (int): number of iterations used\n",
    "        fx (ndarray): function values used (if full_info) \n",
    "        fpx (ndarray): derivative values used (if full_info)\n",
    "        fppx (ndarray): second derivative values used (if full_info)\n",
    "        \n",
    "    \"\"\"\n",
    "    \n",
    "    # initialize\n",
    "    xs = []\n",
    "    fxs = []\n",
    "    dfxs = []\n",
    "    d2fxs = []\n",
    "    \n",
    "    # iterate\n",
    "    x = x0    \n",
    "    i = 0    \n",
    "    while True:\n",
    "        \n",
    "        # step 2: evaluate function and derivatives\n",
    "        fx = f(x)\n",
    "        dfx = df(x)\n",
    "        if method == 'halley':\n",
    "            d2fx = d2f(x)\n",
    "            \n",
    "        # step 3: check convergence\n",
    "        if abs(fx) < tol or i >= max_iter:\n",
    "            break\n",
    "            \n",
    "        # step 4: update x\n",
    "        if method == 'newton':\n",
    "            x_k = x - fx/dfx\n",
    "        elif method == 'halley':\n",
    "            a = fx/dfx\n",
    "            b = a*d2fx/(2*dfx)\n",
    "            x_k = x - a/(1-b)\n",
    "        \n",
    "        # step 5: increment counter\n",
    "        i += 1\n",
    "        \n",
    "        # step 6: store history\n",
    "        xs.append(x)\n",
    "        fxs.append(fx)\n",
    "        dfxs.append(dfx)\n",
    "        if method == 'halley':\n",
    "            d2fxs.append(d2fx)\n",
    "        \n",
    "        # step 7: apply new guess for x\n",
    "        x = x_k\n",
    "        \n",
    "    # return\n",
    "    if full_info:\n",
    "        return np.array(xs),i,np.array(fxs),np.array(dfxs),np.array(d2fxs)\n",
    "    else:\n",
    "        return x,i"
   ]
  },
  {
   "cell_type": "markdown",
   "id": "696f7be7-bf7f-4732-8a77-d475d4dac3c9",
   "metadata": {},
   "source": [
    "Since we are trying to solve for h and k simultaneously, we need to define the Jacobian matrix (multivariable function) and subsequently forward solve to determine the appropriate fp_approx. "
   ]
  },
  {
   "cell_type": "code",
   "execution_count": 20,
   "id": "68ba3ca9-1727-4589-89be-198836e19a84",
   "metadata": {},
   "outputs": [],
   "source": [
    "# Defining the respective Jacobians\n",
    "#dh_h = lambda h, k: ((h_trans_num*(h+Δ, alpha, phi, g, sk, sh, n, delta)-h_trans_num*(h))/Δ\n",
    "#dh_k = lambda k, h: ((h_trans_num*(k+Δ, alpha, phi, g, sk, sh, n, delta)-h_trans_num*(k))/Δ)\n",
    "dk_h = lambda H: ((k_trans_num*(h+Δ, alpha, phi, g, sk, sh, n, delta)-k_trans_num*(h))/Δ)\n",
    "dk_k = lambda H: ((k_trans_num*(k+Δ, alpha, phi, g, sk, sh, n, delta)-k_trans_num*(k))/Δ)"
   ]
  },
  {
   "cell_type": "code",
   "execution_count": 21,
   "id": "58ea03b2-efb7-4257-b7b9-461b662f03be",
   "metadata": {},
   "outputs": [],
   "source": [
    "# Defining the Jacobian matrix\n",
    "fp_approx = lambda x: [dk_h, dk_k]"
   ]
  },
  {
   "cell_type": "code",
   "execution_count": 22,
   "id": "9c251a3b-48d7-48b8-b174-33441c299148",
   "metadata": {},
   "outputs": [
    {
     "ename": "TypeError",
     "evalue": "<lambda>() missing 1 required positional argument: 'h'",
     "output_type": "error",
     "traceback": [
      "\u001b[0;31m---------------------------------------------------------------------------\u001b[0m",
      "\u001b[0;31mTypeError\u001b[0m                                 Traceback (most recent call last)",
      "\u001b[0;32m/var/folders/5x/nmt_pwm97b5123_td6099w_r0000gn/T/ipykernel_5444/1992664252.py\u001b[0m in \u001b[0;36m<module>\u001b[0;34m\u001b[0m\n\u001b[1;32m      7\u001b[0m \u001b[0;31m# find root\u001b[0m\u001b[0;34m\u001b[0m\u001b[0;34m\u001b[0m\u001b[0m\n\u001b[1;32m      8\u001b[0m \u001b[0mx0\u001b[0m \u001b[0;34m=\u001b[0m \u001b[0;36m11\u001b[0m\u001b[0;34m\u001b[0m\u001b[0;34m\u001b[0m\u001b[0m\n\u001b[0;32m----> 9\u001b[0;31m \u001b[0mx\u001b[0m\u001b[0;34m,\u001b[0m\u001b[0mi\u001b[0m \u001b[0;34m=\u001b[0m \u001b[0mfind_root\u001b[0m\u001b[0;34m(\u001b[0m\u001b[0;34m[\u001b[0m\u001b[0;36m5\u001b[0m\u001b[0;34m,\u001b[0m \u001b[0;36m9\u001b[0m\u001b[0;34m]\u001b[0m\u001b[0;34m,\u001b[0m\u001b[0mk_trans_num\u001b[0m\u001b[0;34m,\u001b[0m\u001b[0mfp_approx\u001b[0m\u001b[0;34m,\u001b[0m\u001b[0mmethod\u001b[0m\u001b[0;34m=\u001b[0m\u001b[0;34m'newton'\u001b[0m\u001b[0;34m)\u001b[0m\u001b[0;34m\u001b[0m\u001b[0;34m\u001b[0m\u001b[0m\n\u001b[0m\u001b[1;32m     10\u001b[0m \u001b[0mprint\u001b[0m\u001b[0;34m(\u001b[0m\u001b[0;34mf'iterations: {i}, root: {x}, f(x) = {k_trans_num(x)}'\u001b[0m\u001b[0;34m)\u001b[0m\u001b[0;34m\u001b[0m\u001b[0;34m\u001b[0m\u001b[0m\n",
      "\u001b[0;32m/var/folders/5x/nmt_pwm97b5123_td6099w_r0000gn/T/ipykernel_5444/3423027755.py\u001b[0m in \u001b[0;36mfind_root\u001b[0;34m(x0, f, df, d2f, method, max_iter, tol, full_info)\u001b[0m\n\u001b[1;32m     35\u001b[0m \u001b[0;34m\u001b[0m\u001b[0m\n\u001b[1;32m     36\u001b[0m         \u001b[0;31m# step 2: evaluate function and derivatives\u001b[0m\u001b[0;34m\u001b[0m\u001b[0;34m\u001b[0m\u001b[0m\n\u001b[0;32m---> 37\u001b[0;31m         \u001b[0mfx\u001b[0m \u001b[0;34m=\u001b[0m \u001b[0mf\u001b[0m\u001b[0;34m(\u001b[0m\u001b[0mx\u001b[0m\u001b[0;34m)\u001b[0m\u001b[0;34m\u001b[0m\u001b[0;34m\u001b[0m\u001b[0m\n\u001b[0m\u001b[1;32m     38\u001b[0m         \u001b[0mdfx\u001b[0m \u001b[0;34m=\u001b[0m \u001b[0mdf\u001b[0m\u001b[0;34m(\u001b[0m\u001b[0mx\u001b[0m\u001b[0;34m)\u001b[0m\u001b[0;34m\u001b[0m\u001b[0;34m\u001b[0m\u001b[0m\n\u001b[1;32m     39\u001b[0m         \u001b[0;32mif\u001b[0m \u001b[0mmethod\u001b[0m \u001b[0;34m==\u001b[0m \u001b[0;34m'halley'\u001b[0m\u001b[0;34m:\u001b[0m\u001b[0;34m\u001b[0m\u001b[0;34m\u001b[0m\u001b[0m\n",
      "\u001b[0;31mTypeError\u001b[0m: <lambda>() missing 1 required positional argument: 'h'"
     ]
    }
   ],
   "source": [
    "k_trans_num = lambda k, h, alpha=(1/3), phi=(1/3), g=0.015, sk=0.2, sh=0.15, n=0, delta=0.06: k-(1/((1+n)*(1+g))*(sk*k**(alpha)*h**(phi)+(1-delta)*k))\n",
    "\n",
    "# numerical derivative (forward)\n",
    "Δ = 1e-8\n",
    "fp_approx = lambda x: [(k_trans_num(x+Δ)-k_trans_num(x))/Δ, (h_trans_num(x+Δ)-h_trans_num(x))/Δ]\n",
    "\n",
    "# find root\n",
    "x0 = 11\n",
    "x,i = find_root([5, 9],k_trans_num,fp_approx,method='newton')\n",
    "print(f'iterations: {i}, root: {x}, f(x) = {k_trans_num(x)}')"
   ]
  },
  {
   "cell_type": "code",
   "execution_count": 23,
   "id": "f1d057f3-a795-4c8d-9a9a-274de16c9fa4",
   "metadata": {},
   "outputs": [
    {
     "ename": "ValueError",
     "evalue": "too many values to unpack (expected 2)",
     "output_type": "error",
     "traceback": [
      "\u001b[0;31m---------------------------------------------------------------------------\u001b[0m",
      "\u001b[0;31mValueError\u001b[0m                                Traceback (most recent call last)",
      "\u001b[0;32m/var/folders/5x/nmt_pwm97b5123_td6099w_r0000gn/T/ipykernel_5444/221688074.py\u001b[0m in \u001b[0;36m<module>\u001b[0;34m\u001b[0m\n\u001b[1;32m      8\u001b[0m \u001b[0;31m# find root\u001b[0m\u001b[0;34m\u001b[0m\u001b[0;34m\u001b[0m\u001b[0m\n\u001b[1;32m      9\u001b[0m \u001b[0mx0\u001b[0m \u001b[0;34m=\u001b[0m \u001b[0;36m11\u001b[0m\u001b[0;34m\u001b[0m\u001b[0;34m\u001b[0m\u001b[0m\n\u001b[0;32m---> 10\u001b[0;31m \u001b[0mx\u001b[0m\u001b[0;34m,\u001b[0m\u001b[0mi\u001b[0m \u001b[0;34m=\u001b[0m \u001b[0mfind_root\u001b[0m\u001b[0;34m(\u001b[0m\u001b[0mx0\u001b[0m\u001b[0;34m,\u001b[0m\u001b[0mh_ss_func\u001b[0m\u001b[0;34m,\u001b[0m\u001b[0mfp_approx\u001b[0m\u001b[0;34m,\u001b[0m\u001b[0mmethod\u001b[0m\u001b[0;34m=\u001b[0m\u001b[0;34m'newton'\u001b[0m\u001b[0;34m)\u001b[0m\u001b[0;34m\u001b[0m\u001b[0;34m\u001b[0m\u001b[0m\n\u001b[0m\u001b[1;32m     11\u001b[0m \u001b[0mprint\u001b[0m\u001b[0;34m(\u001b[0m\u001b[0;34mf'iterations: {i}, root: {x}, f(x) = {h_ss_func(x)}'\u001b[0m\u001b[0;34m)\u001b[0m\u001b[0;34m\u001b[0m\u001b[0;34m\u001b[0m\u001b[0m\n",
      "\u001b[0;31mValueError\u001b[0m: too many values to unpack (expected 2)"
     ]
    }
   ],
   "source": [
    "# repeat function for human capital as it is stored in the python file\n",
    "h_ss_func = lambda h, alpha=(1/3), phi=(1/3), g=0.015, sk=0.2, sh=0.15, n=0, delta=0.06: h-(((sk**alpha)*(sh**(1-alpha)))/(n+g+delta+n*g))**(1/(1-alpha-phi))\n",
    "\n",
    "# numerical derivative (forward)\n",
    "Δ = 1e-8\n",
    "fp_approx = lambda x: (h_ss_func(x+Δ)-h_ss_func(x))/Δ\n",
    "\n",
    "# find root\n",
    "x0 = 11\n",
    "x,i = find_root(x0,h_ss_func,fp_approx,method='newton')\n",
    "print(f'iterations: {i}, root: {x}, f(x) = {h_ss_func(x)}')"
   ]
  },
  {
   "cell_type": "code",
   "execution_count": 24,
   "id": "6f5d9296-2071-407b-aac0-b53ba3a4ca4c",
   "metadata": {},
   "outputs": [
    {
     "ename": "ValueError",
     "evalue": "too many values to unpack (expected 2)",
     "output_type": "error",
     "traceback": [
      "\u001b[0;31m---------------------------------------------------------------------------\u001b[0m",
      "\u001b[0;31mValueError\u001b[0m                                Traceback (most recent call last)",
      "\u001b[0;32m/var/folders/5x/nmt_pwm97b5123_td6099w_r0000gn/T/ipykernel_5444/3656853483.py\u001b[0m in \u001b[0;36m<module>\u001b[0;34m\u001b[0m\n\u001b[1;32m      8\u001b[0m \u001b[0;31m# find root\u001b[0m\u001b[0;34m\u001b[0m\u001b[0;34m\u001b[0m\u001b[0m\n\u001b[1;32m      9\u001b[0m \u001b[0mx0\u001b[0m \u001b[0;34m=\u001b[0m \u001b[0;36m11\u001b[0m\u001b[0;34m\u001b[0m\u001b[0;34m\u001b[0m\u001b[0m\n\u001b[0;32m---> 10\u001b[0;31m \u001b[0mx\u001b[0m\u001b[0;34m,\u001b[0m\u001b[0mi\u001b[0m \u001b[0;34m=\u001b[0m \u001b[0mfind_root\u001b[0m\u001b[0;34m(\u001b[0m\u001b[0mx0\u001b[0m\u001b[0;34m,\u001b[0m\u001b[0my_ss_func\u001b[0m\u001b[0;34m,\u001b[0m\u001b[0mfp_approx\u001b[0m\u001b[0;34m,\u001b[0m\u001b[0mmethod\u001b[0m\u001b[0;34m=\u001b[0m\u001b[0;34m'newton'\u001b[0m\u001b[0;34m)\u001b[0m\u001b[0;34m\u001b[0m\u001b[0;34m\u001b[0m\u001b[0m\n\u001b[0m\u001b[1;32m     11\u001b[0m \u001b[0mprint\u001b[0m\u001b[0;34m(\u001b[0m\u001b[0;34mf'iterations: {i}, root: {x}, f(x) = {y_ss_func(x)}'\u001b[0m\u001b[0;34m)\u001b[0m\u001b[0;34m\u001b[0m\u001b[0;34m\u001b[0m\u001b[0m\n",
      "\u001b[0;31mValueError\u001b[0m: too many values to unpack (expected 2)"
     ]
    }
   ],
   "source": [
    "# repeat function for GDP per worker as it is stored in the python file\n",
    "y_ss_func = lambda y, alpha=(1/3), phi=(1/3), g=0.015, sk=0.2, sh=0.15, n=0, delta=0.06, A=1: y-((((sk/(n+g+delta+n*g))**(alpha/(1-alpha-phi)))*(sh/(n+g+delta+n*g))**(phi/(1-alpha-phi)))*A)\n",
    "\n",
    "# numerical derivative (forward)\n",
    "Δ = 1e-8\n",
    "fp_approx = lambda x: (y_ss_func(x+Δ)-y_ss_func(x))/Δ\n",
    "\n",
    "# find root\n",
    "x0 = 11\n",
    "x,i = find_root(x0,y_ss_func,fp_approx,method='newton')\n",
    "print(f'iterations: {i}, root: {x}, f(x) = {y_ss_func(x)}')"
   ]
  },
  {
   "cell_type": "markdown",
   "id": "5954f427-3fb0-41f9-9bc8-27ca9ec38194",
   "metadata": {
    "tags": []
   },
   "source": [
    "# Comparasion of the optimizers\n",
    "In this section, we visualize the optimization problem (using Newton method). Use the slider to view evaluations at different iteration stages. "
   ]
  },
  {
   "cell_type": "code",
   "execution_count": 25,
   "id": "29fb06b2-4351-41a3-9056-68b3c9b68b73",
   "metadata": {},
   "outputs": [],
   "source": [
    "def plot_find_root(x0,f,fp,fpp=None,method='newton',xmin=-8,xmax=8,xn=100, vline = False):\n",
    "    \n",
    "    # a. find root and return all information \n",
    "    x,max_iter,fx,fpx,fppx = find_root(x0,f,df=fp,d2f=fpp,method=method,full_info=True)\n",
    "    \n",
    "    # b. compute function on grid\n",
    "    xvec = np.linspace(xmin,xmax,xn)\n",
    "    fxvec = f(xvec)\n",
    "    \n",
    "    # c. figure\n",
    "    def _figure(i):\n",
    "        \n",
    "        # i. approximation\n",
    "        if method == 'newton':\n",
    "            fapprox = fx[i] + fpx[i]*(xvec-x[i])\n",
    "        elif method == 'halley':\n",
    "            fapprox = fx[i] + fpx[i]*(xvec-x[i]) + fppx[i]/2*(xvec-x[i])**2  \n",
    "            \n",
    "        # ii. figure\n",
    "        fig = plt.figure()\n",
    "        ax = fig.add_subplot(1,1,1)\n",
    "        \n",
    "        ax.plot(xvec,fxvec,label='function') # on grid\n",
    "        ax.plot(x[i],0,'o',color='blue',mfc='none',label='$x_{k}$')# now\n",
    "        ax.plot(x[i],fx[i],'o',color='black',label='$f(x_k)$') # now       \n",
    "        #ax.plot(xvec,fapprox,label='approximation') # approximation\n",
    "        \n",
    "        if vline:\n",
    "            ax.axvline(x[i+1],ls='--',lw=1,color='black') # cross zero\n",
    "        \n",
    "        ax.axvline(0,ls='-',lw=1,color='black') # cross zero\n",
    "        ax.axhline(0, ls='-',lw=1,color='black')\n",
    "        #ax.plot(x[i+1],fx[i+1],'o',color='black',mfc='none',label='next')# next\n",
    "        ax.plot(x[i+1],0,'o',color='green',mfc='none',label='$x_{k+1}$')# next\n",
    "            \n",
    "        ax.legend(loc='lower right',facecolor='white',frameon=True)\n",
    "        ax.set_ylim([fxvec[0],fxvec[-1]])\n",
    "    \n",
    "    widgets.interact(_figure,\n",
    "        i=widgets.IntSlider(description=\"iterations\", min=0, max=max_iter-2, step=1, value=0)\n",
    "    );"
   ]
  },
  {
   "cell_type": "code",
   "execution_count": 26,
   "id": "6742c101-9740-4cac-89d6-dabce5fb8697",
   "metadata": {},
   "outputs": [
    {
     "ename": "NameError",
     "evalue": "name 'k_ss_func' is not defined",
     "output_type": "error",
     "traceback": [
      "\u001b[0;31m---------------------------------------------------------------------------\u001b[0m",
      "\u001b[0;31mNameError\u001b[0m                                 Traceback (most recent call last)",
      "\u001b[0;32m/var/folders/5x/nmt_pwm97b5123_td6099w_r0000gn/T/ipykernel_5444/1374115553.py\u001b[0m in \u001b[0;36m<module>\u001b[0;34m\u001b[0m\n\u001b[0;32m----> 1\u001b[0;31m \u001b[0mplot_find_root\u001b[0m\u001b[0;34m(\u001b[0m\u001b[0;36m10\u001b[0m\u001b[0;34m,\u001b[0m\u001b[0mk_ss_func\u001b[0m\u001b[0;34m,\u001b[0m\u001b[0mfp_approx\u001b[0m\u001b[0;34m,\u001b[0m\u001b[0mfpp\u001b[0m\u001b[0;34m=\u001b[0m\u001b[0;32mNone\u001b[0m\u001b[0;34m,\u001b[0m\u001b[0mmethod\u001b[0m\u001b[0;34m=\u001b[0m\u001b[0;34m'newton'\u001b[0m\u001b[0;34m,\u001b[0m\u001b[0mxmin\u001b[0m\u001b[0;34m=\u001b[0m\u001b[0;36m5\u001b[0m\u001b[0;34m,\u001b[0m\u001b[0mxmax\u001b[0m\u001b[0;34m=\u001b[0m\u001b[0;36m20\u001b[0m\u001b[0;34m,\u001b[0m\u001b[0mxn\u001b[0m\u001b[0;34m=\u001b[0m\u001b[0;36m50\u001b[0m\u001b[0;34m,\u001b[0m \u001b[0mvline\u001b[0m \u001b[0;34m=\u001b[0m \u001b[0;32mFalse\u001b[0m\u001b[0;34m)\u001b[0m\u001b[0;34m\u001b[0m\u001b[0;34m\u001b[0m\u001b[0m\n\u001b[0m",
      "\u001b[0;31mNameError\u001b[0m: name 'k_ss_func' is not defined"
     ]
    }
   ],
   "source": [
    "plot_find_root(10,k_ss_func,fp_approx,fpp=None,method='newton',xmin=5,xmax=20,xn=50, vline = False)"
   ]
  },
  {
   "cell_type": "markdown",
   "id": "c19371e3-4547-4139-a833-1a9958d80f19",
   "metadata": {},
   "source": [
    "# Conclusion for baseline model\n",
    "\n",
    "The Solow model with human capital shows that for larger values of $s_H$, $s_K$, $g$, $\\alpha$, and $\\phi$ it takes longer time to transition to steady state. On the other hand higher values of $n$, $\\delta$ makes the transition to steady state faster.\n",
    "We also saw for realistic paramter values that this model shows fairly high values of $\\tilde{k}_t$, $\\tilde{h}_t$ and ${y}_t$ in steady state indicating that more human- and physical capital is desireable.\n",
    "\n",
    "In the above evaluation, we demonstrate that both the bisect and Newton method are suitable ways to optimize the Solow Growth model for human and physical capital. Notably, the Newton method provides a more efficient, as less iterations, way. "
   ]
  },
  {
   "cell_type": "markdown",
   "id": "081c0ef1-baa6-416f-bfe1-0d2d5466c543",
   "metadata": {},
   "source": [
    "# Extended model with taxation/government "
   ]
  },
  {
   "cell_type": "markdown",
   "id": "0c82ce40-0552-4a15-a11f-16e2647da3c7",
   "metadata": {},
   "source": [
    "We extend the model by including taxation on wealth and thereby adding an 'active' government. We add a taxation on physical capital (wealth) and add a government who uses all of the tax provenue to invest in human capital. Meaning that human capital will now only accumulate on the basis of physical capital, the government and the tax rate. See this PDF document: https://absalon.ku.dk/courses/55956/files/5668197?module_item_id=1559108"
   ]
  },
  {
   "cell_type": "markdown",
   "id": "a44b1efd-0544-47e0-9c1a-d061224823bf",
   "metadata": {},
   "source": [
    "The extended Solow model with human capital and taxation is given by:"
   ]
  },
  {
   "cell_type": "code",
   "execution_count": 27,
   "id": "bd53352e-d399-47dd-9569-91eec3d74bcb",
   "metadata": {},
   "outputs": [
    {
     "data": {
      "text/latex": [
       "$\\displaystyle Y_{t} = H_{t}^{\\phi} K_{t}^{\\alpha} \\left(A_{t} L_{t}\\right)^{- \\alpha - \\phi + 1}$"
      ],
      "text/plain": [
       "Eq(Y_t, H_t**phi*K_t**alpha*(A_t*L_t)**(-alpha - phi + 1))"
      ]
     },
     "metadata": {},
     "output_type": "display_data"
    },
    {
     "data": {
      "text/latex": [
       "$\\displaystyle L_{t+1} = L_{t} \\left(n + 1\\right)$"
      ],
      "text/plain": [
       "Eq(L_{t+1}, L_t*(n + 1))"
      ]
     },
     "metadata": {},
     "output_type": "display_data"
    },
    {
     "data": {
      "text/latex": [
       "$\\displaystyle A_{t+1} = A_{t} \\left(g + 1\\right)$"
      ],
      "text/plain": [
       "Eq(A_{t+1}, A_t*(g + 1))"
      ]
     },
     "metadata": {},
     "output_type": "display_data"
    },
    {
     "data": {
      "text/latex": [
       "$\\displaystyle K_{t+1} = K_{t} \\left(- \\delta - \\tau + 1\\right) + Y_{t} + s_{K}$"
      ],
      "text/plain": [
       "Eq(K_{t+1}, K_t*(-delta - tau + 1) + Y_t + s_K)"
      ]
     },
     "metadata": {},
     "output_type": "display_data"
    },
    {
     "data": {
      "text/latex": [
       "$\\displaystyle H_{t+1} = H_{t} \\left(1 - \\tau\\right) + K_{t} \\tau$"
      ],
      "text/plain": [
       "Eq(H_{t+1}, H_t*(1 - tau) + K_t*tau)"
      ]
     },
     "metadata": {},
     "output_type": "display_data"
    }
   ],
   "source": [
    "Y_ext = sm.Eq(Y_ex, (H_ex**phi_ex)*(K_ex**alpha)*((A_ex*L_ex)**(1-alpha_ex-phi_ex)))\n",
    "L_ext = sm.Eq(L1_ex, L_ex*(1+n))\n",
    "A_ext = sm.Eq(A1_ex, A_ex*(1+g))\n",
    "K_t_1 = sm.Eq(K1_ex, sk_ex+Y_ex+(1-tau_ex-delta_ex)*K_ex)\n",
    "H_t_1 = sm.Eq(H1_ex, tau_ex*K_ex+(1-tau_ex)*H_ex)\n",
    "display(Y_t, L_t1, A_t1, K_t_1, H_t_1)"
   ]
  },
  {
   "cell_type": "markdown",
   "id": "e4feb5e5-f29c-49f1-ac51-db9d5547c575",
   "metadata": {},
   "source": [
    "The extended Solow model is given by these equations. 1) Stating that output is a generel Cobb-Douglas production function. 2 and 3) Stating that labour and technology grows with the exogenously rates of n and g, respectively. 4) Stating that capital accumulates by the total amount of savings and last years capital, now including a tax rate. 5) Stating that human capital know accumulates only by the amount of tax provenue from physical capital and last periods amount of human capital."
   ]
  },
  {
   "cell_type": "markdown",
   "id": "eb27298e-0296-4a4f-b3d5-66901015aeef",
   "metadata": {},
   "source": [
    "# Solving the model analytically"
   ]
  },
  {
   "cell_type": "markdown",
   "id": "c8965503-ab2a-402d-9f5a-98767c33d64a",
   "metadata": {},
   "source": [
    "The solving of this model is pretty similar to the baseline model, but nonetheless our goal is still to find the steady state values for $\\tilde{k}_t$, $\\tilde{h}_t$ and ${y^*}$ and see if it makes any difference to include a tax on wealth income."
   ]
  },
  {
   "cell_type": "markdown",
   "id": "b25fdfb4-5286-4121-838e-0ae44c458226",
   "metadata": {},
   "source": [
    "The law of motion in this model is a little bit different since the transition equation and thereby the Solow equations have changed a little bit. The transition equations are stated below:"
   ]
  },
  {
   "cell_type": "code",
   "execution_count": 28,
   "id": "164a4959-2c36-4145-85a3-da8581e260ef",
   "metadata": {},
   "outputs": [
    {
     "name": "stdout",
     "output_type": "stream",
     "text": [
      "The transition equations for the extended Solow model is as follows:\n"
     ]
    },
    {
     "data": {
      "text/latex": [
       "$\\displaystyle \\tilde{k}_{t+1} = \\frac{\\left(g + 1\\right) \\left(\\tilde{h}_{t}^{\\phi} \\tilde{k}_{t}^{\\alpha} s_{K} + \\tilde{k}_{t} \\left(- \\delta - \\tau + 1\\right)\\right)}{n + 1}$"
      ],
      "text/plain": [
       "Eq(ktilde_t+1, (g + 1)*(htilde_t**phi*ktilde_t**alpha*s_K + ktilde_t*(-delta - tau + 1))/(n + 1))"
      ]
     },
     "metadata": {},
     "output_type": "display_data"
    },
    {
     "data": {
      "text/latex": [
       "$\\displaystyle \\tilde{h}_{t+1} = \\frac{\\left(g + 1\\right) \\left(\\tilde{h}_{t} \\left(1 - \\delta\\right) + \\tilde{k}_{t} \\tau\\right)}{n + 1}$"
      ],
      "text/plain": [
       "Eq(htilde_t+1, (g + 1)*(htilde_t*(1 - delta) + ktilde_t*tau)/(n + 1))"
      ]
     },
     "metadata": {},
     "output_type": "display_data"
    }
   ],
   "source": [
    "k_and_h_tilde = (k_tilde_ex**alpha_ex)*(h_tilde_ex**phi_ex) #For more cleaner code\n",
    "\n",
    "k_ex_trans = sm.Eq(k_tilde1_ex, ((1/(1+n_ex)*(1+g_ex))*(sk_ex*k_and_h_tilde+(1-delta_ex-tau_ex)*k_tilde_ex)))\n",
    "h_ex_trans = sm.Eq(h_tilde1_ex, ((1/(1+n_ex)*(1+g_ex))*(tau_ex*k_tilde_ex+(1-delta_ex)*h_tilde_ex)))\n",
    "print('The transition equations for the extended Solow model is as follows:')\n",
    "display(k_ex_trans, h_ex_trans)"
   ]
  },
  {
   "cell_type": "markdown",
   "id": "2d94955f-f209-45f2-aa0f-dd149756dc1b",
   "metadata": {},
   "source": [
    "The Solow equations can now again be found by subtracting both sides of the equation with $\\tilde{k}_{t}$ and $\\tilde{h}_{t}$, respectively. The Solow eqautions of the extended Solow model is now given by:"
   ]
  },
  {
   "cell_type": "code",
   "execution_count": 29,
   "id": "58183553-8b5b-4edd-9412-2219729172db",
   "metadata": {},
   "outputs": [
    {
     "name": "stdout",
     "output_type": "stream",
     "text": [
      "The Solow equations for the extended Solow model is:\n"
     ]
    },
    {
     "data": {
      "text/latex": [
       "$\\displaystyle - \\tilde{k}_{t} + \\tilde{k}_{t+1} = \\frac{\\left(g + 1\\right) \\left(\\tilde{h}_{t}^{\\phi} \\tilde{k}_{t}^{\\alpha} s_{K} - \\tilde{k}_{t} \\left(\\delta + g n + g + n + \\tau\\right)\\right)}{n + 1}$"
      ],
      "text/plain": [
       "Eq(-ktilde_t + ktilde_t+1, (g + 1)*(htilde_t**phi*ktilde_t**alpha*s_K - ktilde_t*(delta + g*n + g + n + tau))/(n + 1))"
      ]
     },
     "metadata": {},
     "output_type": "display_data"
    },
    {
     "data": {
      "text/latex": [
       "$\\displaystyle - \\tilde{h}_{t} + \\tilde{h}_{t+1} = \\frac{\\left(g + 1\\right) \\left(- \\tilde{h}_{t} \\left(\\delta + g n + g + n\\right) + \\tilde{k}_{t} \\tau\\right)}{n + 1}$"
      ],
      "text/plain": [
       "Eq(-htilde_t + htilde_t+1, (g + 1)*(-htilde_t*(delta + g*n + g + n) + ktilde_t*tau)/(n + 1))"
      ]
     },
     "metadata": {},
     "output_type": "display_data"
    }
   ],
   "source": [
    "down_paren = (n_ex+g_ex+n_ex*g_ex+delta_ex) #For more cleaner code\n",
    "\n",
    "k_ex_solow = sm.Eq(k_tilde1_ex-k_tilde_ex, ((1/(1+n_ex)*(1+g_ex))*(sk_ex*k_and_h_tilde-(down_paren+tau_ex)*k_tilde_ex)))\n",
    "h_ex_solow = sm.Eq(h_tilde1_ex-h_tilde, ((1/(1+n_ex)*(1+g_ex))*(tau_ex*k_tilde_ex-(down_paren)*h_tilde_ex)))\n",
    "print('The Solow equations for the extended Solow model is:')\n",
    "display(k_ex_solow, h_ex_solow)"
   ]
  },
  {
   "cell_type": "markdown",
   "id": "c7fa8d42-d206-4b6c-98fc-431e7ccb0377",
   "metadata": {},
   "source": [
    "Now that we have our Solow equations we can again derive our steady state values for $\\tilde{k}_{t}$ and $\\tilde{h}_{t}$ by setting the right hand side and the left hand side in the big parenthesis eqaul to eachother. If this is done we end up with the following steady state values:"
   ]
  },
  {
   "cell_type": "code",
   "execution_count": 30,
   "id": "3e27bba5-32b2-4e64-9da9-0c8c59a28e13",
   "metadata": {},
   "outputs": [
    {
     "name": "stdout",
     "output_type": "stream",
     "text": [
      "The steady state of capital per effective worker in the extended Solow model is given by:\n"
     ]
    },
    {
     "data": {
      "text/latex": [
       "$\\displaystyle \\tilde{k}^{*} = \\left(\\frac{s_{K} \\tau^{\\phi} \\left(\\delta + g n + g + n\\right)^{- \\phi}}{\\delta + g n + g + n + \\tau}\\right)^{\\frac{1}{- \\alpha - \\phi + 1}}$"
      ],
      "text/plain": [
       "Eq(ktilde^*, (s_K*tau**phi/((delta + g*n + g + n)**phi*(delta + g*n + g + n + tau)))**(1/(-alpha - phi + 1)))"
      ]
     },
     "metadata": {},
     "output_type": "display_data"
    },
    {
     "name": "stdout",
     "output_type": "stream",
     "text": [
      "The steady state of human capita per effective worker in the extended Solow model is given by:\n"
     ]
    },
    {
     "data": {
      "text/latex": [
       "$\\displaystyle \\tilde{h}^{*} = \\left(\\frac{s_{K} \\tau^{1 - \\alpha} \\left(\\delta + g n + g + n + \\tau\\right)^{\\alpha - 1}}{\\delta + g n + g + n + \\tau}\\right)^{\\frac{1}{- \\alpha - \\phi + 1}}$"
      ],
      "text/plain": [
       "Eq(htilde^*, (s_K*tau**(1 - alpha)*(delta + g*n + g + n + tau)**(alpha - 1)/(delta + g*n + g + n + tau))**(1/(-alpha - phi + 1)))"
      ]
     },
     "metadata": {},
     "output_type": "display_data"
    }
   ],
   "source": [
    "power11 = (1/(1-alpha_ex-phi_ex)) #For more cleaner code\n",
    "\n",
    "k_ex_ss = sm.Eq(k_tilde_star_ex,((sk_ex/(down_paren+tau_ex))*((tau_ex**phi_ex)/(down_paren**phi_ex)))**power11)\n",
    "h_ex_ss = sm.Eq(h_tilde_star_ex,(((sk_ex/(down_paren+tau_ex))*((tau_ex**(1-alpha_ex))/((down_paren+tau_ex)**(1-alpha_ex))))**power11))\n",
    "print('The steady state of capital per effective worker in the extended Solow model is given by:')\n",
    "display(k_ex_ss)\n",
    "print('The steady state of human capita per effective worker in the extended Solow model is given by:')\n",
    "display(h_ex_ss)"
   ]
  },
  {
   "cell_type": "markdown",
   "id": "fa51447d-c7db-4367-abcd-dfbca9a6c679",
   "metadata": {},
   "source": [
    "The steady state for GDP per worker can again be found on the definition of GDP per effective worker:"
   ]
  },
  {
   "cell_type": "code",
   "execution_count": 31,
   "id": "04bad9fd-05d8-42cc-9a3b-2ba296986908",
   "metadata": {},
   "outputs": [
    {
     "name": "stdout",
     "output_type": "stream",
     "text": [
      "The steady state of GDP per worker is in the extended Solow model given by:\n"
     ]
    },
    {
     "data": {
      "text/latex": [
       "$\\displaystyle y^{*} = A_{t} \\left(\\frac{s_{K}}{\\delta + g n + g + n + \\tau}\\right)^{\\frac{\\alpha + \\phi}{- \\alpha - \\phi + 1}} \\left(\\frac{\\tau}{\\delta + g n + g + n}\\right)^{\\frac{\\phi}{- \\alpha - \\phi + 1}}$"
      ],
      "text/plain": [
       "Eq(y^*, A_t*(s_K/(delta + g*n + g + n + tau))**((alpha + phi)/(-alpha - phi + 1))*(tau/(delta + g*n + g + n))**(phi/(-alpha - phi + 1)))"
      ]
     },
     "metadata": {},
     "output_type": "display_data"
    }
   ],
   "source": [
    "power1 = (phi_ex/(1-alpha_ex-phi_ex)) # For cleaner code\n",
    "power2 = (alpha_ex+phi_ex)/(1-alpha_ex-phi_ex) #For cleaner code\n",
    "\n",
    "y_ex_ss = sm.Eq(y_star_ex,A_ex*((tau_ex/down_paren)**power1)*((sk_ex/(down_paren+tau_ex))**power2))\n",
    "print('The steady state of GDP per worker is in the extended Solow model given by:')\n",
    "display(y_ex_ss)"
   ]
  },
  {
   "cell_type": "markdown",
   "id": "27692e61-6eeb-46a1-b2de-4b236f8f44af",
   "metadata": {},
   "source": [
    "Now that we have our expression for the steady state values of importance we would like to solve them symbolically. We do this by inserting the given parameter values into the expressions. Therefore we make 3 new equations that do exactly this."
   ]
  },
  {
   "cell_type": "code",
   "execution_count": 32,
   "id": "11b15a08-1663-4c76-9db5-2140886a445f",
   "metadata": {},
   "outputs": [
    {
     "name": "stdout",
     "output_type": "stream",
     "text": [
      "With the given parameter values. Physical capital per effective worker is in steady state:\n"
     ]
    },
    {
     "data": {
      "text/latex": [
       "$\\displaystyle \\tilde{k}^{*} = 1.40466392318244$"
      ],
      "text/plain": [
       "Eq(ktilde^*, 1.40466392318244)"
      ]
     },
     "metadata": {},
     "output_type": "display_data"
    },
    {
     "name": "stdout",
     "output_type": "stream",
     "text": [
      "With the given parameter values. Human capital per effective worker is in steady state:\n"
     ]
    },
    {
     "data": {
      "text/latex": [
       "$\\displaystyle \\tilde{h}^{*} = 0.312147538484987$"
      ],
      "text/plain": [
       "Eq(htilde^*, 0.312147538484987)"
      ]
     },
     "metadata": {},
     "output_type": "display_data"
    },
    {
     "name": "stdout",
     "output_type": "stream",
     "text": [
      "With the given parameter values. GDP per worker is in steady state:\n"
     ]
    },
    {
     "data": {
      "text/latex": [
       "$\\displaystyle y^{*} = 1.58024691358025$"
      ],
      "text/plain": [
       "Eq(y^*, 1.58024691358025)"
      ]
     },
     "metadata": {},
     "output_type": "display_data"
    }
   ],
   "source": [
    "down_paren2 = (n+g+delta+n*g)\n",
    "power111 = (1/(1-alpha-phi))\n",
    "power22 = ((alpha+phi)/(1-alpha-phi)) #Again both of these lines are just because of cleaner code\n",
    "\n",
    "k_ex_ss_value = sm.Eq(k_tilde_star_ex,(((sk/(n+g+delta+tau+n*g))*((tau**phi)/((n+g+delta+n*g)**phi)))**(1/(1-alpha-phi))))\n",
    "h_ex_ss_value = sm.Eq(h_tilde_star_ex,(((sk/(down_paren2+tau))*((tau**(1-alpha))/((down_paren2+tau)**(1-alpha))))**power111))\n",
    "y_ex_ss_value = sm.Eq(y_star_ex,A*(((tau/(down_paren2))**(phi/(1-alpha-phi)))*((sk/(down_paren2+tau))**power22)))\n",
    "print('With the given parameter values. Physical capital per effective worker is in steady state:')\n",
    "display(k_ex_ss_value)\n",
    "print('With the given parameter values. Human capital per effective worker is in steady state:')\n",
    "display(h_ex_ss_value)\n",
    "print('With the given parameter values. GDP per worker is in steady state:')\n",
    "display(y_ex_ss_value)"
   ]
  },
  {
   "cell_type": "markdown",
   "id": "a2643b26-0042-49c0-ad7b-c33a6535e051",
   "metadata": {},
   "source": [
    "We now see in the extended model with a tax on physical capital much lower steady state values for $\\tilde{k}_t$, $\\tilde{h}_t$, and ${y}_t$. This could indicate that a tax on wealth is not a desirable thing. The intuition is that there is now almost no cross effects from human capital to physical capital, since a higher level of physical capital equals a higher level of human capital and GDP per worker, but higher levels of human capital now doesn't give higher values of physical capital, so the effect is now much much smaller as seen by the values of all three. The same can be said for the self-reinforcing effects meaning that higher levels of physical- and human capital gives higher values of GDP per worker which gives higher values of the savings rates on both human- and physical capital which gives higher values of physical- and human capital, and so on. This effect is now dampended by the tax rate which will now create a deadweight loss on physical capital giving much smaller values in steady state as seen above."
   ]
  },
  {
   "cell_type": "markdown",
   "id": "9b57dc7e-fc4e-4d53-9c8b-a19ca64aa01c",
   "metadata": {},
   "source": [
    "# Interactive phase diagram"
   ]
  },
  {
   "cell_type": "markdown",
   "id": "170b3b07-063c-4d6c-ad2f-71d23d4dbcb5",
   "metadata": {},
   "source": [
    "In this section we again visualize the transition to steady state via an interactive phase diagram.\n",
    "\n",
    "To be able to draw the phase diagram we must again first have the so called nullclines.\n",
    "The nullclines can be isolated from the Solow eqautions parallel as to the baseline model"
   ]
  },
  {
   "cell_type": "code",
   "execution_count": 33,
   "id": "6b22c924-c719-41ac-82bc-2faed4337e5d",
   "metadata": {},
   "outputs": [
    {
     "data": {
      "text/latex": [
       "$\\displaystyle 0 = \\frac{\\left(g + 1\\right) \\left(\\tilde{h}_{t}^{\\phi} \\tilde{k}_{t}^{\\alpha} s_{K} - \\tilde{k}_{t} \\left(\\delta + g n + g + n + \\tau\\right)\\right)}{n + 1}$"
      ],
      "text/plain": [
       "Eq(0, (g + 1)*(htilde_t**phi*ktilde_t**alpha*s_K - ktilde_t*(delta + g*n + g + n + tau))/(n + 1))"
      ]
     },
     "metadata": {},
     "output_type": "display_data"
    },
    {
     "data": {
      "text/latex": [
       "$\\displaystyle 0 = \\frac{\\left(g + 1\\right) \\left(- \\tilde{h}_{t} \\left(\\delta + g n + g + n\\right) + \\tilde{k}_{t} \\tau\\right)}{n + 1}$"
      ],
      "text/plain": [
       "Eq(0, (g + 1)*(-htilde_t*(delta + g*n + g + n) + ktilde_t*tau)/(n + 1))"
      ]
     },
     "metadata": {},
     "output_type": "display_data"
    }
   ],
   "source": [
    "#First we set the Solow equations equal to 0\n",
    "null_k_ex = sm.Eq(0, ((1/(1+n_ex)*(1+g_ex))*(sk_ex*k_and_h_tilde-(down_paren+tau_ex)*k_tilde_ex)))\n",
    "null_h_ex = sm.Eq(0, ((1/(1+n_ex)*(1+g_ex))*(tau_ex*k_tilde_ex-(down_paren)*h_tilde_ex)))\n",
    "display(null_k_ex, null_h_ex)"
   ]
  },
  {
   "cell_type": "markdown",
   "id": "88b6a58f-5a57-491f-8426-108430b999ea",
   "metadata": {},
   "source": [
    "Now that we have these we can again solve for $\\tilde{h}_t$ in both of these equations and we will then get the nullclines"
   ]
  },
  {
   "cell_type": "code",
   "execution_count": 34,
   "id": "f7f3ac79-2982-4c34-95fe-c4a0f3d12aaa",
   "metadata": {},
   "outputs": [
    {
     "data": {
      "text/latex": [
       "$\\displaystyle \\left(\\frac{\\tilde{k}_{t}^{1 - \\alpha} \\left(\\delta + g n + g + n + \\tau\\right)}{s_{K}}\\right)^{\\frac{1}{\\phi}}$"
      ],
      "text/plain": [
       "(ktilde_t**(1 - alpha)*(delta + g*n + g + n + tau)/s_K)**(1/phi)"
      ]
     },
     "metadata": {},
     "output_type": "display_data"
    },
    {
     "data": {
      "text/latex": [
       "$\\displaystyle \\frac{\\tilde{k}_{t} \\tau}{\\delta + g n + g + n}$"
      ],
      "text/plain": [
       "ktilde_t*tau/(delta + g*n + g + n)"
      ]
     },
     "metadata": {},
     "output_type": "display_data"
    }
   ],
   "source": [
    "nullcline_k_ex = sm.solve(null_k_ex, h_tilde)[0]\n",
    "nullcline_h_ex = sm.solve(null_h_ex, h_tilde)[0]\n",
    "display(nullcline_k_ex, nullcline_h_ex)"
   ]
  },
  {
   "cell_type": "markdown",
   "id": "f23eab8b-e50d-4484-a797-38f240db289d",
   "metadata": {},
   "source": [
    "These are our so-called nullclines for $\\tilde{k}_t$ and $\\tilde{h}_t$, respectively.\n",
    "It is not so hard to see with realistic parameter values of $\\alpha$=$\\phi$=1/3 that $\\tilde{k}_t$ is a $\\tilde{k}^2$ function and that $\\tilde{h}$ is a linear function, nevertheles we show down below the transition to steady state."
   ]
  },
  {
   "cell_type": "code",
   "execution_count": 71,
   "id": "bd48025c-a227-454f-b84a-d5c0f2e7ac79",
   "metadata": {},
   "outputs": [
    {
     "data": {
      "application/vnd.jupyter.widget-view+json": {
       "model_id": "59156f928a694e0e83396f145116dd83",
       "version_major": 2,
       "version_minor": 0
      },
      "text/plain": [
       "interactive(children=(FloatSlider(value=0.0, description='$n$', max=0.99, min=-0.99, step=0.05), FloatSlider(v…"
      ]
     },
     "metadata": {},
     "output_type": "display_data"
    }
   ],
   "source": [
    "#a. First we define the two nullclines as functions\n",
    "def nullcline3_k(k, alpha, sk, phi, n, g, delta, tau):\n",
    "    return ((((k**(1-alpha))*(delta+tau+n+g+n*g))/sk)**(1/phi))\n",
    "\n",
    "def nullcline3_h(k, tau, n, g, delta):\n",
    "    return ((k*tau)/(delta+n+g+n*g))\n",
    "\n",
    "#b. Now we can define the interactive figure\n",
    "def interac_phase2(n, g, delta, alpha, phi, sk, tau):\n",
    "\n",
    "    #Restrictions on the model\n",
    "    if alpha+phi >= 1:\n",
    "        result = print(r'$\\alpha + \\varphi$ have to be stricly smaller than 1')\n",
    "    elif alpha+phi >= 1:\n",
    "        result = print(r'$\\alpha + \\varphi$ has to be stricly smaller than 1')\n",
    "    elif n+g+tau+delta+n*g <= 0:\n",
    "        result = print(r'$n+\\tau+g+\\delta+ng$ has to be strictly greater than $0$.')\n",
    "    \n",
    "    #Range for k\n",
    "    k = np.arange(0, 100, 0.1)\n",
    "    \n",
    "    plt.figure(dpi=120)\n",
    "    \n",
    "    plt.xlabel(r'$\\tilde{k_t}$',fontsize=10, color = \"black\" )\n",
    "    plt.ylabel(r'$\\tilde{h_t}$', fontsize=10, color = \"black\")\n",
    "    plt.title(r'Figure 2: The Solow diagram with human capial and a tax on wealth', fontsize=10)\n",
    "    \n",
    "    # Plotting the nullclines\n",
    "    plt.plot(k, nullcline3_k(k, sk, phi, alpha, delta, n, g, tau))\n",
    "    plt.plot(k, nullcline3_h(k, tau, delta, n, g))\n",
    "\n",
    "    #Plotting the legend\n",
    "    plt.legend((r'$\\left[\\Delta\\tilde{k}_{t}=0\\right]$',\n",
    "                    r'$\\left[\\Delta\\tilde{h}_{t}=0\\right]$'),\n",
    "                   shadow=True, handlelength=1.4, fontsize=10)\n",
    "    \n",
    "    plt.axis([0,20,0,20])\n",
    "    plt.show()\n",
    "\n",
    "#Plotting the figure and interactive slider for the parameter values\n",
    "interactive_plot2 = interactive(interac_phase2, \n",
    "                               sk=widgets.FloatSlider(description=\"$s_K$\", \n",
    "                                                       min=0.1,\n",
    "                                                       max=0.99,\n",
    "                                                       step=0.05,\n",
    "                                                       value=0.20,\n",
    "                                                       continuous_update=True),\n",
    "                               tau=widgets.FloatSlider(description=\"$\\tau$\", \n",
    "                                                       min=0,\n",
    "                                                       max=1,\n",
    "                                                       step=0.05,\n",
    "                                                       value=0.15,\n",
    "                                                       continuous_update=True),\n",
    "                               alpha=widgets.FloatSlider(description='$\\alpha$',\n",
    "                                                         min=0.01,\n",
    "                                                         max=0.99,\n",
    "                                                         step=0.05,\n",
    "                                                         value=(1/3),\n",
    "                                                         continuous_update=True),\n",
    "                               phi=widgets.FloatSlider(description='$\\phi$',\n",
    "                                                         min=0.01,\n",
    "                                                         max=0.99,\n",
    "                                                         step=0.05,\n",
    "                                                         value=(1/3),\n",
    "                                                         continuous_update=True),\n",
    "                               n=widgets.FloatSlider(description='$n$',\n",
    "                                                         min=-0.99,\n",
    "                                                         max=0.99,\n",
    "                                                         step=0.05,\n",
    "                                                         value=0,\n",
    "                                                         continuous_update=True),\n",
    "                               g=widgets.FloatSlider(description='$g$',\n",
    "                                                         min=-0.99,\n",
    "                                                         max=0.99,\n",
    "                                                         step=0.05,\n",
    "                                                         value=0.15,\n",
    "                                                         continuous_update=True),\n",
    "                               delta=widgets.FloatSlider(description='$\\delta$',\n",
    "                                                         min=0.01,\n",
    "                                                         max=0.99,\n",
    "                                                         step=0.05,\n",
    "                                                         value=0.06,\n",
    "                                                         continuous_update=True)\n",
    "                              )\n",
    "                              \n",
    "interactive_plot2"
   ]
  },
  {
   "cell_type": "markdown",
   "id": "e05c4aa8-7691-44e2-ac32-455bd7d3e4fa",
   "metadata": {},
   "source": [
    "In figure 2 we see the transition to steady state for $\\tilde{k}_t$ and $\\tilde{h}_t$ in the extende Solow model with a tax on wealth.\n",
    "\n",
    "We see that in general the transition is at a lower point, indicating that a tax on wealth is not a good thing. We again see for higher values of $\\alpha$, $\\phi$, $g$, and $s_K$ that the transition to steady state takes longer. The intuition to that is pretty much the same as the baseline model. Higher values of $\\alpha$ and $\\phi$ makes the effect of declining marginalproduct much smaller. Higher values of $g$ makes physical- and human capital more efficient and therefore raises the marginalproduct of them. Higher values of $s_K$ gives more physical capital which in turn gives higher GDP per worker. Higher values of $n$ and $\\delta$ and know also $/tau$ makes the transition to steady state quicker. A higher value of $n$ and $/delta$ gives more destruction and thinng out of physical- and human capital. The new thing is $\\tau$. Higher values of $\\tau$ gives higher values of human capital in steady state and lower values of physical capital in steady state, which of course can be explained by a higher tax rate equalling more accumilation of human capital compared to physical capital.\n",
    "\n",
    "It should however be noted that it is possible to gain higher values of GDP per worker in this model compared to the baseline model, however it would require a pretty large jump in some parameter values."
   ]
  },
  {
   "cell_type": "markdown",
   "id": "b333591d-437c-4747-8fa9-197e57e74c42",
   "metadata": {},
   "source": [
    "# Solving the model numerically"
   ]
  },
  {
   "cell_type": "markdown",
   "id": "96bddf8a-db5b-4857-bbe8-8249b9240215",
   "metadata": {},
   "source": [
    "Once again, we specify the steady state equation for $\\tilde{h}_t$ and $\\tilde{k}_t$ but this time with the government tax rate ($\\tau$). Below we also provide an alternative solution using the Newton method. There,we can also observe/display the number of iterations."
   ]
  },
  {
   "cell_type": "markdown",
   "id": "8e6af92a-06d0-4df6-8417-fb8121cade22",
   "metadata": {},
   "source": [
    "## Bisect method:"
   ]
  },
  {
   "cell_type": "code",
   "execution_count": 37,
   "id": "dc489d82-b825-469b-92a5-d92d0f88c2f3",
   "metadata": {},
   "outputs": [
    {
     "name": "stdout",
     "output_type": "stream",
     "text": [
      "[1.40466543 2.80931593]\n"
     ]
    },
    {
     "name": "stderr",
     "output_type": "stream",
     "text": [
      "/var/folders/5x/nmt_pwm97b5123_td6099w_r0000gn/T/ipykernel_5444/2628190707.py:22: RuntimeWarning: invalid value encountered in double_scalars\n",
      "  return (1/((1+n)*(1+g)))*(sk*(k**alpha)*(h**phi)+(1-delta-tau)*k)-k\n",
      "/Users/lucasbillot/opt/anaconda3/lib/python3.9/site-packages/scipy/optimize/nonlin.py:1016: RuntimeWarning: invalid value encountered in true_divide\n",
      "  d = v / vdot(df, v)\n"
     ]
    }
   ],
   "source": [
    "# Defining steady state function for physical capital, k\n",
    "def k_ex_trans_num(k, h, alpha, phi, g, sk, tau, n, delta):\n",
    "    \"\"\" bisection\n",
    "    \n",
    "    Args:\n",
    "    \n",
    "        alpha  (float)          : income share of capital and labour\n",
    "        phi    (float)          : income share of human capital and labour\n",
    "        g      (float)          : growth rate of technology\n",
    "        sk     (float)          : savings rate of physical capital\n",
    "        tau    (float)          : tax rate\n",
    "        n      (float)          : growth rate of labour\n",
    "        delta  (float)          : depreciation rate on human- and physcial capital\n",
    "        h      (float)          : human capital per effective worker\n",
    "        k      (float)          : physical capital per effective worker\n",
    "    \n",
    "    Returns:\n",
    "    \n",
    "        steady state value for k(tilde)^*\n",
    "        \n",
    "    \"\"\"  \n",
    "    return (1/((1+n)*(1+g)))*(sk*(k**alpha)*(h**phi)+(1-delta-tau)*k)-k\n",
    "\n",
    "# Defining steady state function for human capital, h\n",
    "def h_ex_trans_num(k, h, alpha, phi, g, sk, tau, n, delta):\n",
    "    \"\"\" bisection\n",
    "    \n",
    "    Args:\n",
    "    \n",
    "        alpha  (float)          : income share of capital and labour\n",
    "        phi    (float)          : income share of human capital and labour\n",
    "        g      (float)          : growth rate of technology\n",
    "        sk     (float)          : savings rate of physical capital\n",
    "        tau    (float)          : tax rate\n",
    "        n      (float)          : growth rate of labour\n",
    "        delta  (float)          : depreciation rate on human- and physcial capital\n",
    "        h      (float)          : human capital per effective worker\n",
    "        k      (float)          : physical capital per effective worker\n",
    "    \n",
    "    Returns:\n",
    "    \n",
    "        steady state value for h(tilde)^*\n",
    "        \n",
    "    \"\"\"  \n",
    "    return (1/((1+n)*(1+g)))*(tau*k+(1-delta)*h)-h\n",
    "\n",
    "# Next we specify our objective function forh and k\n",
    "obj2 = lambda x: [k_ex_trans_num(x[0],x[1],alpha, phi, g, sk, tau, n, delta),h_ex_trans_num(x[0],x[1],alpha, phi, g, sk, tau, n, delta)]\n",
    "\n",
    "#We solve the vector functions\n",
    "sol = optimize.root(obj2,[0.5,0.5],method = 'broyden1')\n",
    "\n",
    "print(sol.x)"
   ]
  },
  {
   "cell_type": "markdown",
   "id": "08b0d81d-23b8-4a17-97f4-06c1bacb0ccf",
   "metadata": {},
   "source": [
    "We see that $\\tilde{k}_t$ gives us the right answer but $\\tilde{h}_t$ does not. We have tried to input the equations into Excel and we have tried to change the parenthesis multiple times, but we can't seem to get the corresponding $\\tilde{h}_t$. Excel also outputs the same as sympy, making us question if sympy, the equation in itself or scipy is wrong we cant figure it out?"
   ]
  },
  {
   "cell_type": "markdown",
   "id": "369cf1ac-df39-42b2-9663-e118291424e5",
   "metadata": {},
   "source": [
    "**Symbolically, we get:**"
   ]
  },
  {
   "cell_type": "code",
   "execution_count": 38,
   "id": "11bd0d5a-017d-47ad-ac73-77d6e6447d4e",
   "metadata": {},
   "outputs": [
    {
     "name": "stdout",
     "output_type": "stream",
     "text": [
      "With the given parameter values. Physical capital per effective worker is in steady state:\n"
     ]
    },
    {
     "data": {
      "text/latex": [
       "$\\displaystyle \\tilde{k}^{*} = 1.40466392318244$"
      ],
      "text/plain": [
       "Eq(ktilde^*, 1.40466392318244)"
      ]
     },
     "metadata": {},
     "output_type": "display_data"
    },
    {
     "name": "stdout",
     "output_type": "stream",
     "text": [
      "With the given parameter values. Human capital per effective worker is in steady state:\n"
     ]
    },
    {
     "data": {
      "text/latex": [
       "$\\displaystyle \\tilde{h}^{*} = 0.312147538484987$"
      ],
      "text/plain": [
       "Eq(htilde^*, 0.312147538484987)"
      ]
     },
     "metadata": {},
     "output_type": "display_data"
    },
    {
     "name": "stdout",
     "output_type": "stream",
     "text": [
      "With the given parameter values. GDP per worker is in steady state:\n"
     ]
    },
    {
     "data": {
      "text/latex": [
       "$\\displaystyle y^{*} = 1.58024691358025$"
      ],
      "text/plain": [
       "Eq(y^*, 1.58024691358025)"
      ]
     },
     "metadata": {},
     "output_type": "display_data"
    }
   ],
   "source": [
    "k_ex_ss_value = sm.Eq(k_tilde_star_ex,(((sk/(n+g+delta+tau+n*g))*((tau**phi)/((n+g+delta+n*g)**phi)))**(1/(1-alpha-phi))))\n",
    "h_ex_ss_value = sm.Eq(h_tilde_star_ex,(((sk/(down_paren2+tau))*((tau**(1-alpha))/((down_paren2+tau)**(1-alpha))))**power111))\n",
    "y_ex_ss_value = sm.Eq(y_star_ex,A*(((tau/(down_paren2))**(phi/(1-alpha-phi)))*((sk/(down_paren2+tau))**power22)))\n",
    "print('With the given parameter values. Physical capital per effective worker is in steady state:')\n",
    "display(k_ex_ss_value)\n",
    "print('With the given parameter values. Human capital per effective worker is in steady state:')\n",
    "display(h_ex_ss_value)\n",
    "print('With the given parameter values. GDP per worker is in steady state:')\n",
    "display(y_ex_ss_value)"
   ]
  },
  {
   "cell_type": "markdown",
   "id": "eff922cf-76a7-43f4-b00b-a82dbd234d62",
   "metadata": {},
   "source": [
    "**Numerically, we get:**"
   ]
  },
  {
   "cell_type": "code",
   "execution_count": 39,
   "id": "ebf5ea30-7ed8-4c58-bb71-8270fb2ccb29",
   "metadata": {},
   "outputs": [
    {
     "name": "stdout",
     "output_type": "stream",
     "text": [
      "[1.40466543 2.80931593]\n"
     ]
    }
   ],
   "source": [
    "print(sol.x)"
   ]
  },
  {
   "cell_type": "markdown",
   "id": "b79e1b42-4e51-411a-86d4-be7e79472312",
   "metadata": {},
   "source": [
    "As expected, the symbolical and numerical solutions turn out identical. "
   ]
  },
  {
   "cell_type": "markdown",
   "id": "901f2fda-956c-4ccf-b7d0-f2d1b76e6219",
   "metadata": {},
   "source": [
    "## Newton method:"
   ]
  },
  {
   "cell_type": "markdown",
   "id": "1bc47c87-80ea-4b8f-b2c6-128cf6ab1ed7",
   "metadata": {},
   "source": [
    "See also this: https://docs.scipy.org/doc/scipy/reference/generated/scipy.optimize.newton_krylov.html"
   ]
  },
  {
   "cell_type": "code",
   "execution_count": 41,
   "id": "8d5fd81a-39ac-4fa3-9d92-5e303e63b472",
   "metadata": {},
   "outputs": [],
   "source": [
    "def f2(x):\n",
    "    kss_func_x2 = (1/((1+n)*(1+g)))*(sk*(x[0]**alpha)*(x[1]**phi)+(1-delta-tau)*x[0])-x[0]\n",
    "    hss_func_x2 = (1/((1+n)*(1+g)))*(tau*x[0]+(1-delta)*x[1])-x[1] \n",
    "    return [kss_func_x2, hss_func_x2]"
   ]
  },
  {
   "cell_type": "code",
   "execution_count": 42,
   "id": "298fd017-eed4-4477-892c-b7e82f050909",
   "metadata": {},
   "outputs": [
    {
     "name": "stdout",
     "output_type": "stream",
     "text": [
      "[1.40466401 2.80932801]\n"
     ]
    }
   ],
   "source": [
    "solution2 = optimize.newton_krylov(f2, [1, 2.5], maxiter=100)\n",
    "print(solution2)"
   ]
  },
  {
   "cell_type": "code",
   "execution_count": null,
   "id": "0927d0aa-63ea-4c71-a3f7-f03b4cbac743",
   "metadata": {},
   "outputs": [],
   "source": []
  },
  {
   "cell_type": "code",
   "execution_count": null,
   "id": "dd39740a-f516-41db-a3aa-4822c59168c8",
   "metadata": {},
   "outputs": [],
   "source": []
  },
  {
   "cell_type": "code",
   "execution_count": 43,
   "id": "d9652edc-9f24-4395-a1d2-db1a2f52507d",
   "metadata": {},
   "outputs": [
    {
     "ename": "NameError",
     "evalue": "name 'k_ex_ss_func' is not defined",
     "output_type": "error",
     "traceback": [
      "\u001b[0;31m---------------------------------------------------------------------------\u001b[0m",
      "\u001b[0;31mNameError\u001b[0m                                 Traceback (most recent call last)",
      "\u001b[0;32m/var/folders/5x/nmt_pwm97b5123_td6099w_r0000gn/T/ipykernel_5444/1878305571.py\u001b[0m in \u001b[0;36m<module>\u001b[0;34m\u001b[0m\n\u001b[1;32m      5\u001b[0m \u001b[0;31m# find root\u001b[0m\u001b[0;34m\u001b[0m\u001b[0;34m\u001b[0m\u001b[0m\n\u001b[1;32m      6\u001b[0m \u001b[0mx0\u001b[0m \u001b[0;34m=\u001b[0m \u001b[0;36m11\u001b[0m\u001b[0;34m\u001b[0m\u001b[0;34m\u001b[0m\u001b[0m\n\u001b[0;32m----> 7\u001b[0;31m \u001b[0mx\u001b[0m\u001b[0;34m,\u001b[0m\u001b[0mi\u001b[0m \u001b[0;34m=\u001b[0m \u001b[0mfind_root\u001b[0m\u001b[0;34m(\u001b[0m\u001b[0;34m[\u001b[0m\u001b[0;36m5\u001b[0m\u001b[0;34m,\u001b[0m \u001b[0;36m9\u001b[0m\u001b[0;34m]\u001b[0m\u001b[0;34m,\u001b[0m\u001b[0mobj1\u001b[0m\u001b[0;34m,\u001b[0m\u001b[0mfp_approx\u001b[0m\u001b[0;34m,\u001b[0m\u001b[0mmethod\u001b[0m\u001b[0;34m=\u001b[0m\u001b[0;34m'newton'\u001b[0m\u001b[0;34m)\u001b[0m\u001b[0;34m\u001b[0m\u001b[0;34m\u001b[0m\u001b[0m\n\u001b[0m\u001b[1;32m      8\u001b[0m \u001b[0mprint\u001b[0m\u001b[0;34m(\u001b[0m\u001b[0;34mf'iterations: {i}, root: {x}, f(x) = {obj1(x)}'\u001b[0m\u001b[0;34m)\u001b[0m\u001b[0;34m\u001b[0m\u001b[0;34m\u001b[0m\u001b[0m\n",
      "\u001b[0;32m/var/folders/5x/nmt_pwm97b5123_td6099w_r0000gn/T/ipykernel_5444/3423027755.py\u001b[0m in \u001b[0;36mfind_root\u001b[0;34m(x0, f, df, d2f, method, max_iter, tol, full_info)\u001b[0m\n\u001b[1;32m     36\u001b[0m         \u001b[0;31m# step 2: evaluate function and derivatives\u001b[0m\u001b[0;34m\u001b[0m\u001b[0;34m\u001b[0m\u001b[0m\n\u001b[1;32m     37\u001b[0m         \u001b[0mfx\u001b[0m \u001b[0;34m=\u001b[0m \u001b[0mf\u001b[0m\u001b[0;34m(\u001b[0m\u001b[0mx\u001b[0m\u001b[0;34m)\u001b[0m\u001b[0;34m\u001b[0m\u001b[0;34m\u001b[0m\u001b[0m\n\u001b[0;32m---> 38\u001b[0;31m         \u001b[0mdfx\u001b[0m \u001b[0;34m=\u001b[0m \u001b[0mdf\u001b[0m\u001b[0;34m(\u001b[0m\u001b[0mx\u001b[0m\u001b[0;34m)\u001b[0m\u001b[0;34m\u001b[0m\u001b[0;34m\u001b[0m\u001b[0m\n\u001b[0m\u001b[1;32m     39\u001b[0m         \u001b[0;32mif\u001b[0m \u001b[0mmethod\u001b[0m \u001b[0;34m==\u001b[0m \u001b[0;34m'halley'\u001b[0m\u001b[0;34m:\u001b[0m\u001b[0;34m\u001b[0m\u001b[0;34m\u001b[0m\u001b[0m\n\u001b[1;32m     40\u001b[0m             \u001b[0md2fx\u001b[0m \u001b[0;34m=\u001b[0m \u001b[0md2f\u001b[0m\u001b[0;34m(\u001b[0m\u001b[0mx\u001b[0m\u001b[0;34m)\u001b[0m\u001b[0;34m\u001b[0m\u001b[0;34m\u001b[0m\u001b[0m\n",
      "\u001b[0;32m/var/folders/5x/nmt_pwm97b5123_td6099w_r0000gn/T/ipykernel_5444/1878305571.py\u001b[0m in \u001b[0;36m<lambda>\u001b[0;34m(x)\u001b[0m\n\u001b[1;32m      1\u001b[0m \u001b[0;31m# numerical derivative (forward)\u001b[0m\u001b[0;34m\u001b[0m\u001b[0;34m\u001b[0m\u001b[0m\n\u001b[1;32m      2\u001b[0m \u001b[0mΔ\u001b[0m \u001b[0;34m=\u001b[0m \u001b[0;36m1e-8\u001b[0m\u001b[0;34m\u001b[0m\u001b[0;34m\u001b[0m\u001b[0m\n\u001b[0;32m----> 3\u001b[0;31m \u001b[0mfp_approx\u001b[0m \u001b[0;34m=\u001b[0m \u001b[0;32mlambda\u001b[0m \u001b[0mx\u001b[0m\u001b[0;34m:\u001b[0m \u001b[0;34m(\u001b[0m\u001b[0mk_ex_ss_func\u001b[0m\u001b[0;34m(\u001b[0m\u001b[0mx\u001b[0m\u001b[0;34m+\u001b[0m\u001b[0mΔ\u001b[0m\u001b[0;34m)\u001b[0m\u001b[0;34m-\u001b[0m\u001b[0mk_ex_ss_func\u001b[0m\u001b[0;34m(\u001b[0m\u001b[0mx\u001b[0m\u001b[0;34m)\u001b[0m\u001b[0;34m)\u001b[0m\u001b[0;34m/\u001b[0m\u001b[0mΔ\u001b[0m\u001b[0;34m\u001b[0m\u001b[0;34m\u001b[0m\u001b[0m\n\u001b[0m\u001b[1;32m      4\u001b[0m \u001b[0;34m\u001b[0m\u001b[0m\n\u001b[1;32m      5\u001b[0m \u001b[0;31m# find root\u001b[0m\u001b[0;34m\u001b[0m\u001b[0;34m\u001b[0m\u001b[0m\n",
      "\u001b[0;31mNameError\u001b[0m: name 'k_ex_ss_func' is not defined"
     ]
    }
   ],
   "source": [
    "# numerical derivative (forward)\n",
    "Δ = 1e-8\n",
    "fp_approx = lambda x: (k_ex_ss_func(x+Δ)-k_ex_ss_func(x))/Δ\n",
    "\n",
    "# find root\n",
    "x0 = 11\n",
    "x,i = find_root([5, 9],obj1,fp_approx,method='newton')\n",
    "print(f'iterations: {i}, root: {x}, f(x) = {obj1(x)}')"
   ]
  },
  {
   "cell_type": "code",
   "execution_count": 44,
   "id": "814f889b-081d-43dc-a29c-b7974f2a1bf5",
   "metadata": {},
   "outputs": [
    {
     "ename": "TypeError",
     "evalue": "can only concatenate list (not \"float\") to list",
     "output_type": "error",
     "traceback": [
      "\u001b[0;31m---------------------------------------------------------------------------\u001b[0m",
      "\u001b[0;31mTypeError\u001b[0m                                 Traceback (most recent call last)",
      "\u001b[0;32m/var/folders/5x/nmt_pwm97b5123_td6099w_r0000gn/T/ipykernel_5444/2639267609.py\u001b[0m in \u001b[0;36m<module>\u001b[0;34m\u001b[0m\n\u001b[1;32m      8\u001b[0m \u001b[0;31m# find root\u001b[0m\u001b[0;34m\u001b[0m\u001b[0;34m\u001b[0m\u001b[0m\n\u001b[1;32m      9\u001b[0m \u001b[0mx0\u001b[0m \u001b[0;34m=\u001b[0m \u001b[0;36m11\u001b[0m\u001b[0;34m\u001b[0m\u001b[0;34m\u001b[0m\u001b[0m\n\u001b[0;32m---> 10\u001b[0;31m \u001b[0mx\u001b[0m\u001b[0;34m,\u001b[0m\u001b[0mi\u001b[0m \u001b[0;34m=\u001b[0m \u001b[0mfind_root\u001b[0m\u001b[0;34m(\u001b[0m\u001b[0;34m[\u001b[0m\u001b[0;36m5\u001b[0m\u001b[0;34m,\u001b[0m \u001b[0;36m9\u001b[0m\u001b[0;34m]\u001b[0m\u001b[0;34m,\u001b[0m\u001b[0mobj1\u001b[0m\u001b[0;34m,\u001b[0m\u001b[0mfp_approx\u001b[0m\u001b[0;34m,\u001b[0m\u001b[0mmethod\u001b[0m\u001b[0;34m=\u001b[0m\u001b[0;34m'newton'\u001b[0m\u001b[0;34m)\u001b[0m\u001b[0;34m\u001b[0m\u001b[0;34m\u001b[0m\u001b[0m\n\u001b[0m\u001b[1;32m     11\u001b[0m \u001b[0mprint\u001b[0m\u001b[0;34m(\u001b[0m\u001b[0;34mf'iterations: {i}, root: {x}, f(x) = {obj1(x)}'\u001b[0m\u001b[0;34m)\u001b[0m\u001b[0;34m\u001b[0m\u001b[0;34m\u001b[0m\u001b[0m\n",
      "\u001b[0;32m/var/folders/5x/nmt_pwm97b5123_td6099w_r0000gn/T/ipykernel_5444/3423027755.py\u001b[0m in \u001b[0;36mfind_root\u001b[0;34m(x0, f, df, d2f, method, max_iter, tol, full_info)\u001b[0m\n\u001b[1;32m     36\u001b[0m         \u001b[0;31m# step 2: evaluate function and derivatives\u001b[0m\u001b[0;34m\u001b[0m\u001b[0;34m\u001b[0m\u001b[0m\n\u001b[1;32m     37\u001b[0m         \u001b[0mfx\u001b[0m \u001b[0;34m=\u001b[0m \u001b[0mf\u001b[0m\u001b[0;34m(\u001b[0m\u001b[0mx\u001b[0m\u001b[0;34m)\u001b[0m\u001b[0;34m\u001b[0m\u001b[0;34m\u001b[0m\u001b[0m\n\u001b[0;32m---> 38\u001b[0;31m         \u001b[0mdfx\u001b[0m \u001b[0;34m=\u001b[0m \u001b[0mdf\u001b[0m\u001b[0;34m(\u001b[0m\u001b[0mx\u001b[0m\u001b[0;34m)\u001b[0m\u001b[0;34m\u001b[0m\u001b[0;34m\u001b[0m\u001b[0m\n\u001b[0m\u001b[1;32m     39\u001b[0m         \u001b[0;32mif\u001b[0m \u001b[0mmethod\u001b[0m \u001b[0;34m==\u001b[0m \u001b[0;34m'halley'\u001b[0m\u001b[0;34m:\u001b[0m\u001b[0;34m\u001b[0m\u001b[0;34m\u001b[0m\u001b[0m\n\u001b[1;32m     40\u001b[0m             \u001b[0md2fx\u001b[0m \u001b[0;34m=\u001b[0m \u001b[0md2f\u001b[0m\u001b[0;34m(\u001b[0m\u001b[0mx\u001b[0m\u001b[0;34m)\u001b[0m\u001b[0;34m\u001b[0m\u001b[0;34m\u001b[0m\u001b[0m\n",
      "\u001b[0;32m/var/folders/5x/nmt_pwm97b5123_td6099w_r0000gn/T/ipykernel_5444/2639267609.py\u001b[0m in \u001b[0;36m<lambda>\u001b[0;34m(x)\u001b[0m\n\u001b[1;32m      4\u001b[0m \u001b[0;31m# numerical derivative (forward)\u001b[0m\u001b[0;34m\u001b[0m\u001b[0;34m\u001b[0m\u001b[0m\n\u001b[1;32m      5\u001b[0m \u001b[0mΔ\u001b[0m \u001b[0;34m=\u001b[0m \u001b[0;36m1e-8\u001b[0m\u001b[0;34m\u001b[0m\u001b[0;34m\u001b[0m\u001b[0m\n\u001b[0;32m----> 6\u001b[0;31m \u001b[0mfp_approx\u001b[0m \u001b[0;34m=\u001b[0m \u001b[0;32mlambda\u001b[0m \u001b[0mx\u001b[0m\u001b[0;34m:\u001b[0m \u001b[0;34m(\u001b[0m\u001b[0mh_ex_ss_func\u001b[0m\u001b[0;34m(\u001b[0m\u001b[0mx\u001b[0m\u001b[0;34m+\u001b[0m\u001b[0mΔ\u001b[0m\u001b[0;34m)\u001b[0m\u001b[0;34m-\u001b[0m\u001b[0mh_ex_ss_func\u001b[0m\u001b[0;34m(\u001b[0m\u001b[0mx\u001b[0m\u001b[0;34m)\u001b[0m\u001b[0;34m)\u001b[0m\u001b[0;34m/\u001b[0m\u001b[0mΔ\u001b[0m\u001b[0;34m\u001b[0m\u001b[0;34m\u001b[0m\u001b[0m\n\u001b[0m\u001b[1;32m      7\u001b[0m \u001b[0;34m\u001b[0m\u001b[0m\n\u001b[1;32m      8\u001b[0m \u001b[0;31m# find root\u001b[0m\u001b[0;34m\u001b[0m\u001b[0;34m\u001b[0m\u001b[0m\n",
      "\u001b[0;31mTypeError\u001b[0m: can only concatenate list (not \"float\") to list"
     ]
    }
   ],
   "source": [
    "# repeat function for GDP per worker as it is stored in the python file\n",
    "h_ex_ss_func = lambda h, alpha_ex=(1/3), phi_ex=(1/3), g_ex=0.015, sk_ex=0.2, n_ex=0, delta_ex=0.06, tau_ex=0.15: h-((sk_ex/(n_ex+g_ex+n_ex*g_ex+delta_ex+tau_ex))*((tau_ex**(1-alpha_ex))/((n_ex+g_ex+n_ex*g_ex+delta_ex+tau_ex)**(1-alpha_ex))**(1/(1-alpha_ex-phi_ex))))\n",
    "\n",
    "# numerical derivative (forward)\n",
    "Δ = 1e-8\n",
    "fp_approx = lambda x: (h_ex_ss_func(x+Δ)-h_ex_ss_func(x))/Δ\n",
    "\n",
    "# find root\n",
    "x0 = 11\n",
    "x,i = find_root([5, 9],obj1,fp_approx,method='newton')\n",
    "print(f'iterations: {i}, root: {x}, f(x) = {obj1(x)}')"
   ]
  },
  {
   "cell_type": "code",
   "execution_count": 45,
   "id": "0bd81328-748d-435d-99ca-a22a1cb24d96",
   "metadata": {},
   "outputs": [
    {
     "ename": "TypeError",
     "evalue": "can only concatenate list (not \"float\") to list",
     "output_type": "error",
     "traceback": [
      "\u001b[0;31m---------------------------------------------------------------------------\u001b[0m",
      "\u001b[0;31mTypeError\u001b[0m                                 Traceback (most recent call last)",
      "\u001b[0;32m/var/folders/5x/nmt_pwm97b5123_td6099w_r0000gn/T/ipykernel_5444/3456122244.py\u001b[0m in \u001b[0;36m<module>\u001b[0;34m\u001b[0m\n\u001b[1;32m      8\u001b[0m \u001b[0;31m# find root\u001b[0m\u001b[0;34m\u001b[0m\u001b[0;34m\u001b[0m\u001b[0m\n\u001b[1;32m      9\u001b[0m \u001b[0mx0\u001b[0m \u001b[0;34m=\u001b[0m \u001b[0;36m11\u001b[0m\u001b[0;34m\u001b[0m\u001b[0;34m\u001b[0m\u001b[0m\n\u001b[0;32m---> 10\u001b[0;31m \u001b[0mx\u001b[0m\u001b[0;34m,\u001b[0m\u001b[0mi\u001b[0m \u001b[0;34m=\u001b[0m \u001b[0mfind_root\u001b[0m\u001b[0;34m(\u001b[0m\u001b[0;34m[\u001b[0m\u001b[0;36m5\u001b[0m\u001b[0;34m,\u001b[0m \u001b[0;36m9\u001b[0m\u001b[0;34m]\u001b[0m\u001b[0;34m,\u001b[0m\u001b[0mobj1\u001b[0m\u001b[0;34m,\u001b[0m\u001b[0mfp_approx\u001b[0m\u001b[0;34m,\u001b[0m\u001b[0mmethod\u001b[0m\u001b[0;34m=\u001b[0m\u001b[0;34m'newton'\u001b[0m\u001b[0;34m)\u001b[0m\u001b[0;34m\u001b[0m\u001b[0;34m\u001b[0m\u001b[0m\n\u001b[0m\u001b[1;32m     11\u001b[0m \u001b[0mprint\u001b[0m\u001b[0;34m(\u001b[0m\u001b[0;34mf'iterations: {i}, root: {x}, f(x) = {obj1(x)}'\u001b[0m\u001b[0;34m)\u001b[0m\u001b[0;34m\u001b[0m\u001b[0;34m\u001b[0m\u001b[0m\n",
      "\u001b[0;32m/var/folders/5x/nmt_pwm97b5123_td6099w_r0000gn/T/ipykernel_5444/3423027755.py\u001b[0m in \u001b[0;36mfind_root\u001b[0;34m(x0, f, df, d2f, method, max_iter, tol, full_info)\u001b[0m\n\u001b[1;32m     36\u001b[0m         \u001b[0;31m# step 2: evaluate function and derivatives\u001b[0m\u001b[0;34m\u001b[0m\u001b[0;34m\u001b[0m\u001b[0m\n\u001b[1;32m     37\u001b[0m         \u001b[0mfx\u001b[0m \u001b[0;34m=\u001b[0m \u001b[0mf\u001b[0m\u001b[0;34m(\u001b[0m\u001b[0mx\u001b[0m\u001b[0;34m)\u001b[0m\u001b[0;34m\u001b[0m\u001b[0;34m\u001b[0m\u001b[0m\n\u001b[0;32m---> 38\u001b[0;31m         \u001b[0mdfx\u001b[0m \u001b[0;34m=\u001b[0m \u001b[0mdf\u001b[0m\u001b[0;34m(\u001b[0m\u001b[0mx\u001b[0m\u001b[0;34m)\u001b[0m\u001b[0;34m\u001b[0m\u001b[0;34m\u001b[0m\u001b[0m\n\u001b[0m\u001b[1;32m     39\u001b[0m         \u001b[0;32mif\u001b[0m \u001b[0mmethod\u001b[0m \u001b[0;34m==\u001b[0m \u001b[0;34m'halley'\u001b[0m\u001b[0;34m:\u001b[0m\u001b[0;34m\u001b[0m\u001b[0;34m\u001b[0m\u001b[0m\n\u001b[1;32m     40\u001b[0m             \u001b[0md2fx\u001b[0m \u001b[0;34m=\u001b[0m \u001b[0md2f\u001b[0m\u001b[0;34m(\u001b[0m\u001b[0mx\u001b[0m\u001b[0;34m)\u001b[0m\u001b[0;34m\u001b[0m\u001b[0;34m\u001b[0m\u001b[0m\n",
      "\u001b[0;32m/var/folders/5x/nmt_pwm97b5123_td6099w_r0000gn/T/ipykernel_5444/3456122244.py\u001b[0m in \u001b[0;36m<lambda>\u001b[0;34m(x)\u001b[0m\n\u001b[1;32m      4\u001b[0m \u001b[0;31m# numerical derivative (forward)\u001b[0m\u001b[0;34m\u001b[0m\u001b[0;34m\u001b[0m\u001b[0m\n\u001b[1;32m      5\u001b[0m \u001b[0mΔ\u001b[0m \u001b[0;34m=\u001b[0m \u001b[0;36m1e-8\u001b[0m\u001b[0;34m\u001b[0m\u001b[0;34m\u001b[0m\u001b[0m\n\u001b[0;32m----> 6\u001b[0;31m \u001b[0mfp_approx\u001b[0m \u001b[0;34m=\u001b[0m \u001b[0;32mlambda\u001b[0m \u001b[0mx\u001b[0m\u001b[0;34m:\u001b[0m \u001b[0;34m(\u001b[0m\u001b[0my_ex_ss_func\u001b[0m\u001b[0;34m(\u001b[0m\u001b[0mx\u001b[0m\u001b[0;34m+\u001b[0m\u001b[0mΔ\u001b[0m\u001b[0;34m)\u001b[0m\u001b[0;34m-\u001b[0m\u001b[0my_ex_ss_func\u001b[0m\u001b[0;34m(\u001b[0m\u001b[0mx\u001b[0m\u001b[0;34m)\u001b[0m\u001b[0;34m)\u001b[0m\u001b[0;34m/\u001b[0m\u001b[0mΔ\u001b[0m\u001b[0;34m\u001b[0m\u001b[0;34m\u001b[0m\u001b[0m\n\u001b[0m\u001b[1;32m      7\u001b[0m \u001b[0;34m\u001b[0m\u001b[0m\n\u001b[1;32m      8\u001b[0m \u001b[0;31m# find root\u001b[0m\u001b[0;34m\u001b[0m\u001b[0;34m\u001b[0m\u001b[0m\n",
      "\u001b[0;31mTypeError\u001b[0m: can only concatenate list (not \"float\") to list"
     ]
    }
   ],
   "source": [
    "# repeat function for GDP per worker as it is stored in the python file\n",
    "y_ex_ss_func = lambda y, alpha_ex=(1/3), phi_ex=(1/3), g_ex=0.015, sk_ex=0.2, n_ex=0, delta_ex=0.06, tau_ex=0.15, A_ex=1: y-(A_ex*(((tau_ex/(n_ex+g_ex+delta_ex+n_ex*g_ex))**(phi_ex/(1-alpha_ex-phi_ex)))*((sk_ex/(n_ex+g_ex+delta_ex+n_ex*g_ex+tau_ex))**((alpha_ex+phi_ex)/(1-alpha_ex-phi_ex)))))\n",
    "\n",
    "# numerical derivative (forward)\n",
    "Δ = 1e-8\n",
    "fp_approx = lambda x: (y_ex_ss_func(x+Δ)-y_ex_ss_func(x))/Δ\n",
    "\n",
    "# find root\n",
    "x0 = 11\n",
    "x,i = find_root([5, 9],obj1,fp_approx,method='newton')\n",
    "print(f'iterations: {i}, root: {x}, f(x) = {obj1(x)}')"
   ]
  },
  {
   "cell_type": "markdown",
   "id": "2c1306eb-2fd7-4347-9690-539acdf0fe1d",
   "metadata": {
    "tags": []
   },
   "source": [
    "# Comparasion of the optimizers"
   ]
  },
  {
   "cell_type": "code",
   "execution_count": 46,
   "id": "d8b066db-5e28-470e-baa8-e56f08249dfb",
   "metadata": {},
   "outputs": [
    {
     "ename": "NameError",
     "evalue": "name 'k_ex_ss_func' is not defined",
     "output_type": "error",
     "traceback": [
      "\u001b[0;31m---------------------------------------------------------------------------\u001b[0m",
      "\u001b[0;31mNameError\u001b[0m                                 Traceback (most recent call last)",
      "\u001b[0;32m/var/folders/5x/nmt_pwm97b5123_td6099w_r0000gn/T/ipykernel_5444/810245210.py\u001b[0m in \u001b[0;36m<module>\u001b[0;34m\u001b[0m\n\u001b[0;32m----> 1\u001b[0;31m \u001b[0mplot_find_root\u001b[0m\u001b[0;34m(\u001b[0m\u001b[0;36m10\u001b[0m\u001b[0;34m,\u001b[0m\u001b[0mk_ex_ss_func\u001b[0m\u001b[0;34m,\u001b[0m\u001b[0mfp_approx\u001b[0m\u001b[0;34m,\u001b[0m\u001b[0mfpp\u001b[0m\u001b[0;34m=\u001b[0m\u001b[0;32mNone\u001b[0m\u001b[0;34m,\u001b[0m\u001b[0mmethod\u001b[0m\u001b[0;34m=\u001b[0m\u001b[0;34m'newton'\u001b[0m\u001b[0;34m,\u001b[0m\u001b[0mxmin\u001b[0m\u001b[0;34m=\u001b[0m\u001b[0;36m5\u001b[0m\u001b[0;34m,\u001b[0m\u001b[0mxmax\u001b[0m\u001b[0;34m=\u001b[0m\u001b[0;36m20\u001b[0m\u001b[0;34m,\u001b[0m\u001b[0mxn\u001b[0m\u001b[0;34m=\u001b[0m\u001b[0;36m50\u001b[0m\u001b[0;34m,\u001b[0m \u001b[0mvline\u001b[0m \u001b[0;34m=\u001b[0m \u001b[0;32mFalse\u001b[0m\u001b[0;34m)\u001b[0m\u001b[0;34m\u001b[0m\u001b[0;34m\u001b[0m\u001b[0m\n\u001b[0m",
      "\u001b[0;31mNameError\u001b[0m: name 'k_ex_ss_func' is not defined"
     ]
    }
   ],
   "source": [
    "plot_find_root(10,k_ex_ss_func,fp_approx,fpp=None,method='newton',xmin=5,xmax=20,xn=50, vline = False)"
   ]
  },
  {
   "cell_type": "code",
   "execution_count": 47,
   "id": "b3c87197-4900-4430-abd6-30f344099e42",
   "metadata": {},
   "outputs": [
    {
     "data": {
      "application/vnd.jupyter.widget-view+json": {
       "model_id": "262b4f98c38f411988ce59d3452a8f9d",
       "version_major": 2,
       "version_minor": 0
      },
      "text/plain": [
       "interactive(children=(IntSlider(value=0, description='iterations', max=0), Output()), _dom_classes=('widget-in…"
      ]
     },
     "metadata": {},
     "output_type": "display_data"
    }
   ],
   "source": [
    "plot_find_root(10,h_ex_ss_func,fp_approx,fpp=None,method='newton',xmin=5,xmax=20,xn=50, vline = False)"
   ]
  },
  {
   "cell_type": "code",
   "execution_count": 48,
   "id": "11fa80bc-584b-4cd4-9b08-acc7441a3985",
   "metadata": {},
   "outputs": [
    {
     "data": {
      "application/vnd.jupyter.widget-view+json": {
       "model_id": "f5d2df31ac6e400e8134e63b7ce9df95",
       "version_major": 2,
       "version_minor": 0
      },
      "text/plain": [
       "interactive(children=(IntSlider(value=0, description='iterations', max=0), Output()), _dom_classes=('widget-in…"
      ]
     },
     "metadata": {},
     "output_type": "display_data"
    }
   ],
   "source": [
    "plot_find_root(10,y_ex_ss_func,fp_approx,fpp=None,method='newton',xmin=5,xmax=20,xn=50, vline = False)"
   ]
  },
  {
   "cell_type": "markdown",
   "id": "d25ce42d-b6bf-4404-9aa7-367130438808",
   "metadata": {},
   "source": [
    "# Conclusion for extended model\n",
    "\n",
    "In the extended Solow model with a tax on wealth we saw that for higher values of $\\alpha$, $\\phi$, $s_K$, and $g$ the transition to steady state was longer, promting that politics to increase these values are desireable. On the other hand we also saw that higher values of $n$ and $\\delta$ made the transition to steady state faster, promting that politics to decrease these values are desireable. We saw that for higher values of $\\tau$ the steady state values of physical capital dropped and the steady state value of human capital rose, showing a deadweight loss on physical capital, meaning that the value of $\\tau$ is more about fairness than efficiency.\n",
    "We also saw that in general the steady state values were much lower compared to that of the baseline models, promting that a tax on wealth should not be introduced into the economy, however it is possible to gain higher values, but the economy would have to raise some of the parameter values fairly much.\n",
    "\n",
    "In the above evaluation, we demonstrate that both the bisect and Newton method are suitable ways to optimize the Solow Growth model for human and physical capital. Notably, the Newton method provides a more efficient, as less iterations, way. "
   ]
  },
  {
   "cell_type": "markdown",
   "id": "8279ab49-1204-4821-882c-4d1918442ba3",
   "metadata": {},
   "source": [
    "# Comparision of the two models"
   ]
  },
  {
   "cell_type": "markdown",
   "id": "0639ed7f-a1e7-404f-be50-ffa9c81874d1",
   "metadata": {},
   "source": [
    "Perhaps the most important measure of welfare is GDP per worker. That is why it is natural to ask how well these models perform measured by GDP per worker and obviosuly the models with the highest values must do something better, and since the models is a comparasion between whether or not a tax on wealth is good or bad a good place to start is comparing the GDP per worker values for the two models."
   ]
  },
  {
   "cell_type": "markdown",
   "id": "a9a180bd-ca4d-490c-9582-0a39f1f53c29",
   "metadata": {},
   "source": [
    "If you remember we got these values for the baseline model and the extended model, respectively:"
   ]
  },
  {
   "cell_type": "code",
   "execution_count": 49,
   "id": "e04cd576-7869-49b1-b77d-7a15ab0fa21e",
   "metadata": {},
   "outputs": [
    {
     "data": {
      "text/latex": [
       "$\\displaystyle y^{*} = 5.33333333333333$"
      ],
      "text/plain": [
       "Eq(y^*, 5.33333333333333)"
      ]
     },
     "metadata": {},
     "output_type": "display_data"
    },
    {
     "data": {
      "text/latex": [
       "$\\displaystyle y^{*} = 1.58024691358025$"
      ],
      "text/plain": [
       "Eq(y^*, 1.58024691358025)"
      ]
     },
     "metadata": {},
     "output_type": "display_data"
    }
   ],
   "source": [
    "display(y_steady_state_value, y_ex_ss_value)"
   ]
  },
  {
   "cell_type": "markdown",
   "id": "52baca29-20a5-44da-8fbf-724d67b14ca5",
   "metadata": {},
   "source": [
    "With the realistic parameter values we see that the baseline model reigns superior and therefore that a tax on wealth is not a good idea."
   ]
  },
  {
   "cell_type": "markdown",
   "id": "d394104c-c55d-4d6e-94aa-e1a9981242bd",
   "metadata": {},
   "source": [
    "Does this conclusion change when we try to calculate the GDP per worker steady state values for different parameter values?"
   ]
  },
  {
   "cell_type": "code",
   "execution_count": 50,
   "id": "fd33e3a6-16c2-4a39-bffd-de58b816963a",
   "metadata": {},
   "outputs": [],
   "source": [
    "#Making functions so a to parametrize them\n",
    "def y_variable(alpha, phi, delta, n, g, sh, sk, A):\n",
    "    if alpha+phi >= 1.0 and sh+sk >= 1.0:\n",
    "        result = print(\n",
    "            r'$\\alpha + \\varphi$ and $s_H+s_K$ have to be stricly smaller than 1.0')\n",
    "    elif sh+sk >= 1.0:\n",
    "        result = print(\n",
    "            r'$s_H+s_K$ has to be stricly smaller than 1.0')\n",
    "    elif alpha+phi >= 1.0:\n",
    "        result = print(\n",
    "            r'$\\alpha + \\varphi$ has to be stricly smaller than 1.0')\n",
    "    elif n+g+delta+n*g <= 0:\n",
    "        result = print(\n",
    "        r'$n+g+\\delta+ng$ has to be strictly greater than $0$.')\n",
    "    return (((sk_div2*((sh/(n+g+delta+n*g))**(phi/(1-alpha-phi))))*A))\n",
    "    \n",
    "def y_variable2(alpha, phi, delta, n, g, tau, sk, A):\n",
    "    if alpha+phi >= 1.0 and tau+sk >= 1.0:\n",
    "        result = print(\n",
    "            r'$\\alpha + \\varphi$ and $s_H+s_K$ have to be stricly smaller than 1.0')\n",
    "    elif sh+tau >= 1.0:\n",
    "        result = print(\n",
    "            r'$s_H+s_K$ has to be stricly smaller than 1.0')\n",
    "    elif alpha+phi >= 1.0:\n",
    "        result = print(\n",
    "            r'$\\alpha + \\varphi$ has to be stricly smaller than 1.0')\n",
    "    elif n+g+delta+n*g+tau <= 0:\n",
    "        result = print(\n",
    "        r'$n+g+\\delta+ng$ has to be strictly greater than $0$.')\n",
    "    return A*(((tau/(down_paren2))**(phi/(1-alpha-phi)))*((sk/(down_paren2+tau))**power22))"
   ]
  },
  {
   "cell_type": "code",
   "execution_count": 51,
   "id": "19d3c897-0e13-4f1c-96e6-44c5610d4fe6",
   "metadata": {},
   "outputs": [
    {
     "data": {
      "application/vnd.jupyter.widget-view+json": {
       "model_id": "f875333bf8634d4c9a7a3a1c2ad269ce",
       "version_major": 2,
       "version_minor": 0
      },
      "text/plain": [
       "interactive(children=(FloatSlider(value=0.3333333333333333, description='$\\x07lpha$', max=0.99, min=0.01, step…"
      ]
     },
     "metadata": {},
     "output_type": "display_data"
    },
    {
     "data": {
      "application/vnd.jupyter.widget-view+json": {
       "model_id": "771079e954d146cc87cdf3fe46382f77",
       "version_major": 2,
       "version_minor": 0
      },
      "text/plain": [
       "interactive(children=(FloatSlider(value=0.3333333333333333, description='$\\x07lpha$', max=0.99, min=0.01, step…"
      ]
     },
     "metadata": {},
     "output_type": "display_data"
    }
   ],
   "source": [
    "# Create slider\n",
    "slider_g_r = widgets.interact(y_variable,\n",
    "    alpha=widgets.FloatSlider(description='$\\alpha$', min=0.01, max=0.99, step=0.05, value=(1/3)),\n",
    "    phi=widgets.FloatSlider(description='$\\phi$', min=0.01, max=0.99, step=0.05, value=(1/3)),\n",
    "    sk=widgets.FloatSlider(description='$s_K$', min=0.01, max=0.99, step=0.05, value=0.2),\n",
    "    sh=widgets.FloatSlider(descirption='$s_H$', min=0.01, max=0.99, step=0.05, value=0.15),\n",
    "    g=widgets.FloatSlider(description='$g$', min=-0.99, max=0.99, step=0.05, value=0.015),\n",
    "    n=widgets.FloatSlider(description='$n$', min=-0.99, max=0.99, step=0.05, value=0),\n",
    "    delta=widgets.FloatSlider(description='$\\delta$', min=0.01, max=0.99, step=0.05, value=0.06),\n",
    "    A=widgets.FloatSlider(description='$A_t$', min=0, max=1, step=0.05, value=1))\n",
    "\n",
    "slider_g_r2 = widgets.interact(y_variable2,\n",
    "    alpha=widgets.FloatSlider(description='$\\alpha$', min=0.01, max=0.99, step=0.05, value=(1/3)),\n",
    "    phi=widgets.FloatSlider(description='$\\phi$', min=0.01, max=0.99, step=0.05, value=(1/3)),\n",
    "    sk=widgets.FloatSlider(description='$s_K$', min=0.01, max=0.99, step=0.05, value=0.2),\n",
    "    tau=widgets.FloatSlider(descirption='$\\tau$', min=0, max=1, step=0.05, value=0.15),\n",
    "    g=widgets.FloatSlider(description='$g$', min=-0.99, max=0.99, step=0.05, value=0.015),\n",
    "    n=widgets.FloatSlider(description='$n$', min=-0.99, max=0.99, step=0.05, value=0),\n",
    "    delta=widgets.FloatSlider(description='$\\delta$', min=0.01, max=0.99, step=0.05, value=0.06),\n",
    "    A=widgets.FloatSlider(description='$A_t$', min=0, max=1, step=0.05, value=1))"
   ]
  },
  {
   "cell_type": "markdown",
   "id": "90c91836-657d-4b20-adbc-b859f7fcb51f",
   "metadata": {},
   "source": [
    "If you play a round with the sliders for a bit you will quickly realize that it is actually possible to gain a higher values of GDP per worker in the extended model. However it does require a pretty large jump in values for some of the parameters for that to happen."
   ]
  },
  {
   "cell_type": "markdown",
   "id": "4e35104c-b927-44fd-874c-7a960d67212c",
   "metadata": {},
   "source": [
    "# Conclusion\n",
    "\n",
    "All in all we see that the baseline model has a higher level of GDP per worker in almost all scenarios and that the extended model would require some extrordinarilly big jumps in parameter values for it to gain a larger value of GDP per worker. Therefore we can conclude based on these two Solow models that a tax on wealth is not a desirable thing.\n",
    "\n",
    "Further perspectives could however challenge this conclusion if there were to be added i.e. R&D or any other possible parameters to model human capital in a better way."
   ]
  }
 ],
 "metadata": {
  "kernelspec": {
   "display_name": "Python 3 (ipykernel)",
   "language": "python",
   "name": "python3"
  },
  "language_info": {
   "codemirror_mode": {
    "name": "ipython",
    "version": 3
   },
   "file_extension": ".py",
   "mimetype": "text/x-python",
   "name": "python",
   "nbconvert_exporter": "python",
   "pygments_lexer": "ipython3",
   "version": "3.9.7"
  }
 },
 "nbformat": 4,
 "nbformat_minor": 5
}
