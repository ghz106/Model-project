{
 "cells": [
  {
   "cell_type": "code",
   "execution_count": 1,
   "id": "23d0f818-068f-427d-9ba3-bd55a1885f8f",
   "metadata": {},
   "outputs": [],
   "source": [
    "import numpy as np\n",
    "import sympy as sm\n",
    "import matplotlib.pyplot as plt\n",
    "import ipywidgets as widgets\n",
    "from scipy import optimize"
   ]
  },
  {
   "cell_type": "markdown",
   "id": "321f5d8e-b3b6-4112-9800-d03f0db30abe",
   "metadata": {},
   "source": [
    "In this model project we want to solve the Solow model with humancapital. We take the model from 'Introducing Advanced Macroeconomics - Growth and Business Cycles'. 3 edition 2022, Sørensen, Peter Birch and Whitta-Jacobsen, Hans Jørgen."
   ]
  },
  {
   "cell_type": "markdown",
   "id": "9969c67b-a2d2-44b0-94b1-230df9d48093",
   "metadata": {},
   "source": [
    "The Solow model with human capital from Mankiw, Weil and Romer is an extenstion of the general Solow model, that helps explain why international investments does not flow to poorer countries as predicted by the general Solow model. The modification finds itself in the addition of human capital, which is mostly measured as years of education and experience in general, and sheds greater light on why some countries are rich and some are poor. "
   ]
  },
  {
   "cell_type": "markdown",
   "id": "c5d02719-7ebe-4159-828c-0c3494438544",
   "metadata": {},
   "source": [
    "# The model\n",
    "\n",
    "The Solow model with human capital is given with these equations. 1) stating that output is given as a Cobb-Douglas production function. 2 and 3) stating that the real rental rate on capital and real wage is given from the marginalproduct of capital and labour respectively. 4 and 5) stating the accumulation equation of capital and human capital. 6) stating that labour grows with the exogeneously rate of n. 7) stating that technology grows with the exogeneously rate of g."
   ]
  },
  {
   "cell_type": "markdown",
   "id": "fa682501-7d6d-4e8b-98de-31814ac0a6ac",
   "metadata": {},
   "source": [
    "\\begin{align}\n",
    "Y_t & = K_t^{\\alpha} H_t ^\\phi (A_t L_t)^{1-\\alpha-\\phi}, &0<\\alpha,\\phi<1, \\ \\alpha+\\phi < 1 \\\\\n",
    "r_t & = \\alpha (\\frac{K_t} {A_t L_t})^{\\alpha-1} (\\frac{H_t} {A_t L_t}) ^\\phi \\\\\n",
    "w_t & = (1-\\alpha) (\\frac{K_t} {A_t L_t})^\\alpha (\\frac{H_t} {A_t L_t})^\\phi A_t \\\\\n",
    "K_{t+1} & = s_K Y_t + (1-\\delta)K_t, &0<\\delta<1 \\\\\n",
    "H_{t+1} & = s_H Y_t + (1-\\delta)K_t, \\\\\n",
    "L_{t+1} & = (1+n) L_t, &-1<n<1 \\\\\n",
    "A_{t+1} & = (1+g) A_t, \\\\\n",
    "\\end{align}\n",
    "where $s_h + s_k < 1$."
   ]
  },
  {
   "cell_type": "markdown",
   "id": "8704d9ce-87ba-4ec1-b9cd-23a20e79fe63",
   "metadata": {},
   "source": [
    "# Solving the model analytically (symbolicaly) "
   ]
  },
  {
   "cell_type": "code",
   "execution_count": 14,
   "id": "39d6514b-5e67-4d4e-af49-8d6c9c9bf514",
   "metadata": {},
   "outputs": [],
   "source": [
    "#First we define the numerous symbols with sympy\n",
    "Y = sm.symbols('Y_t')         #output in the economy\n",
    "y = sm.symbols('y_t')         #Output per worker\n",
    "K = sm.symbols('K_t')         #Capital\n",
    "A = sm.symbols('A_t')         #Technology\n",
    "H = sm.symbols('H_t')         #Human capital\n",
    "k = sm.symbols('k_t')         #Capital per worker\n",
    "r = sm.symbols('r_t')         #Real rental rate\n",
    "w = sm.symbols('w_t')         #Real wage\n",
    "s = sm.symbols('s')           #Rate of savings\n",
    "n = sm.symbols('n')           #Population growth\n",
    "g = sm.symbols('g')           #Growth in technology\n",
    "L = sm.symbols('L_t')         #Labour\n",
    "alpha = sm.symbols('alpha')   #Income distribution to capital and labour\n",
    "phi = sm.symbols('phi')       #Income distribution to human capital\n",
    "delta = sm.symbols('delta')   #Depreciation rate on (human)capital\n",
    "kstar = sm.symbols('k_t^*')   #Steady state for capital\n",
    "hstar = sm.symbols('h_t^*')   #Steady state for human capital\n",
    "ystar = sm.symbols('y^*')     #Steady state for output per worker"
   ]
  },
  {
   "cell_type": "markdown",
   "id": "dd09fa81-f869-40b0-950e-c0c57f3d5f11",
   "metadata": {},
   "source": [
    "The Solow equations for human capital and capital is given by as given from the book:"
   ]
  },
  {
   "cell_type": "markdown",
   "id": "d8cd772e-81a9-43e1-ab15-e784d0d0b673",
   "metadata": {},
   "source": [
    "\\begin{equation}\n",
    "\\tilde{k}_{t+1} - \\tilde{k}_t = \\frac{1}{(1+n)(1+g)}(s_K \\tilde{k}_t^{\\alpha} \\tilde{h}_t^{\\phi} - (n+g+\\delta +ng)\\tilde{k}_t)\n",
    "\\end{equation}\n",
    "\\begin{equation}\n",
    "\\tilde{h}_{t+1} - \\tilde{h}_t = \\frac{1}{(1+n)(1+g)}(s_H \\tilde{k}_t^{\\alpha} \\tilde{h}_t^{\\phi} - (n+g+\\delta +ng)\\tilde{h}_t)\n",
    "\\end{equation}"
   ]
  },
  {
   "cell_type": "markdown",
   "id": "637e2bd7-b779-49c5-b99d-670945d8acc8",
   "metadata": {},
   "source": [
    "This equations can be turned into sympy functions and "
   ]
  },
  {
   "cell_type": "code",
   "execution_count": null,
   "id": "d2f752de-1d26-4776-befb-0dca8e74807f",
   "metadata": {},
   "outputs": [],
   "source": []
  }
 ],
 "metadata": {
  "kernelspec": {
   "display_name": "Python 3 (ipykernel)",
   "language": "python",
   "name": "python3"
  },
  "language_info": {
   "codemirror_mode": {
    "name": "ipython",
    "version": 3
   },
   "file_extension": ".py",
   "mimetype": "text/x-python",
   "name": "python",
   "nbconvert_exporter": "python",
   "pygments_lexer": "ipython3",
   "version": "3.9.7"
  }
 },
 "nbformat": 4,
 "nbformat_minor": 5
}
