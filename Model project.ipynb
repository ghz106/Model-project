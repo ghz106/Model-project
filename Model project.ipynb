{
 "cells": [
  {
   "cell_type": "code",
   "execution_count": 1,
   "id": "23d0f818-068f-427d-9ba3-bd55a1885f8f",
   "metadata": {},
   "outputs": [],
   "source": [
    "import numpy as np\n",
    "import sympy as sm\n",
    "import matplotlib.pyplot as plt\n",
    "import ipywidgets as widgets\n",
    "from scipy import optimize"
   ]
  },
  {
   "cell_type": "markdown",
   "id": "321f5d8e-b3b6-4112-9800-d03f0db30abe",
   "metadata": {},
   "source": [
    "In this model project we want to solve the Solow model with humancapital. We take the model from 'Introducing Advanced Macroeconomics - Growth and Business Cycles'. 3 edition 2022, Sørensen, Peter Birch and Whitta-Jacobsen, Hans Jørgen."
   ]
  },
  {
   "cell_type": "markdown",
   "id": "9969c67b-a2d2-44b0-94b1-230df9d48093",
   "metadata": {},
   "source": [
    "The Solow model with human capital from Mankiw, Weil and Romer is an extenstion of the general Solow model, that helps explain why international investments does not flow to poorer countries as predicted by the general Solow model. The modification finds itself in the addition of human capital, which is mostly measured as years of education and experience in general, and sheds greater light on why some countries are rich and some are poor. "
   ]
  },
  {
   "cell_type": "markdown",
   "id": "c5d02719-7ebe-4159-828c-0c3494438544",
   "metadata": {},
   "source": [
    "# The model"
   ]
  },
  {
   "cell_type": "code",
   "execution_count": 2,
   "id": "2623643e-c4e2-4a4d-b8ae-e3a3028b13ed",
   "metadata": {},
   "outputs": [],
   "source": [
    "#First we define all the parameters and variables using sympy\n",
    "Y = sm.symbols('Y_t')           #Output\n",
    "K = sm.symbols('K_t')           #Physical capital\n",
    "alpha = sm.symbols('alpha')     #Income share of capital and labour\n",
    "H = sm.symbols('H_t')           #Human Capital\n",
    "phi = sm.symbols('phi')         #Income share of Human capital\n",
    "A = sm.symbols('A_t')           #Technology\n",
    "L = sm.symbols('L_t')           #Labour\n",
    "r = sm.symbols('r_t')           #Real rentan rate on capital\n",
    "w = sm.symbols('w_t')           #Real wage\n",
    "n = sm.symbols('n')             #Growth rate of Labour\n",
    "g = sm.symbols('g')             #Growth rate of technology\n",
    "K1 = sm.symbols('K_{t+1}')      #Capital in the next period\n",
    "sk = sm.symbols('s_K')          #Savings rate on physical capital\n",
    "sh = sm.symbols('s_H')          #Savings rate on human capital\n",
    "H1 = sm.symbols('H_{t+1}')      #Human capital in the next period\n",
    "delta = sm.symbols('delta')     #Depreciation rate (both on physical and human capital!)\n",
    "L1 = sm.symbols('L_{t+1}')      #Labour in the next period\n",
    "A1 = sm.symbols('A_{t+1}')      #Technology in the next period\n",
    "tau = sm.symbols('tau')         #Tax rate (to be used in the extended model)"
   ]
  },
  {
   "cell_type": "code",
   "execution_count": 3,
   "id": "aeb930bf-e034-49bd-ba17-44208908f327",
   "metadata": {},
   "outputs": [
    {
     "data": {
      "text/latex": [
       "$\\displaystyle Y_{t} = H_{t}^{\\phi} K_{t}^{\\alpha} \\left(A_{t} L_{t}\\right)^{- \\alpha - \\phi + 1}$"
      ],
      "text/plain": [
       "Eq(Y_t, H_t**phi*K_t**alpha*(A_t*L_t)**(-alpha - phi + 1))"
      ]
     },
     "metadata": {},
     "output_type": "display_data"
    },
    {
     "data": {
      "text/latex": [
       "$\\displaystyle r_{t} = \\alpha \\left(\\frac{H_{t}}{A_{t} L_{t}}\\right)^{\\phi} \\left(\\frac{K_{t}}{A_{t} L_{t}}\\right)^{\\alpha - 1}$"
      ],
      "text/plain": [
       "Eq(r_t, alpha*(H_t/(A_t*L_t))**phi*(K_t/(A_t*L_t))**(alpha - 1))"
      ]
     },
     "metadata": {},
     "output_type": "display_data"
    },
    {
     "data": {
      "text/latex": [
       "$\\displaystyle w_{t} = A_{t} \\left(\\frac{H_{t}}{A_{t} L_{t}}\\right)^{\\phi} \\left(\\frac{K_{t}}{A_{t} L_{t}}\\right)^{\\alpha} \\left(1 - \\alpha\\right)$"
      ],
      "text/plain": [
       "Eq(w_t, A_t*(H_t/(A_t*L_t))**phi*(K_t/(A_t*L_t))**alpha*(1 - alpha))"
      ]
     },
     "metadata": {},
     "output_type": "display_data"
    },
    {
     "data": {
      "text/latex": [
       "$\\displaystyle K_{t+1} = K_{t} \\left(1 - \\delta\\right) + Y_{t} s_{K}$"
      ],
      "text/plain": [
       "Eq(K_{t+1}, K_t*(1 - delta) + Y_t*s_K)"
      ]
     },
     "metadata": {},
     "output_type": "display_data"
    },
    {
     "data": {
      "text/latex": [
       "$\\displaystyle H_{t+1} = H_{t} \\left(1 - \\delta\\right) + Y_{t} s_{H}$"
      ],
      "text/plain": [
       "Eq(H_{t+1}, H_t*(1 - delta) + Y_t*s_H)"
      ]
     },
     "metadata": {},
     "output_type": "display_data"
    },
    {
     "data": {
      "text/latex": [
       "$\\displaystyle L_{t+1} = L_{t} \\left(n + 1\\right)$"
      ],
      "text/plain": [
       "Eq(L_{t+1}, L_t*(n + 1))"
      ]
     },
     "metadata": {},
     "output_type": "display_data"
    },
    {
     "data": {
      "text/latex": [
       "$\\displaystyle A_{t+1} = A_{t} \\left(g + 1\\right)$"
      ],
      "text/plain": [
       "Eq(A_{t+1}, A_t*(g + 1))"
      ]
     },
     "metadata": {},
     "output_type": "display_data"
    }
   ],
   "source": [
    "#Here we create all the equations of the model and displays them again using sympy\n",
    "Y_t = sm.Eq(Y, (K**alpha*H**phi)*(A*L)**(1-alpha-phi))\n",
    "r_t = sm.Eq(r, alpha*(K/(A*L))**(alpha-1)*(H/(A*L))**phi)\n",
    "w_t = sm.Eq(w, (1-alpha)*(K/(A*L))**alpha*(H/(A*L))**phi*A)\n",
    "K_t1 = sm.Eq(K1, sk*Y+(1-delta)*K)\n",
    "H_t1 = sm.Eq(H1, sh*Y+(1-delta)*H)\n",
    "L_t1 = sm.Eq(L1, (1+n)*L)\n",
    "A_t1 = sm.Eq(A1, (1+g)*A)\n",
    "display(Y_t, r_t, w_t, K_t1, H_t1, L_t1, A_t1)"
   ]
  },
  {
   "cell_type": "markdown",
   "id": "1fe3ef51-6660-4d07-9734-01314cfdb182",
   "metadata": {},
   "source": [
    "The Solow model with human capital is given with these equations. 1) stating that output is given as a Cobb-Douglas production function. 2 and 3) stating that the real rental rate on capital and real wage is given from the marginalproduct of capital and labour respectively. 4 and 5) stating the accumulation equation of capital and human capital. 6) stating that labour grows with the exogeneously rate of n. 7) stating that technology grows with the exogeneously rate of g."
   ]
  },
  {
   "cell_type": "markdown",
   "id": "8704d9ce-87ba-4ec1-b9cd-23a20e79fe63",
   "metadata": {},
   "source": [
    "# Solving the model symbolically "
   ]
  },
  {
   "cell_type": "markdown",
   "id": "130faee8-2147-412e-a1fb-74080c1b9a92",
   "metadata": {},
   "source": [
    "First we would like to solve the model symbolically with sympy meaning that we find the steady state values to thereafter solve for different values of steady state. We begin by deriving the transition equation and thereafter we define the Solow eqautions."
   ]
  },
  {
   "cell_type": "code",
   "execution_count": 4,
   "id": "39d6514b-5e67-4d4e-af49-8d6c9c9bf514",
   "metadata": {},
   "outputs": [],
   "source": [
    "#First we define the numerous new symbols with sympy\n",
    "h_tilde = sm.symbols('htilde_t')       #Human capital per effective worker\n",
    "h_tilde1 = sm.symbols('htilde_{t+1}')      #Human capital per worker in the next period\n",
    "k_tilde = sm.symbols('ktilde_t')       #Capital per effective worker\n",
    "k_tilde1 = sm.symbols('ktilde_{t+1}')  #Capital per effective worker in next period"
   ]
  },
  {
   "cell_type": "markdown",
   "id": "24d12248-2a31-4d52-bb85-a846366fbec3",
   "metadata": {},
   "source": [
    "The law of motion in the Solow model with human capital can be descibed by the Solow equations. The Solow equations states how all of the parameters in the model move over time."
   ]
  },
  {
   "cell_type": "markdown",
   "id": "dd09fa81-f869-40b0-950e-c0c57f3d5f11",
   "metadata": {},
   "source": [
    "Because of sympys lack of operand types in its equation module we 'just' state the Solow equations for human- and capital below."
   ]
  },
  {
   "cell_type": "markdown",
   "id": "d8cd772e-81a9-43e1-ab15-e784d0d0b673",
   "metadata": {},
   "source": [
    "\\begin{equation}\n",
    "\\tilde{k}_{t+1} - \\tilde{k}_t = \\frac{1}{(1+n)(1+g)}(s_K \\tilde{k}_t^{\\alpha} \\tilde{h}_t^{\\phi} - (n+g+\\delta +ng)\\tilde{k}_t)\n",
    "\\end{equation}\n",
    "\\begin{equation}\n",
    "\\tilde{h}_{t+1} - \\tilde{h}_t = \\frac{1}{(1+n)(1+g)}(s_H \\tilde{k}_t^{\\alpha} \\tilde{h}_t^{\\phi} - (n+g+\\delta +ng)\\tilde{h}_t)\n",
    "\\end{equation}"
   ]
  },
  {
   "cell_type": "markdown",
   "id": "637e2bd7-b779-49c5-b99d-670945d8acc8",
   "metadata": {},
   "source": [
    "As we know analytically these equations can be solved to find steady state by setting $\\tilde{k}_{t+1}$ and $\\tilde{k}_{t}$ equal to eachother and solving for $\\tilde{k}_{t}$ and the same for $\\tilde{h}_{t+1}$ and $\\tilde{h}_{t}$. That is the same as solving the right hand side and the left hand side in the big parenthesis to be equal to eachother."
   ]
  },
  {
   "cell_type": "code",
   "execution_count": 5,
   "id": "d2f752de-1d26-4776-befb-0dca8e74807f",
   "metadata": {},
   "outputs": [
    {
     "data": {
      "text/latex": [
       "$\\displaystyle \\tilde{h}_{t}^{\\phi} \\tilde{k}_{t}^{\\alpha} s_{K} - \\tilde{k}_{t} \\left(\\delta + g n + g + n\\right) = 0$"
      ],
      "text/plain": [
       "Eq(htilde_t**phi*ktilde_t**alpha*s_K - ktilde_t*(delta + g*n + g + n), 0)"
      ]
     },
     "metadata": {},
     "output_type": "display_data"
    },
    {
     "data": {
      "text/latex": [
       "$\\displaystyle - \\tilde{h}_{t} \\left(\\delta + g n + g + n\\right) + \\tilde{h}_{t}^{\\phi} \\tilde{k}_{t}^{\\alpha} s_{H} = 0$"
      ],
      "text/plain": [
       "Eq(-htilde_t*(delta + g*n + g + n) + htilde_t**phi*ktilde_t**alpha*s_H, 0)"
      ]
     },
     "metadata": {},
     "output_type": "display_data"
    }
   ],
   "source": [
    "#Here we create the equations to be solved\n",
    "h_tilde_phi = h_tilde**phi\n",
    "k_tilde_alpha = k_tilde**alpha\n",
    "k = sm.Eq(sk * k_tilde_alpha * h_tilde_phi - (n + g + delta + n * g) * k_tilde, 0)\n",
    "h = sm.Eq(sh * k_tilde_alpha * h_tilde_phi - (n + g+ delta + n * g) * h_tilde, 0)\n",
    "display(k, h)"
   ]
  },
  {
   "cell_type": "markdown",
   "id": "6ca069ff-ecf5-4328-9fae-fd6007723082",
   "metadata": {},
   "source": [
    "Now we can solve this for $\\tilde{k}_{t}$ and $\\tilde{h}_{t}$ respectively by isolating $\\tilde{k}_{t}$ in the first eqaution and $\\tilde{h}_{t}$ in the second equation."
   ]
  },
  {
   "cell_type": "code",
   "execution_count": 6,
   "id": "8aaf9a8b-15a2-4f96-9d6c-b2b34a95f0b6",
   "metadata": {},
   "outputs": [
    {
     "data": {
      "text/latex": [
       "$\\displaystyle \\left(\\frac{\\tilde{h}_{t}^{- \\phi} \\left(\\delta + g n + g + n\\right)}{s_{K}}\\right)^{\\frac{1}{\\alpha - 1}}$"
      ],
      "text/plain": [
       "((delta + g*n + g + n)/(htilde_t**phi*s_K))**(1/(alpha - 1))"
      ]
     },
     "metadata": {},
     "output_type": "display_data"
    },
    {
     "data": {
      "text/latex": [
       "$\\displaystyle \\left(\\frac{\\tilde{k}_{t}^{- \\alpha} \\left(\\delta + g n + g + n\\right)}{s_{H}}\\right)^{\\frac{1}{\\phi - 1}}$"
      ],
      "text/plain": [
       "((delta + g*n + g + n)/(ktilde_t**alpha*s_H))**(1/(phi - 1))"
      ]
     },
     "metadata": {},
     "output_type": "display_data"
    }
   ],
   "source": [
    "k_solve = sm.solve(k, k_tilde)[0]\n",
    "h_solve = sm.solve(h, h_tilde)[0]\n",
    "display(k_solve, h_solve)"
   ]
  },
  {
   "cell_type": "markdown",
   "id": "6cdb992e-9d9e-46b9-99d2-23c3496a6894",
   "metadata": {},
   "source": [
    "Now that we know what $\\tilde{k}_{t}$ and $\\tilde{h}_{t}$ is equal to we insert this in the k and h equations respectively."
   ]
  },
  {
   "cell_type": "code",
   "execution_count": 7,
   "id": "198c6782-918a-4146-9111-16efe78b723d",
   "metadata": {},
   "outputs": [
    {
     "data": {
      "text/latex": [
       "$\\displaystyle \\tilde{h}_{t}^{\\phi} s_{K} \\left(\\left(\\frac{\\tilde{h}_{t}^{- \\phi} \\left(\\delta + g n + g + n\\right)}{s_{K}}\\right)^{\\frac{1}{\\alpha - 1}}\\right)^{\\alpha} - \\left(\\frac{\\tilde{h}_{t}^{- \\phi} \\left(\\delta + g n + g + n\\right)}{s_{K}}\\right)^{\\frac{1}{\\alpha - 1}} \\left(\\delta + g n + g + n\\right) = 0$"
      ],
      "text/plain": [
       "Eq(htilde_t**phi*s_K*(((delta + g*n + g + n)/(htilde_t**phi*s_K))**(1/(alpha - 1)))**alpha - ((delta + g*n + g + n)/(htilde_t**phi*s_K))**(1/(alpha - 1))*(delta + g*n + g + n), 0)"
      ]
     },
     "metadata": {},
     "output_type": "display_data"
    },
    {
     "data": {
      "text/latex": [
       "$\\displaystyle \\tilde{k}_{t}^{\\alpha} s_{H} \\left(\\left(\\frac{\\tilde{k}_{t}^{- \\alpha} \\left(\\delta + g n + g + n\\right)}{s_{H}}\\right)^{\\frac{1}{\\phi - 1}}\\right)^{\\phi} - \\left(\\frac{\\tilde{k}_{t}^{- \\alpha} \\left(\\delta + g n + g + n\\right)}{s_{H}}\\right)^{\\frac{1}{\\phi - 1}} \\left(\\delta + g n + g + n\\right) = 0$"
      ],
      "text/plain": [
       "Eq(ktilde_t**alpha*s_H*(((delta + g*n + g + n)/(ktilde_t**alpha*s_H))**(1/(phi - 1)))**phi - ((delta + g*n + g + n)/(ktilde_t**alpha*s_H))**(1/(phi - 1))*(delta + g*n + g + n), 0)"
      ]
     },
     "metadata": {},
     "output_type": "display_data"
    }
   ],
   "source": [
    "#For k_tilde we inset the above equation onto k_tilde place in the k eqaution\n",
    "k_solve_alpha = k_solve**alpha\n",
    "k_inset = sm.Eq(sk * (k_solve**alpha) * (h_tilde**phi) - (n + g + delta + n * g) * k_solve, 0)\n",
    "#For h_tilde we do the same. So inset it in the h equation\n",
    "h_solve_phi = h_solve**phi\n",
    "h_inset = sm.Eq(sh * h_solve_phi * k_tilde_alpha - (n + g+ delta + n * g) * h_solve, 0)\n",
    "display(k_inset, h_inset)"
   ]
  },
  {
   "cell_type": "markdown",
   "id": "297fd601-af0d-4b62-93bf-114900f02816",
   "metadata": {},
   "source": [
    "These are pretty convuluted equations and sympys is not able to solve for these equations. We will therefore have to simplify them by hand. We end up with these equations which is now solvable by sympy."
   ]
  },
  {
   "cell_type": "code",
   "execution_count": 8,
   "id": "1abdbb58-0a6e-46a7-8dfd-a11b5779989e",
   "metadata": {},
   "outputs": [
    {
     "ename": "SyntaxError",
     "evalue": "unexpected EOF while parsing (1147572729.py, line 1)",
     "output_type": "error",
     "traceback": [
      "\u001b[0;36m  File \u001b[0;32m\"/var/folders/5x/nmt_pwm97b5123_td6099w_r0000gn/T/ipykernel_2261/1147572729.py\"\u001b[0;36m, line \u001b[0;32m1\u001b[0m\n\u001b[0;31m    k_iso_sipml = sm.Eq((sk**2)*(delta+n*g+n+g)\u001b[0m\n\u001b[0m                                               ^\u001b[0m\n\u001b[0;31mSyntaxError\u001b[0m\u001b[0;31m:\u001b[0m unexpected EOF while parsing\n"
     ]
    }
   ],
   "source": [
    "k_iso_sipml = sm.Eq((sk**2)*(delta+n*g+n+g)"
   ]
  },
  {
   "cell_type": "markdown",
   "id": "c1f83e60-f80d-4ebd-b203-0ad189055a94",
   "metadata": {},
   "source": [
    "Now all that is left to do is to solve for $\\tilde{h}_{t}$ and $\\tilde{k}_{t}$ respectively and we get the steady state value for $\\tilde{h}_{t}$ and $\\tilde{k}_{t}$."
   ]
  },
  {
   "cell_type": "code",
   "execution_count": 9,
   "id": "e8508653-3c5c-44ab-9fad-012746602de7",
   "metadata": {},
   "outputs": [
    {
     "ename": "NotImplementedError",
     "evalue": "multiple generators [((delta/(htilde_t**phi*s_K) + g*n/(htilde_t**phi*s_K) + g/(htilde_t**phi*s_K) + n/(htilde_t**phi*s_K))**(1/(alpha - 1)))**alpha, (delta/(htilde_t**phi*s_K) + g*n/(htilde_t**phi*s_K) + g/(htilde_t**phi*s_K) + n/(htilde_t**phi*s_K))**(1/(alpha - 1)), htilde_t**phi]\nNo algorithms are implemented to solve equation htilde_t**phi*s_K*(((delta + g*n + g + n)/(htilde_t**phi*s_K))**(1/(alpha - 1)))**alpha - ((delta + g*n + g + n)/(htilde_t**phi*s_K))**(1/(alpha - 1))*(delta + g*n + g + n) + 0",
     "output_type": "error",
     "traceback": [
      "\u001b[0;31m---------------------------------------------------------------------------\u001b[0m",
      "\u001b[0;31mNotImplementedError\u001b[0m                       Traceback (most recent call last)",
      "\u001b[0;32m/var/folders/5x/nmt_pwm97b5123_td6099w_r0000gn/T/ipykernel_2261/3523071568.py\u001b[0m in \u001b[0;36m<module>\u001b[0;34m\u001b[0m\n\u001b[0;32m----> 1\u001b[0;31m \u001b[0mk_ss\u001b[0m \u001b[0;34m=\u001b[0m \u001b[0msm\u001b[0m\u001b[0;34m.\u001b[0m\u001b[0msolve\u001b[0m\u001b[0;34m(\u001b[0m\u001b[0mk_inset\u001b[0m\u001b[0;34m,\u001b[0m \u001b[0mh_tilde\u001b[0m\u001b[0;34m)\u001b[0m\u001b[0;34m[\u001b[0m\u001b[0;36m0\u001b[0m\u001b[0;34m]\u001b[0m\u001b[0;34m\u001b[0m\u001b[0;34m\u001b[0m\u001b[0m\n\u001b[0m\u001b[1;32m      2\u001b[0m \u001b[0mh_ss\u001b[0m \u001b[0;34m=\u001b[0m \u001b[0msm\u001b[0m\u001b[0;34m.\u001b[0m\u001b[0msolve\u001b[0m\u001b[0;34m(\u001b[0m\u001b[0mh_inset\u001b[0m\u001b[0;34m,\u001b[0m \u001b[0mk_tilde\u001b[0m\u001b[0;34m)\u001b[0m\u001b[0;34m[\u001b[0m\u001b[0;36m0\u001b[0m\u001b[0;34m]\u001b[0m\u001b[0;34m\u001b[0m\u001b[0;34m\u001b[0m\u001b[0m\n\u001b[1;32m      3\u001b[0m \u001b[0mdisplay\u001b[0m\u001b[0;34m(\u001b[0m\u001b[0mk_ss\u001b[0m\u001b[0;34m,\u001b[0m \u001b[0mh_ss\u001b[0m\u001b[0;34m)\u001b[0m\u001b[0;34m\u001b[0m\u001b[0;34m\u001b[0m\u001b[0m\n",
      "\u001b[0;32m~/opt/anaconda3/lib/python3.9/site-packages/sympy/solvers/solvers.py\u001b[0m in \u001b[0;36msolve\u001b[0;34m(f, *symbols, **flags)\u001b[0m\n\u001b[1;32m   1093\u001b[0m     \u001b[0;31m###########################################################################\u001b[0m\u001b[0;34m\u001b[0m\u001b[0;34m\u001b[0m\u001b[0m\n\u001b[1;32m   1094\u001b[0m     \u001b[0;32mif\u001b[0m \u001b[0mbare_f\u001b[0m\u001b[0;34m:\u001b[0m\u001b[0;34m\u001b[0m\u001b[0;34m\u001b[0m\u001b[0m\n\u001b[0;32m-> 1095\u001b[0;31m         \u001b[0msolution\u001b[0m \u001b[0;34m=\u001b[0m \u001b[0m_solve\u001b[0m\u001b[0;34m(\u001b[0m\u001b[0mf\u001b[0m\u001b[0;34m[\u001b[0m\u001b[0;36m0\u001b[0m\u001b[0;34m]\u001b[0m\u001b[0;34m,\u001b[0m \u001b[0;34m*\u001b[0m\u001b[0msymbols\u001b[0m\u001b[0;34m,\u001b[0m \u001b[0;34m**\u001b[0m\u001b[0mflags\u001b[0m\u001b[0;34m)\u001b[0m\u001b[0;34m\u001b[0m\u001b[0;34m\u001b[0m\u001b[0m\n\u001b[0m\u001b[1;32m   1096\u001b[0m     \u001b[0;32melse\u001b[0m\u001b[0;34m:\u001b[0m\u001b[0;34m\u001b[0m\u001b[0;34m\u001b[0m\u001b[0m\n\u001b[1;32m   1097\u001b[0m         \u001b[0msolution\u001b[0m \u001b[0;34m=\u001b[0m \u001b[0m_solve_system\u001b[0m\u001b[0;34m(\u001b[0m\u001b[0mf\u001b[0m\u001b[0;34m,\u001b[0m \u001b[0msymbols\u001b[0m\u001b[0;34m,\u001b[0m \u001b[0;34m**\u001b[0m\u001b[0mflags\u001b[0m\u001b[0;34m)\u001b[0m\u001b[0;34m\u001b[0m\u001b[0;34m\u001b[0m\u001b[0m\n",
      "\u001b[0;32m~/opt/anaconda3/lib/python3.9/site-packages/sympy/solvers/solvers.py\u001b[0m in \u001b[0;36m_solve\u001b[0;34m(f, *symbols, **flags)\u001b[0m\n\u001b[1;32m   1707\u001b[0m \u001b[0;34m\u001b[0m\u001b[0m\n\u001b[1;32m   1708\u001b[0m     \u001b[0;32mif\u001b[0m \u001b[0mresult\u001b[0m \u001b[0;32mis\u001b[0m \u001b[0;32mFalse\u001b[0m\u001b[0;34m:\u001b[0m\u001b[0;34m\u001b[0m\u001b[0;34m\u001b[0m\u001b[0m\n\u001b[0;32m-> 1709\u001b[0;31m         \u001b[0;32mraise\u001b[0m \u001b[0mNotImplementedError\u001b[0m\u001b[0;34m(\u001b[0m\u001b[0;34m'\\n'\u001b[0m\u001b[0;34m.\u001b[0m\u001b[0mjoin\u001b[0m\u001b[0;34m(\u001b[0m\u001b[0;34m[\u001b[0m\u001b[0mmsg\u001b[0m\u001b[0;34m,\u001b[0m \u001b[0mnot_impl_msg\u001b[0m \u001b[0;34m%\u001b[0m \u001b[0mf\u001b[0m\u001b[0;34m]\u001b[0m\u001b[0;34m)\u001b[0m\u001b[0;34m)\u001b[0m\u001b[0;34m\u001b[0m\u001b[0;34m\u001b[0m\u001b[0m\n\u001b[0m\u001b[1;32m   1710\u001b[0m \u001b[0;34m\u001b[0m\u001b[0m\n\u001b[1;32m   1711\u001b[0m     \u001b[0;32mif\u001b[0m \u001b[0mflags\u001b[0m\u001b[0;34m.\u001b[0m\u001b[0mget\u001b[0m\u001b[0;34m(\u001b[0m\u001b[0;34m'simplify'\u001b[0m\u001b[0;34m,\u001b[0m \u001b[0;32mTrue\u001b[0m\u001b[0;34m)\u001b[0m\u001b[0;34m:\u001b[0m\u001b[0;34m\u001b[0m\u001b[0;34m\u001b[0m\u001b[0m\n",
      "\u001b[0;31mNotImplementedError\u001b[0m: multiple generators [((delta/(htilde_t**phi*s_K) + g*n/(htilde_t**phi*s_K) + g/(htilde_t**phi*s_K) + n/(htilde_t**phi*s_K))**(1/(alpha - 1)))**alpha, (delta/(htilde_t**phi*s_K) + g*n/(htilde_t**phi*s_K) + g/(htilde_t**phi*s_K) + n/(htilde_t**phi*s_K))**(1/(alpha - 1)), htilde_t**phi]\nNo algorithms are implemented to solve equation htilde_t**phi*s_K*(((delta + g*n + g + n)/(htilde_t**phi*s_K))**(1/(alpha - 1)))**alpha - ((delta + g*n + g + n)/(htilde_t**phi*s_K))**(1/(alpha - 1))*(delta + g*n + g + n) + 0"
     ]
    }
   ],
   "source": [
    "k_ss = sm.solve(k_inset, h_tilde)[0]\n",
    "h_ss = sm.solve(h_inset, k_tilde)[0]\n",
    "display(k_ss, h_ss)"
   ]
  },
  {
   "cell_type": "markdown",
   "id": "019f673d-d3ab-46fd-92f8-5d39db5b7ac5",
   "metadata": {},
   "source": [
    "So we get our steady state values of $\\tilde{k}_{t}$ and $\\tilde{h}_{t}$ to be:"
   ]
  },
  {
   "cell_type": "code",
   "execution_count": null,
   "id": "c43947ed-9e25-44bd-9a81-b41f867c9f91",
   "metadata": {},
   "outputs": [],
   "source": [
    "#print('h_tilde^* is {hss})\n",
    "#print('k_tilde^* is {kss})"
   ]
  },
  {
   "cell_type": "markdown",
   "id": "5812ec4f-949f-4d3e-8e5a-04bdde3cbd11",
   "metadata": {},
   "source": [
    "We can now find $\\tilde{y^*}$ out of our definition on $\\tilde{y^{*}}$ = $\\frac{y^{*}}{A_{{t}}}$  <=> ${y^*}$ = ${A}_{t}*\\tilde{y^{*}}$"
   ]
  },
  {
   "cell_type": "markdown",
   "id": "5954f427-3fb0-41f9-9bc8-27ca9ec38194",
   "metadata": {
    "jp-MarkdownHeadingCollapsed": true,
    "tags": []
   },
   "source": [
    "# Interactive phase diagram"
   ]
  },
  {
   "cell_type": "markdown",
   "id": "660ca089-7590-4ff1-9a6b-8cd5f0dc8b17",
   "metadata": {},
   "source": [
    "# Solving the model numerically"
   ]
  },
  {
   "cell_type": "code",
   "execution_count": null,
   "id": "a6b08403-4fa1-41e1-93ae-1666a6ee2a1a",
   "metadata": {},
   "outputs": [],
   "source": []
  },
  {
   "cell_type": "markdown",
   "id": "a1efcd03-1970-4f11-a3e2-b60ff9f38bae",
   "metadata": {},
   "source": [
    "# Interactive phase diagram"
   ]
  },
  {
   "cell_type": "markdown",
   "id": "081c0ef1-baa6-416f-bfe1-0d2d5466c543",
   "metadata": {},
   "source": [
    "# Extended model with taxation/government "
   ]
  },
  {
   "cell_type": "markdown",
   "id": "0c82ce40-0552-4a15-a11f-16e2647da3c7",
   "metadata": {},
   "source": [
    "We extend the model by including taxation on wealth and thereby adding an 'active' government. We add a taxation on physical capital (wealth) and add a government who uses all of the tax provenue to invest in human capital. Meaning that human capital will now only accumulate on the basis of physical capital, the government and the tax rate."
   ]
  },
  {
   "cell_type": "markdown",
   "id": "a44b1efd-0544-47e0-9c1a-d061224823bf",
   "metadata": {},
   "source": [
    "The extended Solow model with human capital and taxation is given by:"
   ]
  },
  {
   "cell_type": "code",
   "execution_count": 10,
   "id": "bd53352e-d399-47dd-9569-91eec3d74bcb",
   "metadata": {},
   "outputs": [
    {
     "data": {
      "text/latex": [
       "$\\displaystyle Y_{t} = H_{t}^{\\phi} K_{t}^{\\alpha} \\left(A_{t} L_{t}\\right)^{- \\alpha - \\phi + 1}$"
      ],
      "text/plain": [
       "Eq(Y_t, H_t**phi*K_t**alpha*(A_t*L_t)**(-alpha - phi + 1))"
      ]
     },
     "metadata": {},
     "output_type": "display_data"
    },
    {
     "data": {
      "text/latex": [
       "$\\displaystyle L_{t+1} = L_{t} \\left(n + 1\\right)$"
      ],
      "text/plain": [
       "Eq(L_{t+1}, L_t*(n + 1))"
      ]
     },
     "metadata": {},
     "output_type": "display_data"
    },
    {
     "data": {
      "text/latex": [
       "$\\displaystyle A_{t+1} = A_{t} \\left(g + 1\\right)$"
      ],
      "text/plain": [
       "Eq(A_{t+1}, A_t*(g + 1))"
      ]
     },
     "metadata": {},
     "output_type": "display_data"
    },
    {
     "data": {
      "text/latex": [
       "$\\displaystyle K_{t+1} = K_{t} \\left(- \\delta - \\tau + 1\\right) + Y_{t} + s_{K}$"
      ],
      "text/plain": [
       "Eq(K_{t+1}, K_t*(-delta - tau + 1) + Y_t + s_K)"
      ]
     },
     "metadata": {},
     "output_type": "display_data"
    },
    {
     "data": {
      "text/latex": [
       "$\\displaystyle H_{t+1} = H_{t} \\left(1 - \\tau\\right) + K_{t} \\tau$"
      ],
      "text/plain": [
       "Eq(H_{t+1}, H_t*(1 - tau) + K_t*tau)"
      ]
     },
     "metadata": {},
     "output_type": "display_data"
    }
   ],
   "source": [
    "K_t_1 = sm.Eq(K1, sk+Y+(1-tau-delta)*K)\n",
    "H_t_1 = sm.Eq(H1, tau*K+(1-tau)*H)\n",
    "display(Y_t, L_t1, A_t1, K_t_1, H_t_1)"
   ]
  },
  {
   "cell_type": "markdown",
   "id": "e4feb5e5-f29c-49f1-ac51-db9d5547c575",
   "metadata": {},
   "source": [
    "The extended Solow model is given by these equations. 1) Stating that output is a generel Cobb-Douglas production function. 2 and 3) Stating that labour and technology grows with the exogenously rates of n and g respectively. 4) Stating that capital accumulates by the total amount of savings and last years capital, now including a tax rate. 5) Stating that human capital know accumulates only by the amount of tax provenue from physical capital and last periods amount of human capital."
   ]
  },
  {
   "cell_type": "markdown",
   "id": "eb27298e-0296-4a4f-b3d5-66901015aeef",
   "metadata": {},
   "source": [
    "# Solving the model symbolically"
   ]
  },
  {
   "cell_type": "markdown",
   "id": "c8965503-ab2a-402d-9f5a-98767c33d64a",
   "metadata": {},
   "source": [
    "The solving of this model is a pendant to the baseline model and will therefore be less rich in text"
   ]
  },
  {
   "cell_type": "markdown",
   "id": "c0bb1f75-4a8b-476b-ad6a-56861dd674d0",
   "metadata": {},
   "source": [
    "The Solow equations for this model is now given by:"
   ]
  },
  {
   "cell_type": "markdown",
   "id": "32026df1-e389-475f-86cb-38bda6a796bf",
   "metadata": {},
   "source": [
    "\\begin{equation} \n",
    "\\tilde{k}_{t+1} - \\tilde{k}_t = \\frac{1}{(1+n)(1+g)}(s_K \\tilde{k}_t^{\\alpha} \\tilde{h}_t^{\\phi} - (n+g+\\tau+\\delta +ng)\\tilde{k}_t)\n",
    "\\end{equation}\n",
    "\\begin{equation}\n",
    "\\tilde{h}_{t+1} - \\tilde{h}_t = \\frac{1}{(1+n)(1+g)}(\\tau \\tilde{k}_t - (n+g+\\delta +ng)\\tilde{h}_t)\n",
    "\\end{equation}"
   ]
  },
  {
   "cell_type": "markdown",
   "id": "52cddd7c-bc5c-4459-8170-c31be29e402f",
   "metadata": {},
   "source": [
    "As before the steady state can be calulated as the two sides of the negative sign in the big parenthesis should be equal to eachother. We make this creation with sympy."
   ]
  },
  {
   "cell_type": "code",
   "execution_count": 11,
   "id": "af99039c-035f-467e-8057-2e1a64e57a83",
   "metadata": {},
   "outputs": [
    {
     "data": {
      "text/latex": [
       "$\\displaystyle \\tilde{h}_{t}^{\\phi} \\tilde{k}_{t}^{\\alpha} s_{K} - \\tilde{k}_{t} \\left(\\delta + g n + g + n + \\tau\\right) = 0$"
      ],
      "text/plain": [
       "Eq(htilde_t**phi*ktilde_t**alpha*s_K - ktilde_t*(delta + g*n + g + n + tau), 0)"
      ]
     },
     "metadata": {},
     "output_type": "display_data"
    },
    {
     "data": {
      "text/latex": [
       "$\\displaystyle - \\tilde{h}_{t} \\left(\\delta + g n + g + n\\right) + \\tilde{k}_{t} \\tau = 0$"
      ],
      "text/plain": [
       "Eq(-htilde_t*(delta + g*n + g + n) + ktilde_t*tau, 0)"
      ]
     },
     "metadata": {},
     "output_type": "display_data"
    }
   ],
   "source": [
    "k2 = sm.Eq(sk*(k_tilde**alpha)*(h_tilde**phi)-(n+g+tau+delta+n*g)*k_tilde, 0)\n",
    "h2 = sm.Eq(tau*k_tilde-(n+g+delta+n*g)*h_tilde,0)\n",
    "display(k2,h2)"
   ]
  },
  {
   "cell_type": "markdown",
   "id": "2e16f2a7-4d32-43c7-9751-c690efefda2b",
   "metadata": {},
   "source": [
    "Now we can isolate $\\tilde{k}_{t}$ in the first eqaution and $\\tilde{h}_{t}$ in the second equation"
   ]
  },
  {
   "cell_type": "code",
   "execution_count": 12,
   "id": "e3cfc676-7361-48d6-aa2c-85796d55c8e4",
   "metadata": {},
   "outputs": [
    {
     "data": {
      "text/latex": [
       "$\\displaystyle \\left(\\frac{\\tilde{h}_{t}^{- \\phi} \\left(\\delta + g n + g + n + \\tau\\right)}{s_{K}}\\right)^{\\frac{1}{\\alpha - 1}}$"
      ],
      "text/plain": [
       "((delta + g*n + g + n + tau)/(htilde_t**phi*s_K))**(1/(alpha - 1))"
      ]
     },
     "metadata": {},
     "output_type": "display_data"
    },
    {
     "data": {
      "text/latex": [
       "$\\displaystyle \\frac{\\tilde{k}_{t} \\tau}{\\delta + g n + g + n}$"
      ],
      "text/plain": [
       "ktilde_t*tau/(delta + g*n + g + n)"
      ]
     },
     "metadata": {},
     "output_type": "display_data"
    }
   ],
   "source": [
    "k_isolated = sm.solve(k2, k_tilde)[0]\n",
    "h_isolated = sm.solve(h2, h_tilde)[0]\n",
    "display(k_isolated, h_isolated)"
   ]
  },
  {
   "cell_type": "markdown",
   "id": "54e2a342-cce6-42d0-8b9b-aeda4d91d724",
   "metadata": {},
   "source": [
    "Now we can insert this into the k2 and h2 equation like this:"
   ]
  },
  {
   "cell_type": "code",
   "execution_count": 13,
   "id": "04906367-6050-4f6d-9e85-360dcbaac45b",
   "metadata": {},
   "outputs": [
    {
     "data": {
      "text/latex": [
       "$\\displaystyle - \\tilde{k}_{t} \\left(\\delta + g n + g + n + \\tau\\right) + \\tilde{k}_{t}^{\\alpha} s_{K} \\left(\\frac{\\tilde{k}_{t} \\tau}{\\delta + g n + g + n}\\right)^{\\phi} = 0$"
      ],
      "text/plain": [
       "Eq(-ktilde_t*(delta + g*n + g + n + tau) + ktilde_t**alpha*s_K*(ktilde_t*tau/(delta + g*n + g + n))**phi, 0)"
      ]
     },
     "metadata": {},
     "output_type": "display_data"
    },
    {
     "data": {
      "text/latex": [
       "$\\displaystyle - \\tilde{h}_{t} \\left(\\delta + g n + g + n\\right) + \\tau \\left(\\frac{\\tilde{h}_{t}^{- \\phi} \\left(\\delta + g n + g + n + \\tau\\right)}{s_{K}}\\right)^{\\frac{1}{\\alpha - 1}} = 0$"
      ],
      "text/plain": [
       "Eq(-htilde_t*(delta + g*n + g + n) + tau*((delta + g*n + g + n + tau)/(htilde_t**phi*s_K))**(1/(alpha - 1)), 0)"
      ]
     },
     "metadata": {},
     "output_type": "display_data"
    }
   ],
   "source": [
    "h_isolated_phi = k_isolated**phi\n",
    "k_inset2 = sm.Eq(sk * (k_tilde**alpha) * (h_isolated**phi) - (n + g + delta + tau + n * g) * k_tilde, 0)\n",
    "#For h_tilde we do the same. So insert it in the h equation\n",
    "h_inset2 = sm.Eq(tau * k_isolated - (n + g+ delta + n * g) * h_tilde, 0)\n",
    "display(k_inset2, h_inset2)"
   ]
  },
  {
   "cell_type": "markdown",
   "id": "6fe5a0a6-c008-4146-82a4-d7a8f6824261",
   "metadata": {},
   "source": [
    "These are pretty long and convulted equations. Sympy is not able to handle this because of lack of algorithms to solve for. Therefore we simplify this equations above analytically so sympy will be able to handle them. We do this by simplifying for $\\tilde{k}_{t}$ in the first equation and for $\\tilde{h}_{t}$ in the second equation."
   ]
  },
  {
   "cell_type": "code",
   "execution_count": 14,
   "id": "b1222993-87b6-4746-b263-f38925a095e1",
   "metadata": {},
   "outputs": [
    {
     "data": {
      "text/latex": [
       "$\\displaystyle \\tilde{k}_{t}^{\\alpha + \\phi - 1} s_{K} \\left(\\frac{\\tau}{\\delta + g n + g + n}\\right)^{\\phi} = \\delta + g n + g + n + \\tau$"
      ],
      "text/plain": [
       "Eq(ktilde_t**(alpha + phi - 1)*s_K*(tau/(delta + g*n + g + n))**phi, delta + g*n + g + n + tau)"
      ]
     },
     "metadata": {},
     "output_type": "display_data"
    },
    {
     "data": {
      "text/latex": [
       "$\\displaystyle \\tilde{h}_{t}^{- \\frac{\\alpha + \\phi - 1}{\\alpha - 1}} \\tau \\left(\\frac{\\delta + g n + g + n + \\tau}{s_{K}}\\right)^{\\frac{1}{\\alpha - 1}} = \\delta + g n + g + n$"
      ],
      "text/plain": [
       "Eq(tau*((delta + g*n + g + n + tau)/s_K)**(1/(alpha - 1))/htilde_t**((alpha + phi - 1)/(alpha - 1)), delta + g*n + g + n)"
      ]
     },
     "metadata": {},
     "output_type": "display_data"
    }
   ],
   "source": [
    "k_inset3 = sm.Eq(((sk*((tau/(delta+n*g+n+g))**phi))/(k_tilde**(1-phi-alpha))), (n+g+delta+tau+n*g))\n",
    "h_inset3 = sm.Eq((tau*(((delta+n*g+g+n+tau)/sk)**(1/(alpha-1))))/(h_tilde**((phi+alpha-1)/(alpha-1))),(delta+n+g+n*g))\n",
    "display(k_inset3, h_inset3)"
   ]
  },
  {
   "cell_type": "markdown",
   "id": "4d55294c-8936-45e1-b515-64c9ca509bf0",
   "metadata": {},
   "source": [
    "Now all that is left to do is solve these two equations above with regards to $\\tilde{k}_{t}$ and $\\tilde{h}_{t}$ respectively to find the steady state values for $\\tilde{k}_{t}$ and $\\tilde{h}_{t}$"
   ]
  },
  {
   "cell_type": "code",
   "execution_count": 15,
   "id": "0180e183-4093-479f-84e5-2e6a820eea01",
   "metadata": {},
   "outputs": [
    {
     "data": {
      "text/latex": [
       "$\\displaystyle \\left(\\frac{\\left(\\frac{\\tau}{\\delta + g n + g + n}\\right)^{- \\phi} \\left(\\delta + g n + g + n + \\tau\\right)}{s_{K}}\\right)^{\\frac{1}{\\alpha + \\phi - 1}}$"
      ],
      "text/plain": [
       "((delta + g*n + g + n + tau)/(s_K*(tau/(delta + g*n + g + n))**phi))**(1/(alpha + phi - 1))"
      ]
     },
     "metadata": {},
     "output_type": "display_data"
    },
    {
     "data": {
      "text/latex": [
       "$\\displaystyle \\left(\\frac{\\tau \\left(\\frac{\\delta + g n + g + n + \\tau}{s_{K}}\\right)^{\\frac{1}{\\alpha - 1}}}{\\delta + g n + g + n}\\right)^{\\frac{\\alpha - 1}{\\alpha + \\phi - 1}}$"
      ],
      "text/plain": [
       "(tau*((delta + g*n + g + n + tau)/s_K)**(1/(alpha - 1))/(delta + g*n + g + n))**((alpha - 1)/(alpha + phi - 1))"
      ]
     },
     "metadata": {},
     "output_type": "display_data"
    }
   ],
   "source": [
    "k_ss2 = sm.solve(k_inset3, k_tilde)[0]\n",
    "h_ss2 = sm.solve(h_inset3, h_tilde)[0]\n",
    "display(k_ss2, h_ss2)"
   ]
  },
  {
   "cell_type": "code",
   "execution_count": null,
   "id": "8e24b832-9604-4de6-ad9b-863162b0d319",
   "metadata": {},
   "outputs": [],
   "source": []
  }
 ],
 "metadata": {
  "kernelspec": {
   "display_name": "Python 3 (ipykernel)",
   "language": "python",
   "name": "python3"
  },
  "language_info": {
   "codemirror_mode": {
    "name": "ipython",
    "version": 3
   },
   "file_extension": ".py",
   "mimetype": "text/x-python",
   "name": "python",
   "nbconvert_exporter": "python",
   "pygments_lexer": "ipython3",
   "version": "3.9.7"
  }
 },
 "nbformat": 4,
 "nbformat_minor": 5
}
