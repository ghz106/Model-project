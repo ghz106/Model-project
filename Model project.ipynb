{
 "cells": [
  {
   "cell_type": "code",
   "execution_count": 1,
   "id": "23d0f818-068f-427d-9ba3-bd55a1885f8f",
   "metadata": {},
   "outputs": [],
   "source": [
    "import numpy as np\n",
    "import sympy as sm\n",
    "import matplotlib.pyplot as plt\n",
    "import ipywidgets as widgets\n",
    "plt.style.use('seaborn-whitegrid')\n",
    "from scipy import optimize\n",
    "\n",
    "import Model_project as mp\n",
    "%load_ext autoreload\n",
    "%autoreload 2"
   ]
  },
  {
   "cell_type": "markdown",
   "id": "321f5d8e-b3b6-4112-9800-d03f0db30abe",
   "metadata": {},
   "source": [
    "In this model project we want to solve the Solow model with humancapital. We take the model from 'Introducing Advanced Macroeconomics - Growth and Business Cycles'. 3 edition 2022, Sørensen, Peter Birch and Whitta-Jacobsen, Hans Jørgen."
   ]
  },
  {
   "cell_type": "markdown",
   "id": "9969c67b-a2d2-44b0-94b1-230df9d48093",
   "metadata": {},
   "source": [
    "The Solow model with human capital from Mankiw, Weil and Romer is an extenstion of the general Solow model, that helps explain why international investments does not flow to poorer countries as predicted by the general Solow model. The modification finds itself in the addition of human capital, which is mostly measured as years of education and experience in general, and sheds greater light on why some countries are rich and some are poor. "
   ]
  },
  {
   "cell_type": "markdown",
   "id": "c5d02719-7ebe-4159-828c-0c3494438544",
   "metadata": {},
   "source": [
    "# The baseline model"
   ]
  },
  {
   "cell_type": "code",
   "execution_count": 2,
   "id": "2623643e-c4e2-4a4d-b8ae-e3a3028b13ed",
   "metadata": {},
   "outputs": [],
   "source": [
    "#First we define all the parameters and variables using sympy\n",
    "Y, K, alpha, H, phi, A, L, y, r, w, n, g, K1, sk, sh, H1, delta, L1, A1, tau, h_tilde, h_tilde1, k_tilde, k_tilde1,\\\n",
    "k_tilde_star, h_tilde_star, y_star, Y_ex, K_ex, alpha_ex, H_ex, phi_ex, A_ex, L_ex, y_ex, n_ex, g_ex, K1_ex, sk_ex,\\\n",
    "sh_ex, H1_ex, delta_ex, L1_ex, A1_ex, tau_ex, h_tilde_ex, h_tilde1_ex, k_tilde_ex, k_tilde1_ex, k_tilde_star_ex,\\\n",
    "h_tilde_star_ex, y_star_ex = sm.symbols('Y_t, K_t, alpha, H_t, phi, A_t, L_t, y_t, r_t, w_t, n, g, K_{t+1}, s_K, s_H,\\\n",
    "H_{t+1}, delta, L_{t+1}, A_{t+1}, tau, htilde_t, htilde_t+1, ktilde_t, ktilde_t+1, ktilde^*, htilde^*, y^*, Y_t, K_t,\\\n",
    "alpha, H_t, phi, A_t, L_t, y_t, n, g, K_{t+1}, s_K, s_H, H_{t+1}, delta, L_{t+1}, A_{t+1}, tau, htilde_t,\\\n",
    "htilde_t+1, ktilde_t, ktilde_t+1, ktilde^*, htilde^*, y^*') "
   ]
  },
  {
   "cell_type": "code",
   "execution_count": 3,
   "id": "aeb930bf-e034-49bd-ba17-44208908f327",
   "metadata": {},
   "outputs": [
    {
     "data": {
      "text/latex": [
       "$\\displaystyle Y_{t} = H_{t}^{\\phi} K_{t}^{\\alpha} \\left(A_{t} L_{t}\\right)^{- \\alpha - \\phi + 1}$"
      ],
      "text/plain": [
       "Eq(Y_t, H_t**phi*K_t**alpha*(A_t*L_t)**(-alpha - phi + 1))"
      ]
     },
     "metadata": {},
     "output_type": "display_data"
    },
    {
     "data": {
      "text/latex": [
       "$\\displaystyle r_{t} = \\alpha \\left(\\frac{H_{t}}{A_{t} L_{t}}\\right)^{\\phi} \\left(\\frac{K_{t}}{A_{t} L_{t}}\\right)^{\\alpha - 1}$"
      ],
      "text/plain": [
       "Eq(r_t, alpha*(H_t/(A_t*L_t))**phi*(K_t/(A_t*L_t))**(alpha - 1))"
      ]
     },
     "metadata": {},
     "output_type": "display_data"
    },
    {
     "data": {
      "text/latex": [
       "$\\displaystyle w_{t} = A_{t} \\left(\\frac{H_{t}}{A_{t} L_{t}}\\right)^{\\phi} \\left(\\frac{K_{t}}{A_{t} L_{t}}\\right)^{\\alpha} \\left(1 - \\alpha\\right)$"
      ],
      "text/plain": [
       "Eq(w_t, A_t*(H_t/(A_t*L_t))**phi*(K_t/(A_t*L_t))**alpha*(1 - alpha))"
      ]
     },
     "metadata": {},
     "output_type": "display_data"
    },
    {
     "data": {
      "text/latex": [
       "$\\displaystyle K_{t+1} = K_{t} \\left(1 - \\delta\\right) + Y_{t} s_{K}$"
      ],
      "text/plain": [
       "Eq(K_{t+1}, K_t*(1 - delta) + Y_t*s_K)"
      ]
     },
     "metadata": {},
     "output_type": "display_data"
    },
    {
     "data": {
      "text/latex": [
       "$\\displaystyle H_{t+1} = H_{t} \\left(1 - \\delta\\right) + Y_{t} s_{H}$"
      ],
      "text/plain": [
       "Eq(H_{t+1}, H_t*(1 - delta) + Y_t*s_H)"
      ]
     },
     "metadata": {},
     "output_type": "display_data"
    },
    {
     "data": {
      "text/latex": [
       "$\\displaystyle L_{t+1} = L_{t} \\left(n + 1\\right)$"
      ],
      "text/plain": [
       "Eq(L_{t+1}, L_t*(n + 1))"
      ]
     },
     "metadata": {},
     "output_type": "display_data"
    },
    {
     "data": {
      "text/latex": [
       "$\\displaystyle A_{t+1} = A_{t} \\left(g + 1\\right)$"
      ],
      "text/plain": [
       "Eq(A_{t+1}, A_t*(g + 1))"
      ]
     },
     "metadata": {},
     "output_type": "display_data"
    }
   ],
   "source": [
    "#Here we create all the equations of the model and displays them using sympy\n",
    "Y_t = sm.Eq(Y, (K**alpha*H**phi)*(A*L)**(1-alpha-phi))\n",
    "r_t = sm.Eq(r, alpha*(K/(A*L))**(alpha-1)*(H/(A*L))**phi)\n",
    "w_t = sm.Eq(w, (1-alpha)*(K/(A*L))**alpha*(H/(A*L))**phi*A)\n",
    "K_t1 = sm.Eq(K1, sk*Y+(1-delta)*K)\n",
    "H_t1 = sm.Eq(H1, sh*Y+(1-delta)*H)\n",
    "L_t1 = sm.Eq(L1, (1+n)*L)\n",
    "A_t1 = sm.Eq(A1, (1+g)*A)\n",
    "display(Y_t, r_t, w_t, K_t1, H_t1, L_t1, A_t1)"
   ]
  },
  {
   "cell_type": "markdown",
   "id": "1fe3ef51-6660-4d07-9734-01314cfdb182",
   "metadata": {},
   "source": [
    "The Solow model with human capital is given with these equations. 1) stating that output is given as a Cobb-Douglas production function. 2 and 3) stating that the real rental rate on capital and real wage is given from the marginalproduct of capital and labour respectively. 4 and 5) stating the accumulation equation of capital and human capital. 6) stating that labour grows with the exogeneously rate of n. 7) stating that technology grows with the exogeneously rate of g."
   ]
  },
  {
   "cell_type": "markdown",
   "id": "8704d9ce-87ba-4ec1-b9cd-23a20e79fe63",
   "metadata": {},
   "source": [
    "# Solving the model symbolically "
   ]
  },
  {
   "cell_type": "markdown",
   "id": "130faee8-2147-412e-a1fb-74080c1b9a92",
   "metadata": {},
   "source": [
    "First we would like to solve the model symbolically with sympy meaning that we find the steady state values to thereafter solve for different values of steady state. We begin by deriving the transition equation and thereafter we define the Solow eqautions."
   ]
  },
  {
   "cell_type": "markdown",
   "id": "24d12248-2a31-4d52-bb85-a846366fbec3",
   "metadata": {},
   "source": [
    "The law of motion in the Solow model with human capital can be descibed by the Transition- and Solow equations. The transition equation and Solow equations states how all of the parameters in the model move over time and is stated below."
   ]
  },
  {
   "cell_type": "code",
   "execution_count": 4,
   "id": "75fdf672-005c-4607-bb81-1c3ef14fa694",
   "metadata": {},
   "outputs": [
    {
     "data": {
      "text/latex": [
       "$\\displaystyle \\tilde{k}_{t+1} = \\frac{\\left(g + 1\\right) \\left(\\tilde{h}_{t}^{\\phi} \\tilde{k}_{t}^{\\alpha} s_{K} + \\tilde{k}_{t} \\left(1 - \\delta\\right)\\right)}{n + 1}$"
      ],
      "text/plain": [
       "Eq(ktilde_t+1, (g + 1)*(htilde_t**phi*ktilde_t**alpha*s_K + ktilde_t*(1 - delta))/(n + 1))"
      ]
     },
     "metadata": {},
     "output_type": "display_data"
    },
    {
     "data": {
      "text/latex": [
       "$\\displaystyle \\tilde{h}_{t+1} = \\frac{\\left(g + 1\\right) \\left(\\tilde{h}_{t} \\left(1 - \\delta\\right) + \\tilde{h}_{t}^{\\phi} \\tilde{k}_{t}^{\\alpha} s_{H}\\right)}{n + 1}$"
      ],
      "text/plain": [
       "Eq(htilde_t+1, (g + 1)*(htilde_t*(1 - delta) + htilde_t**phi*ktilde_t**alpha*s_H)/(n + 1))"
      ]
     },
     "metadata": {},
     "output_type": "display_data"
    }
   ],
   "source": [
    "k_trans = sm.Eq(k_tilde1, ((1/(1+n)*(1+g))*(sk*(k_tilde**alpha)*(h_tilde**phi)+(1-delta)*k_tilde)))\n",
    "h_trans = sm.Eq(h_tilde1, ((1/(1+n)*(1+g))*(sh*(k_tilde**alpha)*(h_tilde**phi)+(1-delta)*h_tilde)))\n",
    "display(k_trans, h_trans)"
   ]
  },
  {
   "cell_type": "markdown",
   "id": "bcd5601f-01e8-4196-8cb7-5f230e72422a",
   "metadata": {},
   "source": [
    "The Solow eqautins can be found by subtracting both sides of the equation by $\\tilde{k}_t$ and $\\tilde{h}_t$, respectively. The Solow eqautions therefore become."
   ]
  },
  {
   "cell_type": "code",
   "execution_count": 5,
   "id": "3dae3b28-da28-4e86-b18e-6e01fac51332",
   "metadata": {},
   "outputs": [
    {
     "data": {
      "text/latex": [
       "$\\displaystyle - \\tilde{k}_{t} + \\tilde{k}_{t+1} = \\frac{\\left(g + 1\\right) \\left(\\tilde{h}_{t}^{\\phi} \\tilde{k}_{t}^{\\alpha} s_{K} - \\tilde{k}_{t} \\left(\\delta + g n + g + n\\right)\\right)}{n + 1}$"
      ],
      "text/plain": [
       "Eq(-ktilde_t + ktilde_t+1, (g + 1)*(htilde_t**phi*ktilde_t**alpha*s_K - ktilde_t*(delta + g*n + g + n))/(n + 1))"
      ]
     },
     "metadata": {},
     "output_type": "display_data"
    },
    {
     "data": {
      "text/latex": [
       "$\\displaystyle - \\tilde{h}_{t} + \\tilde{h}_{t+1} = \\frac{\\left(g + 1\\right) \\left(\\tilde{h}_{t}^{\\phi} \\tilde{k}_{t}^{\\alpha} s_{H} - \\tilde{k}_{t} \\left(\\delta + g n + g + n\\right)\\right)}{n + 1}$"
      ],
      "text/plain": [
       "Eq(-htilde_t + htilde_t+1, (g + 1)*(htilde_t**phi*ktilde_t**alpha*s_H - ktilde_t*(delta + g*n + g + n))/(n + 1))"
      ]
     },
     "metadata": {},
     "output_type": "display_data"
    }
   ],
   "source": [
    "k_solow = sm.Eq(k_tilde1-k_tilde, ((1/(1+n)*(1+g))*(sk*(k_tilde**alpha)*(h_tilde**phi)-(n+g+delta+n*g)*k_tilde)))\n",
    "h_solow = sm.Eq(h_tilde1-h_tilde, ((1/(1+n)*(1+g))*(sh*(k_tilde**alpha)*(h_tilde**phi)-(n+g+delta+n*g)*k_tilde)))\n",
    "display(k_solow, h_solow)"
   ]
  },
  {
   "cell_type": "markdown",
   "id": "637e2bd7-b779-49c5-b99d-670945d8acc8",
   "metadata": {},
   "source": [
    "As we know analytically these equations can be solved to find steady state by setting $\\tilde{k}_{t+1}$ and $\\tilde{k}_{t}$ equal to eachother and solving for $\\tilde{k}_{t}$ and the same for $\\tilde{h}_{t+1}$ and $\\tilde{h}_{t}$. That is the same as solving the right hand side and the left hand side in the big parenthesis to be equal to eachother. If this is done we end up with the following steady state values:"
   ]
  },
  {
   "cell_type": "code",
   "execution_count": 6,
   "id": "162c8faf-6704-432a-b113-fdf1d8e68066",
   "metadata": {},
   "outputs": [
    {
     "name": "stdout",
     "output_type": "stream",
     "text": [
      "So physical capital- and human capital per effective worker is in steady state equal to:\n"
     ]
    },
    {
     "data": {
      "text/latex": [
       "$\\displaystyle \\tilde{k}^{*} = \\left(\\frac{s_{H}^{\\phi} s_{K}^{1 - \\phi}}{\\delta + g n + g + n}\\right)^{\\frac{1}{- \\alpha - \\phi + 1}}$"
      ],
      "text/plain": [
       "Eq(ktilde^*, (s_H**phi*s_K**(1 - phi)/(delta + g*n + g + n))**(1/(-alpha - phi + 1)))"
      ]
     },
     "metadata": {},
     "output_type": "display_data"
    },
    {
     "data": {
      "text/latex": [
       "$\\displaystyle \\tilde{h}^{*} = \\left(\\frac{s_{H}^{1 - \\alpha} s_{K}^{\\alpha}}{\\delta + g n + g + n}\\right)^{\\frac{1}{- \\alpha - \\phi + 1}}$"
      ],
      "text/plain": [
       "Eq(htilde^*, (s_H**(1 - alpha)*s_K**alpha/(delta + g*n + g + n))**(1/(-alpha - phi + 1)))"
      ]
     },
     "metadata": {},
     "output_type": "display_data"
    }
   ],
   "source": [
    "k_steady_state = sm.Eq(k_tilde_star, ((sk**(1-phi)*(sh**phi))/(n+g+delta+n*g))**(1/(1-alpha-phi)))\n",
    "h_steady_state = sm.Eq(h_tilde_star, ((sk**(alpha)*(sh**(1-alpha)))/(n+g+delta+n*g))**(1/(1-alpha-phi)))\n",
    "print('So physical capital- and human capital per effective worker is in steady state equal to:')\n",
    "display(k_steady_state, h_steady_state)"
   ]
  },
  {
   "cell_type": "markdown",
   "id": "bfa7718f-5950-42ce-89c8-b721bcc67e52",
   "metadata": {},
   "source": [
    "We can now find ${y^*}$ out of our definition of $\\tilde{y^{*}}$ = $\\frac{y^{*}}{A_{{t}}}$  <=> ${y^*}$ = ${A}_{t}*\\tilde{k^\\alpha}_{t}*\\tilde{h^\\phi}_{t}$"
   ]
  },
  {
   "cell_type": "code",
   "execution_count": 7,
   "id": "12a17d1b-0df3-49de-af94-8b3060041144",
   "metadata": {},
   "outputs": [
    {
     "name": "stdout",
     "output_type": "stream",
     "text": [
      "GDP per worker is in steady state equal to\n"
     ]
    },
    {
     "data": {
      "text/latex": [
       "$\\displaystyle y^{*} = A_{t} \\left(\\frac{s_{H}}{\\delta + g n + g + n}\\right)^{\\frac{\\phi}{- \\alpha - \\phi + 1}} \\left(\\frac{s_{K}}{\\delta + g n + g + n}\\right)^{\\frac{\\alpha}{- \\alpha - \\phi + 1}}$"
      ],
      "text/plain": [
       "Eq(y^*, A_t*(s_H/(delta + g*n + g + n))**(phi/(-alpha - phi + 1))*(s_K/(delta + g*n + g + n))**(alpha/(-alpha - phi + 1)))"
      ]
     },
     "metadata": {},
     "output_type": "display_data"
    }
   ],
   "source": [
    "sk_div = ((sk/(n+g+delta+n*g))**(alpha/(1-alpha-phi))) #For more cleaner code\n",
    "\n",
    "y_steady_state = sm.Eq(y_star, (sk_div*(sh/(n+g+delta+n*g))**(phi/(1-alpha-phi)))*A)\n",
    "print('GDP per worker is in steady state equal to')\n",
    "display(y_steady_state)"
   ]
  },
  {
   "cell_type": "markdown",
   "id": "570c38d6-0db8-4f2e-a3e7-bd177b123572",
   "metadata": {},
   "source": [
    "Now that we have all of our steady state values we can begin to calculate them by sympy for given parameter values.\n",
    "From Weil, Mankiw and Romer (taking from the book) we get the following 'realistic' parameter values for all of our exogenous variables."
   ]
  },
  {
   "cell_type": "code",
   "execution_count": 8,
   "id": "f651c8c2-7961-49b7-92e1-c9283fdb75da",
   "metadata": {},
   "outputs": [],
   "source": [
    "delta = 0.06\n",
    "n = 0\n",
    "g = 0.015\n",
    "alpha = (1/3)\n",
    "phi = (1/3)\n",
    "sk = 0.2\n",
    "sh = 0.15\n",
    "tau = 0.15\n",
    "A = 1 #Most estimates set A to be around 1, so therefore the value that it has"
   ]
  },
  {
   "cell_type": "markdown",
   "id": "45dc8f0b-ebb4-4343-a70c-934c92de9430",
   "metadata": {},
   "source": [
    "Now all there is left to do is to restate the equations, but now with the parameter values as given from above."
   ]
  },
  {
   "cell_type": "code",
   "execution_count": 9,
   "id": "64d9b992-bbc2-479b-969c-2a0a133dd18c",
   "metadata": {},
   "outputs": [
    {
     "name": "stdout",
     "output_type": "stream",
     "text": [
      "With the given parameter values. Physical capital per effective worker is in steady state:\n"
     ]
    },
    {
     "data": {
      "text/latex": [
       "$\\displaystyle \\tilde{k}^{*} = 14.2222222222222$"
      ],
      "text/plain": [
       "Eq(ktilde^*, 14.2222222222222)"
      ]
     },
     "metadata": {},
     "output_type": "display_data"
    },
    {
     "name": "stdout",
     "output_type": "stream",
     "text": [
      "With the given parameter values. Human capital per effective worker is in steady state:\n"
     ]
    },
    {
     "data": {
      "text/latex": [
       "$\\displaystyle \\tilde{h}^{*} = 10.6666666666667$"
      ],
      "text/plain": [
       "Eq(htilde^*, 10.6666666666667)"
      ]
     },
     "metadata": {},
     "output_type": "display_data"
    },
    {
     "name": "stdout",
     "output_type": "stream",
     "text": [
      "With the given parameter values. GDP per worker is in steady state:\n"
     ]
    },
    {
     "data": {
      "text/latex": [
       "$\\displaystyle y^{*} = 5.33333333333333$"
      ],
      "text/plain": [
       "Eq(y^*, 5.33333333333333)"
      ]
     },
     "metadata": {},
     "output_type": "display_data"
    }
   ],
   "source": [
    "sk_div2 = ((sk/(n+g+delta+n*g))**(alpha/(1-alpha-phi))) #For more cleaner code\n",
    "\n",
    "k_steady_state_value = sm.Eq(k_tilde_star, (((sk**(1-phi))*(sh**phi))/(n+g+delta+n*g))**(1/(1-alpha-phi)))\n",
    "h_steady_state_value = sm.Eq(h_tilde_star, (((sk**alpha)*(sh**(1-alpha)))/(n+g+delta+n*g))**(1/(1-alpha-phi)))\n",
    "y_steady_state_value = sm.Eq(y_star, (((sk_div2*((sh/(n+g+delta+n*g))**(phi/(1-alpha-phi))))*A)))\n",
    "print('With the given parameter values. Physical capital per effective worker is in steady state:')\n",
    "display(k_steady_state_value)\n",
    "print('With the given parameter values. Human capital per effective worker is in steady state:')\n",
    "display(h_steady_state_value)\n",
    "print('With the given parameter values. GDP per worker is in steady state:')\n",
    "display(y_steady_state_value)"
   ]
  },
  {
   "cell_type": "markdown",
   "id": "21fb3088-0724-4aeb-9e37-bf8ea9b13e41",
   "metadata": {},
   "source": [
    "Not so weirdly we get a high value of $\\tilde{k^*}$ because of the savings rate on physical capital being higher than on human capital. we do however in the expressions see something odd. That is both human capital and physical capital depends on both the savings rate of human capital and the savings rate of physical capital. We find the explaination to that in something called self-reinforcing- and cross effects. The effects can be seen in that a higher savings rate on human capital will infest itself in a higher GDP per (effective) worker which will in itself bring on more savings to both human- and physical capital which will further root itself in higher levels of physical- and human capital and so on. This will continue for infinty, though the effect will at last become almost equal to 0. That is why we see such a high level of GDP per worker in steady state."
   ]
  },
  {
   "cell_type": "markdown",
   "id": "5649d271-2a03-4b8b-bb32-135a4ab4851c",
   "metadata": {},
   "source": [
    "# Solving the model numerically"
   ]
  },
  {
   "cell_type": "markdown",
   "id": "31b201d4-8ecb-40d7-a382-dbfde77dbe9c",
   "metadata": {},
   "source": [
    "Now that we have solved the model symbolically there is one thing left to do. That is, solve it numerically and compare the two results. We will solve the model numerically by using scipy and we will optimize with an algorithm, were in we will use the bisection algorithm."
   ]
  },
  {
   "cell_type": "markdown",
   "id": "a173a6ec-b471-4ef6-bc04-292885bcb0b0",
   "metadata": {},
   "source": [
    "So as we said we are going to solve the model numerically by using an algorithm. But first, what is an algorithm?\n",
    "An algorithm can be thought off as a recipe to solve a problem, just like when you cook, you use a recipe. An algorithm therefore contains different steps and the one we are going to use is no different.\n",
    "Down below we describe the steps of the alogrithm that we are going to use:"
   ]
  },
  {
   "cell_type": "markdown",
   "id": "986bb95b-1e6a-4776-9c29-f6c84c07e1ec",
   "metadata": {},
   "source": [
    "Before we even start we have to know what we are going to solve.\n",
    "So the problem that we are going to calculate is: Find the root of the steady state function with the given parameter values."
   ]
  },
  {
   "cell_type": "markdown",
   "id": "691a3379-ad4d-49f5-9728-99f5efd45b35",
   "metadata": {},
   "source": [
    "In mathematical terms it is going to look like this:"
   ]
  },
  {
   "cell_type": "code",
   "execution_count": 10,
   "id": "11384c78-1a11-4ce0-88bf-f19ab9f9b2f6",
   "metadata": {},
   "outputs": [
    {
     "name": "stderr",
     "output_type": "stream",
     "text": [
      "/Users/lucasbillot/opt/anaconda3/lib/python3.9/site-packages/sympy/core/relational.py:495: SymPyDeprecationWarning: \n",
      "\n",
      "Eq(expr) with rhs default to 0 has been deprecated since SymPy 1.5.\n",
      "Use Eq(expr, 0) instead. See\n",
      "https://github.com/sympy/sympy/issues/16587 for more info.\n",
      "\n",
      "  SymPyDeprecationWarning(\n"
     ]
    },
    {
     "data": {
      "text/latex": [
       "$\\displaystyle \\tilde{k}^{*} - \\left(\\frac{s_{H}^{\\phi} s_{K}^{1 - \\phi}}{\\delta + g n + g + n}\\right)^{\\frac{1}{- \\alpha - \\phi + 1}} = 0$"
      ],
      "text/plain": [
       "Eq(ktilde^* - (s_H**phi*s_K**(1 - phi)/(delta + g*n + g + n))**(1/(-alpha - phi + 1)), 0)"
      ]
     },
     "execution_count": 10,
     "metadata": {},
     "output_type": "execute_result"
    }
   ],
   "source": [
    "sk_sh = ((sk_ex**(1-phi_ex))*(sh_ex**phi_ex))\n",
    "\n",
    "k_ss_num = sm.Eq(k_tilde_star-(((sk_ex**(1-phi_ex))*(sh_ex**phi_ex))/(n_ex+g_ex+delta_ex+n_ex*g_ex))**(1/(1-alpha_ex-phi_ex)),)\n",
    "k_ss_num"
   ]
  },
  {
   "cell_type": "markdown",
   "id": "6868c38a-cb6e-4689-8d9e-69c89bece52b",
   "metadata": {},
   "source": [
    "And obvivously the same for $\\tilde{h}_{t}$ and ${y^*}$"
   ]
  },
  {
   "cell_type": "markdown",
   "id": "4851fdf3-8fa1-4c0b-98d5-ca62d4629433",
   "metadata": {},
   "source": [
    "So the first step in the algorithm is to set ${a}_{0}$ and ${b}_{0}$ equal to a and b respectively. Were $f(a)$ and $f(b)$ has opposite sign, $f(a_0)f(b_0)<0$. In other words, we take two point with function values lower and higher than a threshold value, with one of the values being negative and the other being positive.  \n",
    "\n",
    "The next step is to Compute $f(m_0)$ where $m_0 = (a_0 + b_0)/2$ is the midpoint. Again in other words this means that we calculate the midpoint between the two function values \n",
    "\n",
    "The third step is thereafter to  Determine the next sub-interval $[a_1,b_1]$:\n",
    "  * If $f(a_0)f(m_0) < 0$ (different signs) then $a_1 = a_0$ and $b_1 = m_0$ (i.e. focus on the range $[a_0,m_0]$).\n",
    "  * If $f(m_0)f(b_0) < 0$ (different signs) then $a_1 = m_0$ and $b_1 = b_0$ (i.e. focus on the range $[m_0,b_0]$). \n",
    "This means that when we have calculated the midpoint between the two function values, we move there. The first * says that if the midpoint is below the threshold value look in a further up interval. The second * says exactly the opposite, so if the midpoint is above the threshold value look in an interval below.\n",
    "\n",
    "The last step is to Repeat step 2 and step 3 until $f(m_n) < \\epsilon$. \n",
    "\n",
    "To really understand this try to follow along this analogy. If you imagine back in the days that you wanted to call your aunt, called Mette, but didnt know her number, so you had to look it up in a phonebook. So you start by turning to almost the last page and right after almost the first page in the phonebook, one with the names starting with a c and one with the names starting with a, v. You realize that you are far from the page with the names starting with and m, so you go to the page right in the middle of the letter v and s. This brings you to the page with the names starting with a l. You realize that this is below m in the alphabet so you turn to the page in the middle of the interval of the two letters l and z. This keeps going until you finally end up at the page with the names starting with a m. \n",
    "\n",
    "See also this https://docs.scipy.org/doc/scipy/reference/generated/scipy.optimize.bisect.html"
   ]
  },
  {
   "cell_type": "code",
   "execution_count": 11,
   "id": "240b4312-9191-46aa-9ff8-9e1eede04bbb",
   "metadata": {},
   "outputs": [],
   "source": [
    "#a. first we create the objective function via numpys lambda implementation\n",
    "k_ss_func = lambda k: k-(((sk**(1-phi)*(sh**phi))/(n+g+delta+n*g))**(1/(1-alpha-phi)))"
   ]
  },
  {
   "cell_type": "code",
   "execution_count": 12,
   "id": "168b9188-ba48-40a0-ac63-3a66eeb77728",
   "metadata": {},
   "outputs": [
    {
     "name": "stdout",
     "output_type": "stream",
     "text": [
      "Steady state of physical capital per effective worker, found numerically, is:\n",
      "(14.222222222220807,       converged: True\n",
      "           flag: 'converged'\n",
      " function_calls: 43\n",
      "     iterations: 41\n",
      "           root: 14.222222222220807)\n"
     ]
    }
   ],
   "source": [
    "def bisect(a, b, alpha=(1/3), phi=(1/3), g=0.015, sk=0.2, sh=0.15, n=0, delta=0.06):\n",
    "    \"\"\" bisection\n",
    "    \n",
    "     Solve equation f(x) = 0 for a <= x <= b.\n",
    "    \n",
    "    Args:\n",
    "    \n",
    "        a      (float)          : one end of the bracketing interval [a,b]\n",
    "        b      (float)          : the other end of the bracketing interval [a,b]\n",
    "        alpha  (float)          : income share of capital and labour\n",
    "        phi    (float)          : income share of human capital and labour\n",
    "        g      (float)          : growth rate of technology\n",
    "        sk     (float)          : savings rate of physical capital\n",
    "        sh     (float)          : savings rate of human capital\n",
    "        n      (float)          : growth rate of labour\n",
    "        delta  (float)          : depreciation rate on human- and physcial capital\n",
    "    \n",
    "    Returns:\n",
    "    \n",
    "        steady state value for k(tilde)^*\n",
    "        \n",
    "    \"\"\"\n",
    "        \n",
    "    alpha = alpha\n",
    "    sk = sk\n",
    "    sh = sh\n",
    "    n = n\n",
    "    g = g\n",
    "    phi = phi\n",
    "    delta = delta\n",
    "    return optimize.bisect(k_ss_func, a, b, full_output=True)\n",
    "\n",
    "print('Steady state of physical capital per effective worker, found numerically, is:')\n",
    "print(bisect(12,16))"
   ]
  },
  {
   "cell_type": "markdown",
   "id": "ca3cbf85-952d-40f1-bb76-ce1ccecf1477",
   "metadata": {},
   "source": [
    "We can know calculate the steady state values of human capital per effective worker and GDP per woker, numerically, exactly the same way as we just did. If we do that then we will end up with:"
   ]
  },
  {
   "cell_type": "code",
   "execution_count": 23,
   "id": "e15d36bf-874f-4b7f-9349-c1b9089d968b",
   "metadata": {},
   "outputs": [
    {
     "name": "stdout",
     "output_type": "stream",
     "text": [
      "Steady state of human capital per effective worker, found numerically, is:\n",
      "(10.66666666666606,       converged: True\n",
      "           flag: 'converged'\n",
      " function_calls: 43\n",
      "     iterations: 41\n",
      "           root: 10.66666666666606)\n",
      "Steady state of GDP per worker, found numerically, is:\n",
      "(5.33333333333394,       converged: True\n",
      "           flag: 'converged'\n",
      " function_calls: 43\n",
      "     iterations: 41\n",
      "           root: 5.33333333333394)\n"
     ]
    }
   ],
   "source": [
    "print('Steady state of human capital per effective worker, found numerically, is:')\n",
    "print(mp.bisect2(8,12))\n",
    "print('Steady state of GDP per worker, found numerically, is:')\n",
    "print(mp.bisect3(4,8))"
   ]
  },
  {
   "cell_type": "markdown",
   "id": "2e75d70b-70ab-42d3-bee7-45d31cd242d0",
   "metadata": {},
   "source": [
    "As we can see we get the exact same answers whether or not we solve the model symbolically via sympy or numerically via the bisection algorithm. We have stated the symbolical answers again down below, just for the readers sake."
   ]
  },
  {
   "cell_type": "code",
   "execution_count": 24,
   "id": "dabe790a-3c60-40ba-9a9d-285f619c28c4",
   "metadata": {},
   "outputs": [
    {
     "data": {
      "text/latex": [
       "$\\displaystyle \\tilde{k}^{*} = 14.2222222222222$"
      ],
      "text/plain": [
       "Eq(ktilde^*, 14.2222222222222)"
      ]
     },
     "metadata": {},
     "output_type": "display_data"
    },
    {
     "data": {
      "text/latex": [
       "$\\displaystyle \\tilde{h}^{*} = 10.6666666666667$"
      ],
      "text/plain": [
       "Eq(htilde^*, 10.6666666666667)"
      ]
     },
     "metadata": {},
     "output_type": "display_data"
    },
    {
     "data": {
      "text/latex": [
       "$\\displaystyle y^{*} = 5.33333333333333$"
      ],
      "text/plain": [
       "Eq(y^*, 5.33333333333333)"
      ]
     },
     "metadata": {},
     "output_type": "display_data"
    }
   ],
   "source": [
    "display(k_steady_state_value)\n",
    "display(h_steady_state_value)\n",
    "display(y_steady_state_value)"
   ]
  },
  {
   "cell_type": "markdown",
   "id": "5954f427-3fb0-41f9-9bc8-27ca9ec38194",
   "metadata": {
    "tags": []
   },
   "source": [
    "# Interactive phase diagram"
   ]
  },
  {
   "cell_type": "code",
   "execution_count": null,
   "id": "ecae5f88-9daf-4bbd-b780-3e5c900ee3b7",
   "metadata": {},
   "outputs": [],
   "source": []
  },
  {
   "cell_type": "code",
   "execution_count": null,
   "id": "47861f6d-5299-445e-b75b-dbe3350ba4fa",
   "metadata": {},
   "outputs": [],
   "source": []
  },
  {
   "cell_type": "code",
   "execution_count": null,
   "id": "c957858d-19b9-43ab-abe3-af557fa2c944",
   "metadata": {},
   "outputs": [],
   "source": []
  },
  {
   "cell_type": "markdown",
   "id": "081c0ef1-baa6-416f-bfe1-0d2d5466c543",
   "metadata": {},
   "source": [
    "# Extended model with taxation/government "
   ]
  },
  {
   "cell_type": "markdown",
   "id": "0c82ce40-0552-4a15-a11f-16e2647da3c7",
   "metadata": {},
   "source": [
    "We extend the model by including taxation on wealth and thereby adding an 'active' government. We add a taxation on physical capital (wealth) and add a government who uses all of the tax provenue to invest in human capital. Meaning that human capital will now only accumulate on the basis of physical capital, the government and the tax rate. See this PDF document: https://absalon.ku.dk/courses/55956/files/5668197?module_item_id=1559108"
   ]
  },
  {
   "cell_type": "markdown",
   "id": "a44b1efd-0544-47e0-9c1a-d061224823bf",
   "metadata": {},
   "source": [
    "The extended Solow model with human capital and taxation is given by:"
   ]
  },
  {
   "cell_type": "code",
   "execution_count": 25,
   "id": "bd53352e-d399-47dd-9569-91eec3d74bcb",
   "metadata": {},
   "outputs": [
    {
     "data": {
      "text/latex": [
       "$\\displaystyle Y_{t} = H_{t}^{\\phi} K_{t}^{\\alpha} \\left(A_{t} L_{t}\\right)^{- \\alpha - \\phi + 1}$"
      ],
      "text/plain": [
       "Eq(Y_t, H_t**phi*K_t**alpha*(A_t*L_t)**(-alpha - phi + 1))"
      ]
     },
     "metadata": {},
     "output_type": "display_data"
    },
    {
     "data": {
      "text/latex": [
       "$\\displaystyle L_{t+1} = L_{t} \\left(n + 1\\right)$"
      ],
      "text/plain": [
       "Eq(L_{t+1}, L_t*(n + 1))"
      ]
     },
     "metadata": {},
     "output_type": "display_data"
    },
    {
     "data": {
      "text/latex": [
       "$\\displaystyle A_{t+1} = A_{t} \\left(g + 1\\right)$"
      ],
      "text/plain": [
       "Eq(A_{t+1}, A_t*(g + 1))"
      ]
     },
     "metadata": {},
     "output_type": "display_data"
    },
    {
     "data": {
      "text/latex": [
       "$\\displaystyle K_{t+1} = K_{t} \\left(- \\delta - \\tau + 1\\right) + Y_{t} + s_{K}$"
      ],
      "text/plain": [
       "Eq(K_{t+1}, K_t*(-delta - tau + 1) + Y_t + s_K)"
      ]
     },
     "metadata": {},
     "output_type": "display_data"
    },
    {
     "data": {
      "text/latex": [
       "$\\displaystyle H_{t+1} = H_{t} \\left(1 - \\tau\\right) + K_{t} \\tau$"
      ],
      "text/plain": [
       "Eq(H_{t+1}, H_t*(1 - tau) + K_t*tau)"
      ]
     },
     "metadata": {},
     "output_type": "display_data"
    }
   ],
   "source": [
    "Y_ext = sm.Eq(Y_ex, (H_ex**phi_ex)*(K_ex**alpha)*((A_ex*L_ex)**(1-alpha_ex-phi_ex)))\n",
    "L_ext = sm.Eq(L1_ex, L_ex*(1+n))\n",
    "A_ext = sm.Eq(A1_ex, A_ex*(1+g))\n",
    "K_t_1 = sm.Eq(K1_ex, sk_ex+Y_ex+(1-tau_ex-delta_ex)*K_ex)\n",
    "H_t_1 = sm.Eq(H1_ex, tau_ex*K_ex+(1-tau_ex)*H_ex)\n",
    "display(Y_t, L_t1, A_t1, K_t_1, H_t_1)"
   ]
  },
  {
   "cell_type": "markdown",
   "id": "e4feb5e5-f29c-49f1-ac51-db9d5547c575",
   "metadata": {},
   "source": [
    "The extended Solow model is given by these equations. 1) Stating that output is a generel Cobb-Douglas production function. 2 and 3) Stating that labour and technology grows with the exogenously rates of n and g respectively. 4) Stating that capital accumulates by the total amount of savings and last years capital, now including a tax rate. 5) Stating that human capital know accumulates only by the amount of tax provenue from physical capital and last periods amount of human capital."
   ]
  },
  {
   "cell_type": "markdown",
   "id": "eb27298e-0296-4a4f-b3d5-66901015aeef",
   "metadata": {},
   "source": [
    "# Solving the model symbolically"
   ]
  },
  {
   "cell_type": "markdown",
   "id": "c8965503-ab2a-402d-9f5a-98767c33d64a",
   "metadata": {},
   "source": [
    "The solving of this model is pretty similar to the baseline model, but nonetheless our goal is still to find the steady state values for $\\tilde{k}_t$, $\\tilde{h}_t$ and ${y^*}$ and see if it makes any difference to include a tax on wealth income."
   ]
  },
  {
   "cell_type": "markdown",
   "id": "b25fdfb4-5286-4121-838e-0ae44c458226",
   "metadata": {},
   "source": [
    "The law of motion in this model is a little bit different since the transition equation and thereby the Solow equations have changed a little bit. The transition equations are stated below:"
   ]
  },
  {
   "cell_type": "code",
   "execution_count": 26,
   "id": "164a4959-2c36-4145-85a3-da8581e260ef",
   "metadata": {},
   "outputs": [
    {
     "name": "stdout",
     "output_type": "stream",
     "text": [
      "The transition equations for the extended Solow model is as follows:\n"
     ]
    },
    {
     "data": {
      "text/latex": [
       "$\\displaystyle \\tilde{k}_{t+1} = \\frac{\\left(g + 1\\right) \\left(\\tilde{h}_{t}^{\\phi} \\tilde{k}_{t}^{\\alpha} s_{K} + \\tilde{k}_{t} \\left(- \\delta - \\tau + 1\\right)\\right)}{n + 1}$"
      ],
      "text/plain": [
       "Eq(ktilde_t+1, (g + 1)*(htilde_t**phi*ktilde_t**alpha*s_K + ktilde_t*(-delta - tau + 1))/(n + 1))"
      ]
     },
     "metadata": {},
     "output_type": "display_data"
    },
    {
     "data": {
      "text/latex": [
       "$\\displaystyle \\tilde{h}_{t+1} = \\frac{\\left(g + 1\\right) \\left(\\tilde{h}_{t} \\left(1 - \\delta\\right) + \\tilde{k}_{t} \\tau\\right)}{n + 1}$"
      ],
      "text/plain": [
       "Eq(htilde_t+1, (g + 1)*(htilde_t*(1 - delta) + ktilde_t*tau)/(n + 1))"
      ]
     },
     "metadata": {},
     "output_type": "display_data"
    }
   ],
   "source": [
    "k_and_h_tilde = (k_tilde_ex**alpha_ex)*(h_tilde_ex**phi_ex) #For more cleaner code\n",
    "\n",
    "k_ex_trans = sm.Eq(k_tilde1_ex, ((1/(1+n_ex)*(1+g_ex))*(sk_ex*k_and_h_tilde+(1-delta_ex-tau_ex)*k_tilde_ex)))\n",
    "h_ex_trans = sm.Eq(h_tilde1_ex, ((1/(1+n_ex)*(1+g_ex))*(tau_ex*k_tilde_ex+(1-delta_ex)*h_tilde_ex)))\n",
    "print('The transition equations for the extended Solow model is as follows:')\n",
    "display(k_ex_trans, h_ex_trans)"
   ]
  },
  {
   "cell_type": "markdown",
   "id": "2d94955f-f209-45f2-aa0f-dd149756dc1b",
   "metadata": {},
   "source": [
    "The Solow equations can now again be found by subtracting both sides of the equation with $\\tilde{k}_{t}$ and $\\tilde{h}_{t}$, respectively. The Solow eqautions of the extended Solow model is now given by:"
   ]
  },
  {
   "cell_type": "code",
   "execution_count": 27,
   "id": "58183553-8b5b-4edd-9412-2219729172db",
   "metadata": {},
   "outputs": [
    {
     "name": "stdout",
     "output_type": "stream",
     "text": [
      "The Solow equations for the extended Solow model is:\n"
     ]
    },
    {
     "data": {
      "text/latex": [
       "$\\displaystyle - \\tilde{k}_{t} + \\tilde{k}_{t+1} = \\frac{\\left(g + 1\\right) \\left(\\tilde{h}_{t}^{\\phi} \\tilde{k}_{t}^{\\alpha} s_{K} - \\tilde{k}_{t} \\left(\\delta + g n + g + n + \\tau\\right)\\right)}{n + 1}$"
      ],
      "text/plain": [
       "Eq(-ktilde_t + ktilde_t+1, (g + 1)*(htilde_t**phi*ktilde_t**alpha*s_K - ktilde_t*(delta + g*n + g + n + tau))/(n + 1))"
      ]
     },
     "metadata": {},
     "output_type": "display_data"
    },
    {
     "data": {
      "text/latex": [
       "$\\displaystyle - \\tilde{h}_{t} + \\tilde{h}_{t+1} = \\frac{\\left(g + 1\\right) \\left(- \\tilde{h}_{t} \\left(\\delta + g n + g + n\\right) + \\tilde{k}_{t} \\tau\\right)}{n + 1}$"
      ],
      "text/plain": [
       "Eq(-htilde_t + htilde_t+1, (g + 1)*(-htilde_t*(delta + g*n + g + n) + ktilde_t*tau)/(n + 1))"
      ]
     },
     "metadata": {},
     "output_type": "display_data"
    }
   ],
   "source": [
    "down_paren = (n_ex+g_ex+n_ex*g_ex+delta_ex) #For more cleaner code\n",
    "\n",
    "k_ex_solow = sm.Eq(k_tilde1_ex-k_tilde_ex, ((1/(1+n_ex)*(1+g_ex))*(sk_ex*k_and_h_tilde-(down_paren+tau_ex)*k_tilde_ex)))\n",
    "h_ex_solow = sm.Eq(h_tilde1_ex-h_tilde, ((1/(1+n_ex)*(1+g_ex))*(tau_ex*k_tilde_ex-(down_paren)*h_tilde_ex)))\n",
    "print('The Solow equations for the extended Solow model is:')\n",
    "display(k_ex_solow, h_ex_solow)"
   ]
  },
  {
   "cell_type": "markdown",
   "id": "c7fa8d42-d206-4b6c-98fc-431e7ccb0377",
   "metadata": {},
   "source": [
    "Now that we have our Solow equations we can again derive our steady state values for $\\tilde{k}_{t}$ and $\\tilde{h}_{t}$ by setting the right hand side and the left hand side in the big parenthesis eqaul to eachother. If this is done we end up with the following steady state values:"
   ]
  },
  {
   "cell_type": "code",
   "execution_count": 28,
   "id": "3e27bba5-32b2-4e64-9da9-0c8c59a28e13",
   "metadata": {},
   "outputs": [
    {
     "name": "stdout",
     "output_type": "stream",
     "text": [
      "The steady state of capital per effective worker in the extended Solow model is given by:\n"
     ]
    },
    {
     "data": {
      "text/latex": [
       "$\\displaystyle \\tilde{k}^{*} = \\left(\\frac{s_{K} \\tau^{\\phi} \\left(\\delta + g n + g + n\\right)^{- \\phi}}{\\delta + g n + g + n + \\tau}\\right)^{\\frac{1}{- \\alpha - \\phi + 1}}$"
      ],
      "text/plain": [
       "Eq(ktilde^*, (s_K*tau**phi/((delta + g*n + g + n)**phi*(delta + g*n + g + n + tau)))**(1/(-alpha - phi + 1)))"
      ]
     },
     "metadata": {},
     "output_type": "display_data"
    },
    {
     "name": "stdout",
     "output_type": "stream",
     "text": [
      "The steady state of human capita per effective worker in the extended Solow model is given by:\n"
     ]
    },
    {
     "data": {
      "text/latex": [
       "$\\displaystyle \\tilde{h}^{*} = \\left(\\frac{s_{K} \\tau^{1 - \\alpha} \\left(\\delta + g n + g + n + \\tau\\right)^{\\alpha - 1}}{\\delta + g n + g + n + \\tau}\\right)^{\\frac{1}{- \\alpha - \\phi + 1}}$"
      ],
      "text/plain": [
       "Eq(htilde^*, (s_K*tau**(1 - alpha)*(delta + g*n + g + n + tau)**(alpha - 1)/(delta + g*n + g + n + tau))**(1/(-alpha - phi + 1)))"
      ]
     },
     "metadata": {},
     "output_type": "display_data"
    }
   ],
   "source": [
    "power11 = (1/(1-alpha_ex-phi_ex)) #For more cleaner code\n",
    "\n",
    "k_ex_ss = sm.Eq(k_tilde_star_ex,((sk_ex/(down_paren+tau_ex))*((tau_ex**phi_ex)/(down_paren**phi_ex)))**power11)\n",
    "h_ex_ss = sm.Eq(h_tilde_star_ex,(((sk_ex/(down_paren+tau_ex))*((tau_ex**(1-alpha_ex))/((down_paren+tau_ex)**(1-alpha_ex))))**power11))\n",
    "print('The steady state of capital per effective worker in the extended Solow model is given by:')\n",
    "display(k_ex_ss)\n",
    "print('The steady state of human capita per effective worker in the extended Solow model is given by:')\n",
    "display(h_ex_ss)"
   ]
  },
  {
   "cell_type": "markdown",
   "id": "fa51447d-c7db-4367-abcd-dfbca9a6c679",
   "metadata": {},
   "source": [
    "The steady state for GDP per worker can again be found on the definition of GDP per worker:"
   ]
  },
  {
   "cell_type": "code",
   "execution_count": 29,
   "id": "04bad9fd-05d8-42cc-9a3b-2ba296986908",
   "metadata": {},
   "outputs": [
    {
     "name": "stdout",
     "output_type": "stream",
     "text": [
      "The steady state of GDP per worker is in the extended Solow model given by:\n"
     ]
    },
    {
     "data": {
      "text/latex": [
       "$\\displaystyle y^{*} = A_{t} \\left(\\frac{s_{K}}{\\delta + g n + g + n + \\tau}\\right)^{\\frac{\\alpha + \\phi}{- \\alpha - \\phi + 1}} \\left(\\frac{\\tau}{\\delta + g n + g + n}\\right)^{\\frac{\\phi}{- \\alpha - \\phi + 1}}$"
      ],
      "text/plain": [
       "Eq(y^*, A_t*(s_K/(delta + g*n + g + n + tau))**((alpha + phi)/(-alpha - phi + 1))*(tau/(delta + g*n + g + n))**(phi/(-alpha - phi + 1)))"
      ]
     },
     "metadata": {},
     "output_type": "display_data"
    }
   ],
   "source": [
    "power1 = (phi_ex/(1-alpha_ex-phi_ex)) \n",
    "power2 = (alpha_ex+phi_ex)/(1-alpha_ex-phi_ex) #For more cleaner code. Both of these lines\n",
    "\n",
    "y_ex_ss = sm.Eq(y_star_ex,A_ex*((tau_ex/down_paren)**power1)*((sk_ex/(down_paren+tau_ex))**power2))\n",
    "print('The steady state of GDP per worker is in the extended Solow model given by:')\n",
    "display(y_ex_ss)"
   ]
  },
  {
   "cell_type": "markdown",
   "id": "27692e61-6eeb-46a1-b2de-4b236f8f44af",
   "metadata": {},
   "source": [
    "Now that we have our expression for the steady state values of importance we would like to solve them symbolically. We do this by inserting the given parameter values into the expressions. Therefore we make 3 new equations that do exactly this."
   ]
  },
  {
   "cell_type": "code",
   "execution_count": 30,
   "id": "11b15a08-1663-4c76-9db5-2140886a445f",
   "metadata": {},
   "outputs": [
    {
     "name": "stdout",
     "output_type": "stream",
     "text": [
      "With the given parameter values. Physical capital per effective worker is in steady state:\n"
     ]
    },
    {
     "data": {
      "text/latex": [
       "$\\displaystyle \\tilde{k}^{*} = 1.40466392318244$"
      ],
      "text/plain": [
       "Eq(ktilde^*, 1.40466392318244)"
      ]
     },
     "metadata": {},
     "output_type": "display_data"
    },
    {
     "name": "stdout",
     "output_type": "stream",
     "text": [
      "With the given parameter values. Human capital per effective worker is in steady state:\n"
     ]
    },
    {
     "data": {
      "text/latex": [
       "$\\displaystyle \\tilde{h}^{*} = 0.312147538484987$"
      ],
      "text/plain": [
       "Eq(htilde^*, 0.312147538484987)"
      ]
     },
     "metadata": {},
     "output_type": "display_data"
    },
    {
     "name": "stdout",
     "output_type": "stream",
     "text": [
      "With the given parameter values. GDP per worker is in steady state:\n"
     ]
    },
    {
     "data": {
      "text/latex": [
       "$\\displaystyle y^{*} = 1.58024691358025$"
      ],
      "text/plain": [
       "Eq(y^*, 1.58024691358025)"
      ]
     },
     "metadata": {},
     "output_type": "display_data"
    }
   ],
   "source": [
    "down_paren2 = (n+g+delta+n*g)\n",
    "power111 = (1/(1-alpha-phi))\n",
    "power22 = ((alpha+phi)/(1-alpha-phi)) #Again both of these lines are just because of cleaner code\n",
    "\n",
    "k_ex_ss_value = sm.Eq(k_tilde_star_ex,(((sk/(n+g+delta+tau+n*g))*((tau**phi)/((n+g+delta+n*g)**phi)))**(1/(1-alpha-phi))))\n",
    "h_ex_ss_value = sm.Eq(h_tilde_star_ex,(((sk/(down_paren2+tau))*((tau**(1-alpha))/((down_paren2+tau)**(1-alpha))))**power111))\n",
    "y_ex_ss_value = sm.Eq(y_star_ex,A*(((tau/(down_paren2))**(phi/(1-alpha-phi)))*((sk/(down_paren2+tau))**power22)))\n",
    "print('With the given parameter values. Physical capital per effective worker is in steady state:')\n",
    "display(k_ex_ss_value)\n",
    "print('With the given parameter values. Human capital per effective worker is in steady state:')\n",
    "display(h_ex_ss_value)\n",
    "print('With the given parameter values. GDP per worker is in steady state:')\n",
    "display(y_ex_ss_value)"
   ]
  },
  {
   "cell_type": "markdown",
   "id": "cbb91aee-c151-4413-89b1-88bf1851244b",
   "metadata": {},
   "source": [
    "ADD some intuition and a conclusion/closing remarks!!!"
   ]
  },
  {
   "cell_type": "markdown",
   "id": "b333591d-437c-4747-8fa9-197e57e74c42",
   "metadata": {},
   "source": [
    "# Solving the model numerically"
   ]
  },
  {
   "cell_type": "code",
   "execution_count": 32,
   "id": "a6ee0c6e-f903-4d47-8b05-9e38855895d0",
   "metadata": {},
   "outputs": [
    {
     "name": "stdout",
     "output_type": "stream",
     "text": [
      "Steady state of physical capital per effective worker, found numerically, is:\n",
      "(1.4046639231837617,       converged: True\n",
      "           flag: 'converged'\n",
      " function_calls: 42\n",
      "     iterations: 40\n",
      "           root: 1.4046639231837617)\n",
      "Steady state of human capital per effective worker, found numerically, is:\n",
      "(0.31214753848507826,       converged: True\n",
      "           flag: 'converged'\n",
      " function_calls: 41\n",
      "     iterations: 39\n",
      "           root: 0.31214753848507826)\n",
      "Steady state of GDP per worker, found numerically, is:\n",
      "(1.5802469135796855,       converged: True\n",
      "           flag: 'converged'\n",
      " function_calls: 41\n",
      "     iterations: 39\n",
      "           root: 1.5802469135796855)\n"
     ]
    }
   ],
   "source": [
    "print('Steady state of physical capital per effective worker, found numerically, is:')\n",
    "print(mp.bisect4(1,3))\n",
    "\n",
    "print('Steady state of human capital per effective worker, found numerically, is:')\n",
    "print(mp.bisect5(0,1))\n",
    "\n",
    "print('Steady state of GDP per worker, found numerically, is:')\n",
    "print(mp.bisect6(1,2))"
   ]
  },
  {
   "cell_type": "markdown",
   "id": "0b7527ad-afae-4050-b2c1-9c56eb7cf961",
   "metadata": {},
   "source": [
    "Higher tau equals lower values for all three, so they are negative dependent on tau."
   ]
  },
  {
   "cell_type": "markdown",
   "id": "2c1306eb-2fd7-4347-9690-539acdf0fe1d",
   "metadata": {
    "tags": []
   },
   "source": [
    "# Interactive phase diagram"
   ]
  },
  {
   "cell_type": "code",
   "execution_count": null,
   "id": "d8b066db-5e28-470e-baa8-e56f08249dfb",
   "metadata": {},
   "outputs": [],
   "source": []
  },
  {
   "cell_type": "markdown",
   "id": "f199900e-696f-4c03-bed4-4cec119c1173",
   "metadata": {},
   "source": [
    "## Graph showing the different ${y^*}$ values, for the two models"
   ]
  },
  {
   "cell_type": "code",
   "execution_count": null,
   "id": "03446bc1-4545-4a0b-8938-2f7507a13586",
   "metadata": {},
   "outputs": [],
   "source": []
  }
 ],
 "metadata": {
  "kernelspec": {
   "display_name": "Python 3 (ipykernel)",
   "language": "python",
   "name": "python3"
  },
  "language_info": {
   "codemirror_mode": {
    "name": "ipython",
    "version": 3
   },
   "file_extension": ".py",
   "mimetype": "text/x-python",
   "name": "python",
   "nbconvert_exporter": "python",
   "pygments_lexer": "ipython3",
   "version": "3.9.7"
  }
 },
 "nbformat": 4,
 "nbformat_minor": 5
}
