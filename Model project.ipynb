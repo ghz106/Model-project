{
 "cells": [
  {
   "cell_type": "code",
   "execution_count": 1,
   "id": "6ff1144e-2b2d-4d61-ba06-2e042e25a354",
   "metadata": {},
   "outputs": [],
   "source": [
    "import types\n",
    "import sympy as sm\n",
    "#import SimpleNamespace()"
   ]
  },
  {
   "cell_type": "markdown",
   "id": "fca61e1b-3457-4f2f-a8ab-6bdeafe31f25",
   "metadata": {},
   "source": [
    "In this model project we want to solve the Solow model with humancapital. We take the model from 'Introducing Advanced Macroeconomics - Growth and Business Cycles'. 3 edition 2022, Sørensen, Peter Birch and Whitta-Jacobsen, Hans Jørgen."
   ]
  },
  {
   "cell_type": "markdown",
   "id": "9969c67b-a2d2-44b0-94b1-230df9d48093",
   "metadata": {},
   "source": [
    "The Solow model with human capital from Mankiw, Weil and Romer is an extenstion of the general Solow model, that helps explain why international investments does not flow to poorer countries as predicted by the general Solow model. The modification finds itself in the addition of human capital, which is mostly measured as years of education and experience in general, and sheds light on why some countries are rich and some are poor. "
   ]
  },
  {
   "cell_type": "markdown",
   "id": "c5d02719-7ebe-4159-828c-0c3494438544",
   "metadata": {},
   "source": [
    "# The model\n",
    "\n",
    "The Solow model with human capital is given with these equations:\n",
    "\n",
    "\\begin{align}\n",
    "Y_t & = K_t^{\\alpha} H_t ^\\varphi (A_t L_t)^{1-\\alpha-\\phi}, &0<\\alpha,\\varphi<1, \\ \\alpha+\\varphi < 1 \\\\\n",
    "r_t & = \\alpha (\\frac{K_t} {A_t L_t})^{\\alpha-1} (\\frac{H_t} {A_t L_t}) ^\\phi \\\\\n",
    "w_t & = (1-\\alpha) (\\frac{K_t} {A_t L_t})^\\alpha (\\frac{H_t} {A_t L_t})^\\phi A_t \\\\\n",
    "K_{t+1} & = s_K Y_t + (1-\\delta)K_t, \\\\\n",
    "H_{t+1} & = s_H Y_t + (1-\\delta)K_t, \\\\\n",
    "L_{t+1} & = (1+n) L_t, \\\\\n",
    "A_{t+1} & = (1+g) A_t,\n",
    "\\end{align}\n",
    "where $s_h + s_k < 1$."
   ]
  },
  {
   "cell_type": "code",
   "execution_count": null,
   "id": "6ebee767-37e0-4a61-a3e7-d37fa16ecd09",
   "metadata": {},
   "outputs": [],
   "source": []
  }
 ],
 "metadata": {
  "kernelspec": {
   "display_name": "Python 3 (ipykernel)",
   "language": "python",
   "name": "python3"
  },
  "language_info": {
   "codemirror_mode": {
    "name": "ipython",
    "version": 3
   },
   "file_extension": ".py",
   "mimetype": "text/x-python",
   "name": "python",
   "nbconvert_exporter": "python",
   "pygments_lexer": "ipython3",
   "version": "3.9.7"
  }
 },
 "nbformat": 4,
 "nbformat_minor": 5
}
