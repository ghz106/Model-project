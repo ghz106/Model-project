{
 "cells": [
  {
   "cell_type": "code",
   "execution_count": 1,
   "id": "23d0f818-068f-427d-9ba3-bd55a1885f8f",
   "metadata": {},
   "outputs": [],
   "source": [
    "import numpy as np\n",
    "import sympy as sm\n",
    "import matplotlib.pyplot as plt\n",
    "import ipywidgets as widgets\n",
    "from scipy import optimize"
   ]
  },
  {
   "cell_type": "markdown",
   "id": "321f5d8e-b3b6-4112-9800-d03f0db30abe",
   "metadata": {},
   "source": [
    "In this model project we want to solve the Solow model with humancapital. We take the model from 'Introducing Advanced Macroeconomics - Growth and Business Cycles'. 3 edition 2022, Sørensen, Peter Birch and Whitta-Jacobsen, Hans Jørgen."
   ]
  },
  {
   "cell_type": "markdown",
   "id": "9969c67b-a2d2-44b0-94b1-230df9d48093",
   "metadata": {},
   "source": [
    "The Solow model with human capital from Mankiw, Weil and Romer is an extenstion of the general Solow model, that helps explain why international investments does not flow to poorer countries as predicted by the general Solow model. The modification finds itself in the addition of human capital, which is mostly measured as years of education and experience in general, and sheds greater light on why some countries are rich and some are poor. "
   ]
  },
  {
   "cell_type": "markdown",
   "id": "c5d02719-7ebe-4159-828c-0c3494438544",
   "metadata": {},
   "source": [
    "# The model"
   ]
  },
  {
   "cell_type": "code",
   "execution_count": 2,
   "id": "2623643e-c4e2-4a4d-b8ae-e3a3028b13ed",
   "metadata": {},
   "outputs": [],
   "source": [
    "#First we define all the parameters and variables using sympy\n",
    "Y = sm.symbols('Y_t')           #Output\n",
    "K = sm.symbols('K_t')           #Physical capital\n",
    "alpha = sm.symbols('alpha')     #Income share of capital and labour\n",
    "H = sm.symbols('H_t')           #Human Capital\n",
    "phi = sm.symbols('phi')         #Income share of Human capital\n",
    "A = sm.symbols('A_t')           #Technology\n",
    "L = sm.symbols('L_t')           #Labour\n",
    "r = sm.symbols('r_t')           #Real rentan rate on capital\n",
    "w = sm.symbols('w_t')           #Real wage\n",
    "n = sm.symbols('n')             #Growth rate of Labour\n",
    "g = sm.symbols('g')             #Growth rate of technology\n",
    "K1 = sm.symbols('K_{t+1}')      #Capital in the next period\n",
    "sk = sm.symbols('s_K')          #Savings rate on physical capital\n",
    "sh = sm.symbols('s_H')          #Savings rate on human capital\n",
    "H1 = sm.symbols('H_{t+1}')      #Human capital in the next period\n",
    "delta = sm.symbols('delta')     #Depreciation rate (both on physical and human capital!)\n",
    "L1 = sm.symbols('L_{t+1}')      #Labour in the next period\n",
    "A1 = sm.symbols('A_{t+1}')      #Technology in the next period"
   ]
  },
  {
   "cell_type": "code",
   "execution_count": 3,
   "id": "aeb930bf-e034-49bd-ba17-44208908f327",
   "metadata": {},
   "outputs": [
    {
     "data": {
      "text/latex": [
       "$\\displaystyle Y_{t} = H_{t}^{\\phi} K_{t}^{\\alpha} \\left(A_{t} L_{t}\\right)^{- \\alpha - \\phi + 1}$"
      ],
      "text/plain": [
       "Eq(Y_t, H_t**phi*K_t**alpha*(A_t*L_t)**(-alpha - phi + 1))"
      ]
     },
     "metadata": {},
     "output_type": "display_data"
    },
    {
     "data": {
      "text/latex": [
       "$\\displaystyle r_{t} = \\alpha \\left(\\frac{H_{t}}{A_{t} L_{t}}\\right)^{\\phi} \\left(\\frac{K_{t}}{A_{t} L_{t}}\\right)^{\\alpha - 1}$"
      ],
      "text/plain": [
       "Eq(r_t, alpha*(H_t/(A_t*L_t))**phi*(K_t/(A_t*L_t))**(alpha - 1))"
      ]
     },
     "metadata": {},
     "output_type": "display_data"
    },
    {
     "data": {
      "text/latex": [
       "$\\displaystyle w_{t} = A_{t} \\left(\\frac{H_{t}}{A_{t} L_{t}}\\right)^{\\phi} \\left(\\frac{K_{t}}{A_{t} L_{t}}\\right)^{\\alpha} \\left(1 - \\alpha\\right)$"
      ],
      "text/plain": [
       "Eq(w_t, A_t*(H_t/(A_t*L_t))**phi*(K_t/(A_t*L_t))**alpha*(1 - alpha))"
      ]
     },
     "metadata": {},
     "output_type": "display_data"
    },
    {
     "data": {
      "text/latex": [
       "$\\displaystyle K_{t+1} = K_{t} \\left(1 - \\delta\\right) + Y_{t} s_{K}$"
      ],
      "text/plain": [
       "Eq(K_{t+1}, K_t*(1 - delta) + Y_t*s_K)"
      ]
     },
     "metadata": {},
     "output_type": "display_data"
    },
    {
     "data": {
      "text/latex": [
       "$\\displaystyle H_{t+1} = H_{t} \\left(1 - \\delta\\right) + Y_{t} s_{H}$"
      ],
      "text/plain": [
       "Eq(H_{t+1}, H_t*(1 - delta) + Y_t*s_H)"
      ]
     },
     "metadata": {},
     "output_type": "display_data"
    },
    {
     "data": {
      "text/latex": [
       "$\\displaystyle L_{t+1} = L_{t} \\left(n + 1\\right)$"
      ],
      "text/plain": [
       "Eq(L_{t+1}, L_t*(n + 1))"
      ]
     },
     "metadata": {},
     "output_type": "display_data"
    },
    {
     "data": {
      "text/latex": [
       "$\\displaystyle A_{t+1} = A_{t} \\left(g + 1\\right)$"
      ],
      "text/plain": [
       "Eq(A_{t+1}, A_t*(g + 1))"
      ]
     },
     "metadata": {},
     "output_type": "display_data"
    }
   ],
   "source": [
    "#Here we create all the equations of the model and displays them again using sympy\n",
    "Y_t = sm.Eq(Y, (K**alpha*H**phi)*(A*L)**(1-alpha-phi))\n",
    "r_t = sm.Eq(r, alpha*(K/(A*L))**(alpha-1)*(H/(A*L))**phi)\n",
    "w_t = sm.Eq(w, (1-alpha)*(K/(A*L))**alpha*(H/(A*L))**phi*A)\n",
    "K_t1 = sm.Eq(K1, sk*Y+(1-delta)*K)\n",
    "H_t1 = sm.Eq(H1, sh*Y+(1-delta)*H)\n",
    "L_t1 = sm.Eq(L1, (1+n)*L)\n",
    "A_t1 = sm.Eq(A1, (1+g)*A)\n",
    "display(Y_t, r_t, w_t, K_t1, H_t1, L_t1, A_t1)"
   ]
  },
  {
   "cell_type": "markdown",
   "id": "1fe3ef51-6660-4d07-9734-01314cfdb182",
   "metadata": {},
   "source": [
    "The Solow model with human capital is given with these equations. 1) stating that output is given as a Cobb-Douglas production function. 2 and 3) stating that the real rental rate on capital and real wage is given from the marginalproduct of capital and labour respectively. 4 and 5) stating the accumulation equation of capital and human capital. 6) stating that labour grows with the exogeneously rate of n. 7) stating that technology grows with the exogeneously rate of g."
   ]
  },
  {
   "cell_type": "markdown",
   "id": "8704d9ce-87ba-4ec1-b9cd-23a20e79fe63",
   "metadata": {},
   "source": [
    "# Solving the model analytically (symbolicaly) "
   ]
  },
  {
   "cell_type": "markdown",
   "id": "130faee8-2147-412e-a1fb-74080c1b9a92",
   "metadata": {},
   "source": [
    "First we would like to solve the model symbolically with sympy meaning that we find the steady state values to thereafter solve for different values of steady state. We begin by defining the Solow eqautions."
   ]
  },
  {
   "cell_type": "code",
   "execution_count": 13,
   "id": "39d6514b-5e67-4d4e-af49-8d6c9c9bf514",
   "metadata": {},
   "outputs": [],
   "source": [
    "#First we define the numerous new symbols with sympy\n",
    "h_tilde = sm.symbols('htilde_t')       #Human capital per effective worker\n",
    "h_tilde1 = sm.symbols('htilde_{t+1}')      #Human capital per worker in the next period\n",
    "k_tilde = sm.symbols('ktilde_t')       #Capital per effective worker\n",
    "k_tilde1 = sm.symbols('ktilde_{t+1}')  #Capital per effective worker in next period"
   ]
  },
  {
   "cell_type": "markdown",
   "id": "dd09fa81-f869-40b0-950e-c0c57f3d5f11",
   "metadata": {},
   "source": [
    "For simplicity and time consumption we state the Solow equations down under. (Sympy cannot have operand types of - and so on on the left hand side, so therefore it is written in Latex form)"
   ]
  },
  {
   "cell_type": "markdown",
   "id": "d8cd772e-81a9-43e1-ab15-e784d0d0b673",
   "metadata": {},
   "source": [
    "\\begin{equation}\n",
    "\\tilde{k}_{t+1} - \\tilde{k}_t = \\frac{1}{(1+n)(1+g)}(s_K \\tilde{k}_t^{\\alpha} \\tilde{h}_t^{\\phi} - (n+g+\\delta +ng)\\tilde{k}_t)\n",
    "\\end{equation}\n",
    "\\begin{equation}\n",
    "\\tilde{h}_{t+1} - \\tilde{h}_t = \\frac{1}{(1+n)(1+g)}(s_H \\tilde{k}_t^{\\alpha} \\tilde{h}_t^{\\phi} - (n+g+\\delta +ng)\\tilde{h}_t)\n",
    "\\end{equation}"
   ]
  },
  {
   "cell_type": "markdown",
   "id": "637e2bd7-b779-49c5-b99d-670945d8acc8",
   "metadata": {},
   "source": [
    "As we know analytically these equations can be solved to find steady state by setting k_tilde{t+1} and k_tilde equal to eachother and solving for h_tilde. That is the same as solving the right hand side and the left hand side in the big parenthesis should be equal to eachother."
   ]
  },
  {
   "cell_type": "code",
   "execution_count": 14,
   "id": "d2f752de-1d26-4776-befb-0dca8e74807f",
   "metadata": {},
   "outputs": [
    {
     "data": {
      "text/latex": [
       "$\\displaystyle \\tilde{h}_{t}^{\\phi} \\tilde{k}_{t}^{\\alpha} s_{K} - \\tilde{k}_{t} \\left(\\delta + g n + g + n\\right) = 0$"
      ],
      "text/plain": [
       "Eq(htilde_t**phi*ktilde_t**alpha*s_K - ktilde_t*(delta + g*n + g + n), 0)"
      ]
     },
     "metadata": {},
     "output_type": "display_data"
    },
    {
     "data": {
      "text/latex": [
       "$\\displaystyle - \\tilde{h}_{t} \\left(\\delta + g n + g + n\\right) + \\tilde{h}_{t}^{\\phi} \\tilde{k}_{t}^{\\alpha} s_{H} = 0$"
      ],
      "text/plain": [
       "Eq(-htilde_t*(delta + g*n + g + n) + htilde_t**phi*ktilde_t**alpha*s_H, 0)"
      ]
     },
     "metadata": {},
     "output_type": "display_data"
    }
   ],
   "source": [
    "#Here we create the equations to be solved\n",
    "h_tilde_phi = h_tilde**phi\n",
    "k_tilde_alpha = k_tilde**alpha\n",
    "k = sm.Eq(sk * k_tilde_alpha * h_tilde_phi - (n + g + delta + n * g) * k_tilde, 0)\n",
    "h = sm.Eq(sh * k_tilde_alpha * h_tilde_phi - (n + g+ delta + n * g) * h_tilde, 0)\n",
    "display(k, h)"
   ]
  },
  {
   "cell_type": "markdown",
   "id": "6ca069ff-ecf5-4328-9fae-fd6007723082",
   "metadata": {},
   "source": [
    "Now we can solve this for k_tilde and h_tilde respectively by isolating k_tilde in the first eqaution and h_tilde in the second equation."
   ]
  },
  {
   "cell_type": "code",
   "execution_count": 15,
   "id": "8aaf9a8b-15a2-4f96-9d6c-b2b34a95f0b6",
   "metadata": {},
   "outputs": [
    {
     "data": {
      "text/latex": [
       "$\\displaystyle \\left(\\frac{\\tilde{h}_{t}^{- \\phi} \\left(\\delta + g n + g + n\\right)}{s_{K}}\\right)^{\\frac{1}{\\alpha - 1}}$"
      ],
      "text/plain": [
       "((delta + g*n + g + n)/(htilde_t**phi*s_K))**(1/(alpha - 1))"
      ]
     },
     "metadata": {},
     "output_type": "display_data"
    },
    {
     "data": {
      "text/latex": [
       "$\\displaystyle \\left(\\frac{\\tilde{k}_{t}^{- \\alpha} \\left(\\delta + g n + g + n\\right)}{s_{H}}\\right)^{\\frac{1}{\\phi - 1}}$"
      ],
      "text/plain": [
       "((delta + g*n + g + n)/(ktilde_t**alpha*s_H))**(1/(phi - 1))"
      ]
     },
     "metadata": {},
     "output_type": "display_data"
    }
   ],
   "source": [
    "k_solve = sm.solve(k, k_tilde)[0]\n",
    "h_solve = sm.solve(h, h_tilde)[0]\n",
    "display(k_solve, h_solve)"
   ]
  },
  {
   "cell_type": "markdown",
   "id": "6cdb992e-9d9e-46b9-99d2-23c3496a6894",
   "metadata": {},
   "source": [
    "Now that we know what k_tilde and h_tilde is equal to we insert this in the k and h equations respectively."
   ]
  },
  {
   "cell_type": "code",
   "execution_count": 16,
   "id": "198c6782-918a-4146-9111-16efe78b723d",
   "metadata": {},
   "outputs": [
    {
     "data": {
      "text/latex": [
       "$\\displaystyle \\tilde{h}_{t}^{\\phi} s_{K} \\left(\\left(\\frac{\\tilde{h}_{t}^{- \\phi} \\left(\\delta + g n + g + n\\right)}{s_{K}}\\right)^{\\frac{1}{\\alpha - 1}}\\right)^{\\alpha} - \\left(\\frac{\\tilde{h}_{t}^{- \\phi} \\left(\\delta + g n + g + n\\right)}{s_{K}}\\right)^{\\frac{1}{\\alpha - 1}} \\left(\\delta + g n + g + n\\right) = 0$"
      ],
      "text/plain": [
       "Eq(htilde_t**phi*s_K*(((delta + g*n + g + n)/(htilde_t**phi*s_K))**(1/(alpha - 1)))**alpha - ((delta + g*n + g + n)/(htilde_t**phi*s_K))**(1/(alpha - 1))*(delta + g*n + g + n), 0)"
      ]
     },
     "metadata": {},
     "output_type": "display_data"
    },
    {
     "data": {
      "text/latex": [
       "$\\displaystyle \\tilde{k}_{t}^{\\alpha} s_{H} \\left(\\left(\\frac{\\tilde{k}_{t}^{- \\alpha} \\left(\\delta + g n + g + n\\right)}{s_{H}}\\right)^{\\frac{1}{\\phi - 1}}\\right)^{\\phi} - \\left(\\frac{\\tilde{k}_{t}^{- \\alpha} \\left(\\delta + g n + g + n\\right)}{s_{H}}\\right)^{\\frac{1}{\\phi - 1}} \\left(\\delta + g n + g + n\\right) = 0$"
      ],
      "text/plain": [
       "Eq(ktilde_t**alpha*s_H*(((delta + g*n + g + n)/(ktilde_t**alpha*s_H))**(1/(phi - 1)))**phi - ((delta + g*n + g + n)/(ktilde_t**alpha*s_H))**(1/(phi - 1))*(delta + g*n + g + n), 0)"
      ]
     },
     "metadata": {},
     "output_type": "display_data"
    }
   ],
   "source": [
    "#For k_tilde we inset the above equation onto k_tilde place in the k eqaution\n",
    "k_solve_alpha = k_solve**alpha\n",
    "k_inset = sm.Eq(sk * k_solve_alpha * h_tilde_phi - (n + g + delta + n * g) * k_solve, 0)\n",
    "#For h_tilde we do the same. So inset it in the h equation\n",
    "h_solve_phi = h_solve**phi\n",
    "h_inset = sm.Eq(sh * k_tilde_alpha * h_solve_phi - (n + g+ delta + n * g) * h_solve, 0)\n",
    "display(k_inset, h_inset)"
   ]
  },
  {
   "cell_type": "markdown",
   "id": "c1f83e60-f80d-4ebd-b203-0ad189055a94",
   "metadata": {},
   "source": [
    "Now all that is left to do is to solve for h_tilde and k_tilde respectively and we get the steady state value for h_tilde and k_tilde."
   ]
  },
  {
   "cell_type": "code",
   "execution_count": 18,
   "id": "e8508653-3c5c-44ab-9fad-012746602de7",
   "metadata": {},
   "outputs": [
    {
     "ename": "NotImplementedError",
     "evalue": "multiple generators [((delta/(htilde_t**phi*s_K) + g*n/(htilde_t**phi*s_K) + g/(htilde_t**phi*s_K) + n/(htilde_t**phi*s_K))**(1/(alpha - 1)))**alpha, (delta/(htilde_t**phi*s_K) + g*n/(htilde_t**phi*s_K) + g/(htilde_t**phi*s_K) + n/(htilde_t**phi*s_K))**(1/(alpha - 1)), htilde_t**phi]\nNo algorithms are implemented to solve equation htilde_t**phi*s_K*(((delta + g*n + g + n)/(htilde_t**phi*s_K))**(1/(alpha - 1)))**alpha - ((delta + g*n + g + n)/(htilde_t**phi*s_K))**(1/(alpha - 1))*(delta + g*n + g + n) + 0",
     "output_type": "error",
     "traceback": [
      "\u001b[0;31m---------------------------------------------------------------------------\u001b[0m",
      "\u001b[0;31mNotImplementedError\u001b[0m                       Traceback (most recent call last)",
      "\u001b[0;32m/var/folders/5x/nmt_pwm97b5123_td6099w_r0000gn/T/ipykernel_4737/3681120944.py\u001b[0m in \u001b[0;36m<module>\u001b[0;34m\u001b[0m\n\u001b[0;32m----> 1\u001b[0;31m \u001b[0mk_ss\u001b[0m \u001b[0;34m=\u001b[0m \u001b[0msm\u001b[0m\u001b[0;34m.\u001b[0m\u001b[0msolve\u001b[0m\u001b[0;34m(\u001b[0m\u001b[0mk_inset\u001b[0m\u001b[0;34m,\u001b[0m \u001b[0mh_tilde\u001b[0m\u001b[0;34m)\u001b[0m\u001b[0;34m[\u001b[0m\u001b[0;36m0\u001b[0m\u001b[0;34m]\u001b[0m\u001b[0;34m\u001b[0m\u001b[0;34m\u001b[0m\u001b[0m\n\u001b[0m\u001b[1;32m      2\u001b[0m \u001b[0;31m#h_ss = sm.solve(h_inset, k_tilde)[0]\u001b[0m\u001b[0;34m\u001b[0m\u001b[0;34m\u001b[0m\u001b[0m\n\u001b[1;32m      3\u001b[0m \u001b[0mdisplay\u001b[0m\u001b[0;34m(\u001b[0m\u001b[0mk_ss\u001b[0m\u001b[0;34m)\u001b[0m\u001b[0;34m\u001b[0m\u001b[0;34m\u001b[0m\u001b[0m\n",
      "\u001b[0;32m~/opt/anaconda3/lib/python3.9/site-packages/sympy/solvers/solvers.py\u001b[0m in \u001b[0;36msolve\u001b[0;34m(f, *symbols, **flags)\u001b[0m\n\u001b[1;32m   1093\u001b[0m     \u001b[0;31m###########################################################################\u001b[0m\u001b[0;34m\u001b[0m\u001b[0;34m\u001b[0m\u001b[0m\n\u001b[1;32m   1094\u001b[0m     \u001b[0;32mif\u001b[0m \u001b[0mbare_f\u001b[0m\u001b[0;34m:\u001b[0m\u001b[0;34m\u001b[0m\u001b[0;34m\u001b[0m\u001b[0m\n\u001b[0;32m-> 1095\u001b[0;31m         \u001b[0msolution\u001b[0m \u001b[0;34m=\u001b[0m \u001b[0m_solve\u001b[0m\u001b[0;34m(\u001b[0m\u001b[0mf\u001b[0m\u001b[0;34m[\u001b[0m\u001b[0;36m0\u001b[0m\u001b[0;34m]\u001b[0m\u001b[0;34m,\u001b[0m \u001b[0;34m*\u001b[0m\u001b[0msymbols\u001b[0m\u001b[0;34m,\u001b[0m \u001b[0;34m**\u001b[0m\u001b[0mflags\u001b[0m\u001b[0;34m)\u001b[0m\u001b[0;34m\u001b[0m\u001b[0;34m\u001b[0m\u001b[0m\n\u001b[0m\u001b[1;32m   1096\u001b[0m     \u001b[0;32melse\u001b[0m\u001b[0;34m:\u001b[0m\u001b[0;34m\u001b[0m\u001b[0;34m\u001b[0m\u001b[0m\n\u001b[1;32m   1097\u001b[0m         \u001b[0msolution\u001b[0m \u001b[0;34m=\u001b[0m \u001b[0m_solve_system\u001b[0m\u001b[0;34m(\u001b[0m\u001b[0mf\u001b[0m\u001b[0;34m,\u001b[0m \u001b[0msymbols\u001b[0m\u001b[0;34m,\u001b[0m \u001b[0;34m**\u001b[0m\u001b[0mflags\u001b[0m\u001b[0;34m)\u001b[0m\u001b[0;34m\u001b[0m\u001b[0;34m\u001b[0m\u001b[0m\n",
      "\u001b[0;32m~/opt/anaconda3/lib/python3.9/site-packages/sympy/solvers/solvers.py\u001b[0m in \u001b[0;36m_solve\u001b[0;34m(f, *symbols, **flags)\u001b[0m\n\u001b[1;32m   1707\u001b[0m \u001b[0;34m\u001b[0m\u001b[0m\n\u001b[1;32m   1708\u001b[0m     \u001b[0;32mif\u001b[0m \u001b[0mresult\u001b[0m \u001b[0;32mis\u001b[0m \u001b[0;32mFalse\u001b[0m\u001b[0;34m:\u001b[0m\u001b[0;34m\u001b[0m\u001b[0;34m\u001b[0m\u001b[0m\n\u001b[0;32m-> 1709\u001b[0;31m         \u001b[0;32mraise\u001b[0m \u001b[0mNotImplementedError\u001b[0m\u001b[0;34m(\u001b[0m\u001b[0;34m'\\n'\u001b[0m\u001b[0;34m.\u001b[0m\u001b[0mjoin\u001b[0m\u001b[0;34m(\u001b[0m\u001b[0;34m[\u001b[0m\u001b[0mmsg\u001b[0m\u001b[0;34m,\u001b[0m \u001b[0mnot_impl_msg\u001b[0m \u001b[0;34m%\u001b[0m \u001b[0mf\u001b[0m\u001b[0;34m]\u001b[0m\u001b[0;34m)\u001b[0m\u001b[0;34m)\u001b[0m\u001b[0;34m\u001b[0m\u001b[0;34m\u001b[0m\u001b[0m\n\u001b[0m\u001b[1;32m   1710\u001b[0m \u001b[0;34m\u001b[0m\u001b[0m\n\u001b[1;32m   1711\u001b[0m     \u001b[0;32mif\u001b[0m \u001b[0mflags\u001b[0m\u001b[0;34m.\u001b[0m\u001b[0mget\u001b[0m\u001b[0;34m(\u001b[0m\u001b[0;34m'simplify'\u001b[0m\u001b[0;34m,\u001b[0m \u001b[0;32mTrue\u001b[0m\u001b[0;34m)\u001b[0m\u001b[0;34m:\u001b[0m\u001b[0;34m\u001b[0m\u001b[0;34m\u001b[0m\u001b[0m\n",
      "\u001b[0;31mNotImplementedError\u001b[0m: multiple generators [((delta/(htilde_t**phi*s_K) + g*n/(htilde_t**phi*s_K) + g/(htilde_t**phi*s_K) + n/(htilde_t**phi*s_K))**(1/(alpha - 1)))**alpha, (delta/(htilde_t**phi*s_K) + g*n/(htilde_t**phi*s_K) + g/(htilde_t**phi*s_K) + n/(htilde_t**phi*s_K))**(1/(alpha - 1)), htilde_t**phi]\nNo algorithms are implemented to solve equation htilde_t**phi*s_K*(((delta + g*n + g + n)/(htilde_t**phi*s_K))**(1/(alpha - 1)))**alpha - ((delta + g*n + g + n)/(htilde_t**phi*s_K))**(1/(alpha - 1))*(delta + g*n + g + n) + 0"
     ]
    }
   ],
   "source": [
    "k_ss = sm.solve(k_inset, k_tilde)[0]\n",
    "h_ss = sm.solve(h_inset, k_tilde)[0]\n",
    "display(k_ss, h_ss)"
   ]
  },
  {
   "cell_type": "markdown",
   "id": "019f673d-d3ab-46fd-92f8-5d39db5b7ac5",
   "metadata": {},
   "source": [
    "So we get our steady state values of k_tilde and h_tilde to be:"
   ]
  },
  {
   "cell_type": "code",
   "execution_count": 24,
   "id": "c43947ed-9e25-44bd-9a81-b41f867c9f91",
   "metadata": {},
   "outputs": [],
   "source": [
    "#print('h_tilde^* is {hss})\n",
    "#print('k_tilde^* is {kss})"
   ]
  },
  {
   "cell_type": "markdown",
   "id": "5954f427-3fb0-41f9-9bc8-27ca9ec38194",
   "metadata": {},
   "source": [
    "# Interactive phase diagram"
   ]
  },
  {
   "cell_type": "markdown",
   "id": "660ca089-7590-4ff1-9a6b-8cd5f0dc8b17",
   "metadata": {},
   "source": [
    "# Solving the model numerically"
   ]
  },
  {
   "cell_type": "code",
   "execution_count": null,
   "id": "a6b08403-4fa1-41e1-93ae-1666a6ee2a1a",
   "metadata": {},
   "outputs": [],
   "source": []
  }
 ],
 "metadata": {
  "kernelspec": {
   "display_name": "Python 3 (ipykernel)",
   "language": "python",
   "name": "python3"
  },
  "language_info": {
   "codemirror_mode": {
    "name": "ipython",
    "version": 3
   },
   "file_extension": ".py",
   "mimetype": "text/x-python",
   "name": "python",
   "nbconvert_exporter": "python",
   "pygments_lexer": "ipython3",
   "version": "3.9.7"
  }
 },
 "nbformat": 4,
 "nbformat_minor": 5
}
